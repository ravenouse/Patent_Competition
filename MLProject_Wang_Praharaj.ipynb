{
  "nbformat": 4,
  "nbformat_minor": 0,
  "metadata": {
    "colab": {
      "name": "MLProject_Wang_Praharaj.ipynb",
      "provenance": [],
      "collapsed_sections": []
    },
    "kernelspec": {
      "name": "python3",
      "display_name": "Python 3"
    },
    "language_info": {
      "name": "python"
    },
    "accelerator": "GPU",
    "widgets": {
      "application/vnd.jupyter.widget-state+json": {
        "33631e26606a4db4bb18e0792bc2658b": {
          "model_module": "@jupyter-widgets/controls",
          "model_name": "HBoxModel",
          "model_module_version": "1.5.0",
          "state": {
            "_dom_classes": [],
            "_model_module": "@jupyter-widgets/controls",
            "_model_module_version": "1.5.0",
            "_model_name": "HBoxModel",
            "_view_count": null,
            "_view_module": "@jupyter-widgets/controls",
            "_view_module_version": "1.5.0",
            "_view_name": "HBoxView",
            "box_style": "",
            "children": [
              "IPY_MODEL_1aae21f1d6364ee38556fc7ee7324d8e",
              "IPY_MODEL_61a74d7f49ae4ae5b5489d0d6e152da4",
              "IPY_MODEL_e761af00b75e4970a218ffcfbe829dc6"
            ],
            "layout": "IPY_MODEL_df12b368a67e4419bab651b9189ecc99"
          }
        },
        "1aae21f1d6364ee38556fc7ee7324d8e": {
          "model_module": "@jupyter-widgets/controls",
          "model_name": "HTMLModel",
          "model_module_version": "1.5.0",
          "state": {
            "_dom_classes": [],
            "_model_module": "@jupyter-widgets/controls",
            "_model_module_version": "1.5.0",
            "_model_name": "HTMLModel",
            "_view_count": null,
            "_view_module": "@jupyter-widgets/controls",
            "_view_module_version": "1.5.0",
            "_view_name": "HTMLView",
            "description": "",
            "description_tooltip": null,
            "layout": "IPY_MODEL_8bed5eb58bb34a7da3f68f203c3ed9e3",
            "placeholder": "​",
            "style": "IPY_MODEL_3f64f06824504c9d8edbd1d3c1cc9d2a",
            "value": "Downloading: 100%"
          }
        },
        "61a74d7f49ae4ae5b5489d0d6e152da4": {
          "model_module": "@jupyter-widgets/controls",
          "model_name": "FloatProgressModel",
          "model_module_version": "1.5.0",
          "state": {
            "_dom_classes": [],
            "_model_module": "@jupyter-widgets/controls",
            "_model_module_version": "1.5.0",
            "_model_name": "FloatProgressModel",
            "_view_count": null,
            "_view_module": "@jupyter-widgets/controls",
            "_view_module_version": "1.5.0",
            "_view_name": "ProgressView",
            "bar_style": "success",
            "description": "",
            "description_tooltip": null,
            "layout": "IPY_MODEL_fa8e4ec0879b493b94c305fc360799ca",
            "max": 483,
            "min": 0,
            "orientation": "horizontal",
            "style": "IPY_MODEL_59dcf882400b46cc8226f0565ef99eab",
            "value": 483
          }
        },
        "e761af00b75e4970a218ffcfbe829dc6": {
          "model_module": "@jupyter-widgets/controls",
          "model_name": "HTMLModel",
          "model_module_version": "1.5.0",
          "state": {
            "_dom_classes": [],
            "_model_module": "@jupyter-widgets/controls",
            "_model_module_version": "1.5.0",
            "_model_name": "HTMLModel",
            "_view_count": null,
            "_view_module": "@jupyter-widgets/controls",
            "_view_module_version": "1.5.0",
            "_view_name": "HTMLView",
            "description": "",
            "description_tooltip": null,
            "layout": "IPY_MODEL_2dc4368bf2f940b3888a581049f627a3",
            "placeholder": "​",
            "style": "IPY_MODEL_ddc27eebebf0402f925dad2579d2c5cf",
            "value": " 483/483 [00:00&lt;00:00, 14.1kB/s]"
          }
        },
        "df12b368a67e4419bab651b9189ecc99": {
          "model_module": "@jupyter-widgets/base",
          "model_name": "LayoutModel",
          "model_module_version": "1.2.0",
          "state": {
            "_model_module": "@jupyter-widgets/base",
            "_model_module_version": "1.2.0",
            "_model_name": "LayoutModel",
            "_view_count": null,
            "_view_module": "@jupyter-widgets/base",
            "_view_module_version": "1.2.0",
            "_view_name": "LayoutView",
            "align_content": null,
            "align_items": null,
            "align_self": null,
            "border": null,
            "bottom": null,
            "display": null,
            "flex": null,
            "flex_flow": null,
            "grid_area": null,
            "grid_auto_columns": null,
            "grid_auto_flow": null,
            "grid_auto_rows": null,
            "grid_column": null,
            "grid_gap": null,
            "grid_row": null,
            "grid_template_areas": null,
            "grid_template_columns": null,
            "grid_template_rows": null,
            "height": null,
            "justify_content": null,
            "justify_items": null,
            "left": null,
            "margin": null,
            "max_height": null,
            "max_width": null,
            "min_height": null,
            "min_width": null,
            "object_fit": null,
            "object_position": null,
            "order": null,
            "overflow": null,
            "overflow_x": null,
            "overflow_y": null,
            "padding": null,
            "right": null,
            "top": null,
            "visibility": null,
            "width": null
          }
        },
        "8bed5eb58bb34a7da3f68f203c3ed9e3": {
          "model_module": "@jupyter-widgets/base",
          "model_name": "LayoutModel",
          "model_module_version": "1.2.0",
          "state": {
            "_model_module": "@jupyter-widgets/base",
            "_model_module_version": "1.2.0",
            "_model_name": "LayoutModel",
            "_view_count": null,
            "_view_module": "@jupyter-widgets/base",
            "_view_module_version": "1.2.0",
            "_view_name": "LayoutView",
            "align_content": null,
            "align_items": null,
            "align_self": null,
            "border": null,
            "bottom": null,
            "display": null,
            "flex": null,
            "flex_flow": null,
            "grid_area": null,
            "grid_auto_columns": null,
            "grid_auto_flow": null,
            "grid_auto_rows": null,
            "grid_column": null,
            "grid_gap": null,
            "grid_row": null,
            "grid_template_areas": null,
            "grid_template_columns": null,
            "grid_template_rows": null,
            "height": null,
            "justify_content": null,
            "justify_items": null,
            "left": null,
            "margin": null,
            "max_height": null,
            "max_width": null,
            "min_height": null,
            "min_width": null,
            "object_fit": null,
            "object_position": null,
            "order": null,
            "overflow": null,
            "overflow_x": null,
            "overflow_y": null,
            "padding": null,
            "right": null,
            "top": null,
            "visibility": null,
            "width": null
          }
        },
        "3f64f06824504c9d8edbd1d3c1cc9d2a": {
          "model_module": "@jupyter-widgets/controls",
          "model_name": "DescriptionStyleModel",
          "model_module_version": "1.5.0",
          "state": {
            "_model_module": "@jupyter-widgets/controls",
            "_model_module_version": "1.5.0",
            "_model_name": "DescriptionStyleModel",
            "_view_count": null,
            "_view_module": "@jupyter-widgets/base",
            "_view_module_version": "1.2.0",
            "_view_name": "StyleView",
            "description_width": ""
          }
        },
        "fa8e4ec0879b493b94c305fc360799ca": {
          "model_module": "@jupyter-widgets/base",
          "model_name": "LayoutModel",
          "model_module_version": "1.2.0",
          "state": {
            "_model_module": "@jupyter-widgets/base",
            "_model_module_version": "1.2.0",
            "_model_name": "LayoutModel",
            "_view_count": null,
            "_view_module": "@jupyter-widgets/base",
            "_view_module_version": "1.2.0",
            "_view_name": "LayoutView",
            "align_content": null,
            "align_items": null,
            "align_self": null,
            "border": null,
            "bottom": null,
            "display": null,
            "flex": null,
            "flex_flow": null,
            "grid_area": null,
            "grid_auto_columns": null,
            "grid_auto_flow": null,
            "grid_auto_rows": null,
            "grid_column": null,
            "grid_gap": null,
            "grid_row": null,
            "grid_template_areas": null,
            "grid_template_columns": null,
            "grid_template_rows": null,
            "height": null,
            "justify_content": null,
            "justify_items": null,
            "left": null,
            "margin": null,
            "max_height": null,
            "max_width": null,
            "min_height": null,
            "min_width": null,
            "object_fit": null,
            "object_position": null,
            "order": null,
            "overflow": null,
            "overflow_x": null,
            "overflow_y": null,
            "padding": null,
            "right": null,
            "top": null,
            "visibility": null,
            "width": null
          }
        },
        "59dcf882400b46cc8226f0565ef99eab": {
          "model_module": "@jupyter-widgets/controls",
          "model_name": "ProgressStyleModel",
          "model_module_version": "1.5.0",
          "state": {
            "_model_module": "@jupyter-widgets/controls",
            "_model_module_version": "1.5.0",
            "_model_name": "ProgressStyleModel",
            "_view_count": null,
            "_view_module": "@jupyter-widgets/base",
            "_view_module_version": "1.2.0",
            "_view_name": "StyleView",
            "bar_color": null,
            "description_width": ""
          }
        },
        "2dc4368bf2f940b3888a581049f627a3": {
          "model_module": "@jupyter-widgets/base",
          "model_name": "LayoutModel",
          "model_module_version": "1.2.0",
          "state": {
            "_model_module": "@jupyter-widgets/base",
            "_model_module_version": "1.2.0",
            "_model_name": "LayoutModel",
            "_view_count": null,
            "_view_module": "@jupyter-widgets/base",
            "_view_module_version": "1.2.0",
            "_view_name": "LayoutView",
            "align_content": null,
            "align_items": null,
            "align_self": null,
            "border": null,
            "bottom": null,
            "display": null,
            "flex": null,
            "flex_flow": null,
            "grid_area": null,
            "grid_auto_columns": null,
            "grid_auto_flow": null,
            "grid_auto_rows": null,
            "grid_column": null,
            "grid_gap": null,
            "grid_row": null,
            "grid_template_areas": null,
            "grid_template_columns": null,
            "grid_template_rows": null,
            "height": null,
            "justify_content": null,
            "justify_items": null,
            "left": null,
            "margin": null,
            "max_height": null,
            "max_width": null,
            "min_height": null,
            "min_width": null,
            "object_fit": null,
            "object_position": null,
            "order": null,
            "overflow": null,
            "overflow_x": null,
            "overflow_y": null,
            "padding": null,
            "right": null,
            "top": null,
            "visibility": null,
            "width": null
          }
        },
        "ddc27eebebf0402f925dad2579d2c5cf": {
          "model_module": "@jupyter-widgets/controls",
          "model_name": "DescriptionStyleModel",
          "model_module_version": "1.5.0",
          "state": {
            "_model_module": "@jupyter-widgets/controls",
            "_model_module_version": "1.5.0",
            "_model_name": "DescriptionStyleModel",
            "_view_count": null,
            "_view_module": "@jupyter-widgets/base",
            "_view_module_version": "1.2.0",
            "_view_name": "StyleView",
            "description_width": ""
          }
        },
        "9b3fc7e57ab74a1a8a4b26686a11040d": {
          "model_module": "@jupyter-widgets/controls",
          "model_name": "HBoxModel",
          "model_module_version": "1.5.0",
          "state": {
            "_dom_classes": [],
            "_model_module": "@jupyter-widgets/controls",
            "_model_module_version": "1.5.0",
            "_model_name": "HBoxModel",
            "_view_count": null,
            "_view_module": "@jupyter-widgets/controls",
            "_view_module_version": "1.5.0",
            "_view_name": "HBoxView",
            "box_style": "",
            "children": [
              "IPY_MODEL_b88194f794a748e789230e9db1a8b3c1",
              "IPY_MODEL_4085bf17a66a4151908d3d006590cd8e",
              "IPY_MODEL_16382c480cdb4f9dab115f1c1762a605"
            ],
            "layout": "IPY_MODEL_488db073144e4019a8d00175a1376b97"
          }
        },
        "b88194f794a748e789230e9db1a8b3c1": {
          "model_module": "@jupyter-widgets/controls",
          "model_name": "HTMLModel",
          "model_module_version": "1.5.0",
          "state": {
            "_dom_classes": [],
            "_model_module": "@jupyter-widgets/controls",
            "_model_module_version": "1.5.0",
            "_model_name": "HTMLModel",
            "_view_count": null,
            "_view_module": "@jupyter-widgets/controls",
            "_view_module_version": "1.5.0",
            "_view_name": "HTMLView",
            "description": "",
            "description_tooltip": null,
            "layout": "IPY_MODEL_c12ff972ebe442049a3f40fba279dc3c",
            "placeholder": "​",
            "style": "IPY_MODEL_a84bb56b8e7445ba9ca5000afdf53f16",
            "value": "Downloading: 100%"
          }
        },
        "4085bf17a66a4151908d3d006590cd8e": {
          "model_module": "@jupyter-widgets/controls",
          "model_name": "FloatProgressModel",
          "model_module_version": "1.5.0",
          "state": {
            "_dom_classes": [],
            "_model_module": "@jupyter-widgets/controls",
            "_model_module_version": "1.5.0",
            "_model_name": "FloatProgressModel",
            "_view_count": null,
            "_view_module": "@jupyter-widgets/controls",
            "_view_module_version": "1.5.0",
            "_view_name": "ProgressView",
            "bar_style": "success",
            "description": "",
            "description_tooltip": null,
            "layout": "IPY_MODEL_460386fa03ed4f55a60f5e17bd8b7f7c",
            "max": 267967963,
            "min": 0,
            "orientation": "horizontal",
            "style": "IPY_MODEL_c6310a7a3034497485fcace8b0930822",
            "value": 267967963
          }
        },
        "16382c480cdb4f9dab115f1c1762a605": {
          "model_module": "@jupyter-widgets/controls",
          "model_name": "HTMLModel",
          "model_module_version": "1.5.0",
          "state": {
            "_dom_classes": [],
            "_model_module": "@jupyter-widgets/controls",
            "_model_module_version": "1.5.0",
            "_model_name": "HTMLModel",
            "_view_count": null,
            "_view_module": "@jupyter-widgets/controls",
            "_view_module_version": "1.5.0",
            "_view_name": "HTMLView",
            "description": "",
            "description_tooltip": null,
            "layout": "IPY_MODEL_fd865a4555eb4e40ab52e5eb67a93839",
            "placeholder": "​",
            "style": "IPY_MODEL_c0ea30ca46cb49e8a6c6775cc7722129",
            "value": " 256M/256M [00:08&lt;00:00, 28.0MB/s]"
          }
        },
        "488db073144e4019a8d00175a1376b97": {
          "model_module": "@jupyter-widgets/base",
          "model_name": "LayoutModel",
          "model_module_version": "1.2.0",
          "state": {
            "_model_module": "@jupyter-widgets/base",
            "_model_module_version": "1.2.0",
            "_model_name": "LayoutModel",
            "_view_count": null,
            "_view_module": "@jupyter-widgets/base",
            "_view_module_version": "1.2.0",
            "_view_name": "LayoutView",
            "align_content": null,
            "align_items": null,
            "align_self": null,
            "border": null,
            "bottom": null,
            "display": null,
            "flex": null,
            "flex_flow": null,
            "grid_area": null,
            "grid_auto_columns": null,
            "grid_auto_flow": null,
            "grid_auto_rows": null,
            "grid_column": null,
            "grid_gap": null,
            "grid_row": null,
            "grid_template_areas": null,
            "grid_template_columns": null,
            "grid_template_rows": null,
            "height": null,
            "justify_content": null,
            "justify_items": null,
            "left": null,
            "margin": null,
            "max_height": null,
            "max_width": null,
            "min_height": null,
            "min_width": null,
            "object_fit": null,
            "object_position": null,
            "order": null,
            "overflow": null,
            "overflow_x": null,
            "overflow_y": null,
            "padding": null,
            "right": null,
            "top": null,
            "visibility": null,
            "width": null
          }
        },
        "c12ff972ebe442049a3f40fba279dc3c": {
          "model_module": "@jupyter-widgets/base",
          "model_name": "LayoutModel",
          "model_module_version": "1.2.0",
          "state": {
            "_model_module": "@jupyter-widgets/base",
            "_model_module_version": "1.2.0",
            "_model_name": "LayoutModel",
            "_view_count": null,
            "_view_module": "@jupyter-widgets/base",
            "_view_module_version": "1.2.0",
            "_view_name": "LayoutView",
            "align_content": null,
            "align_items": null,
            "align_self": null,
            "border": null,
            "bottom": null,
            "display": null,
            "flex": null,
            "flex_flow": null,
            "grid_area": null,
            "grid_auto_columns": null,
            "grid_auto_flow": null,
            "grid_auto_rows": null,
            "grid_column": null,
            "grid_gap": null,
            "grid_row": null,
            "grid_template_areas": null,
            "grid_template_columns": null,
            "grid_template_rows": null,
            "height": null,
            "justify_content": null,
            "justify_items": null,
            "left": null,
            "margin": null,
            "max_height": null,
            "max_width": null,
            "min_height": null,
            "min_width": null,
            "object_fit": null,
            "object_position": null,
            "order": null,
            "overflow": null,
            "overflow_x": null,
            "overflow_y": null,
            "padding": null,
            "right": null,
            "top": null,
            "visibility": null,
            "width": null
          }
        },
        "a84bb56b8e7445ba9ca5000afdf53f16": {
          "model_module": "@jupyter-widgets/controls",
          "model_name": "DescriptionStyleModel",
          "model_module_version": "1.5.0",
          "state": {
            "_model_module": "@jupyter-widgets/controls",
            "_model_module_version": "1.5.0",
            "_model_name": "DescriptionStyleModel",
            "_view_count": null,
            "_view_module": "@jupyter-widgets/base",
            "_view_module_version": "1.2.0",
            "_view_name": "StyleView",
            "description_width": ""
          }
        },
        "460386fa03ed4f55a60f5e17bd8b7f7c": {
          "model_module": "@jupyter-widgets/base",
          "model_name": "LayoutModel",
          "model_module_version": "1.2.0",
          "state": {
            "_model_module": "@jupyter-widgets/base",
            "_model_module_version": "1.2.0",
            "_model_name": "LayoutModel",
            "_view_count": null,
            "_view_module": "@jupyter-widgets/base",
            "_view_module_version": "1.2.0",
            "_view_name": "LayoutView",
            "align_content": null,
            "align_items": null,
            "align_self": null,
            "border": null,
            "bottom": null,
            "display": null,
            "flex": null,
            "flex_flow": null,
            "grid_area": null,
            "grid_auto_columns": null,
            "grid_auto_flow": null,
            "grid_auto_rows": null,
            "grid_column": null,
            "grid_gap": null,
            "grid_row": null,
            "grid_template_areas": null,
            "grid_template_columns": null,
            "grid_template_rows": null,
            "height": null,
            "justify_content": null,
            "justify_items": null,
            "left": null,
            "margin": null,
            "max_height": null,
            "max_width": null,
            "min_height": null,
            "min_width": null,
            "object_fit": null,
            "object_position": null,
            "order": null,
            "overflow": null,
            "overflow_x": null,
            "overflow_y": null,
            "padding": null,
            "right": null,
            "top": null,
            "visibility": null,
            "width": null
          }
        },
        "c6310a7a3034497485fcace8b0930822": {
          "model_module": "@jupyter-widgets/controls",
          "model_name": "ProgressStyleModel",
          "model_module_version": "1.5.0",
          "state": {
            "_model_module": "@jupyter-widgets/controls",
            "_model_module_version": "1.5.0",
            "_model_name": "ProgressStyleModel",
            "_view_count": null,
            "_view_module": "@jupyter-widgets/base",
            "_view_module_version": "1.2.0",
            "_view_name": "StyleView",
            "bar_color": null,
            "description_width": ""
          }
        },
        "fd865a4555eb4e40ab52e5eb67a93839": {
          "model_module": "@jupyter-widgets/base",
          "model_name": "LayoutModel",
          "model_module_version": "1.2.0",
          "state": {
            "_model_module": "@jupyter-widgets/base",
            "_model_module_version": "1.2.0",
            "_model_name": "LayoutModel",
            "_view_count": null,
            "_view_module": "@jupyter-widgets/base",
            "_view_module_version": "1.2.0",
            "_view_name": "LayoutView",
            "align_content": null,
            "align_items": null,
            "align_self": null,
            "border": null,
            "bottom": null,
            "display": null,
            "flex": null,
            "flex_flow": null,
            "grid_area": null,
            "grid_auto_columns": null,
            "grid_auto_flow": null,
            "grid_auto_rows": null,
            "grid_column": null,
            "grid_gap": null,
            "grid_row": null,
            "grid_template_areas": null,
            "grid_template_columns": null,
            "grid_template_rows": null,
            "height": null,
            "justify_content": null,
            "justify_items": null,
            "left": null,
            "margin": null,
            "max_height": null,
            "max_width": null,
            "min_height": null,
            "min_width": null,
            "object_fit": null,
            "object_position": null,
            "order": null,
            "overflow": null,
            "overflow_x": null,
            "overflow_y": null,
            "padding": null,
            "right": null,
            "top": null,
            "visibility": null,
            "width": null
          }
        },
        "c0ea30ca46cb49e8a6c6775cc7722129": {
          "model_module": "@jupyter-widgets/controls",
          "model_name": "DescriptionStyleModel",
          "model_module_version": "1.5.0",
          "state": {
            "_model_module": "@jupyter-widgets/controls",
            "_model_module_version": "1.5.0",
            "_model_name": "DescriptionStyleModel",
            "_view_count": null,
            "_view_module": "@jupyter-widgets/base",
            "_view_module_version": "1.2.0",
            "_view_name": "StyleView",
            "description_width": ""
          }
        },
        "9f2869ebf7774d60bad6677e4b84a5b6": {
          "model_module": "@jupyter-widgets/controls",
          "model_name": "HBoxModel",
          "model_module_version": "1.5.0",
          "state": {
            "_dom_classes": [],
            "_model_module": "@jupyter-widgets/controls",
            "_model_module_version": "1.5.0",
            "_model_name": "HBoxModel",
            "_view_count": null,
            "_view_module": "@jupyter-widgets/controls",
            "_view_module_version": "1.5.0",
            "_view_name": "HBoxView",
            "box_style": "",
            "children": [
              "IPY_MODEL_62fbf58de21d48f9bad87a0d1b254f7e",
              "IPY_MODEL_31b4b997bee64fb8947ce3495b6bfac7",
              "IPY_MODEL_d26d07007cd2466ea92c1cf58d9b308f"
            ],
            "layout": "IPY_MODEL_70919d3bb2094c3ea6174c1c7e0ae0f0"
          }
        },
        "62fbf58de21d48f9bad87a0d1b254f7e": {
          "model_module": "@jupyter-widgets/controls",
          "model_name": "HTMLModel",
          "model_module_version": "1.5.0",
          "state": {
            "_dom_classes": [],
            "_model_module": "@jupyter-widgets/controls",
            "_model_module_version": "1.5.0",
            "_model_name": "HTMLModel",
            "_view_count": null,
            "_view_module": "@jupyter-widgets/controls",
            "_view_module_version": "1.5.0",
            "_view_name": "HTMLView",
            "description": "",
            "description_tooltip": null,
            "layout": "IPY_MODEL_c48b6905828547038f8232f12e729be2",
            "placeholder": "​",
            "style": "IPY_MODEL_c2bc9046456d40599bc9daac4f42dfaa",
            "value": "Downloading: 100%"
          }
        },
        "31b4b997bee64fb8947ce3495b6bfac7": {
          "model_module": "@jupyter-widgets/controls",
          "model_name": "FloatProgressModel",
          "model_module_version": "1.5.0",
          "state": {
            "_dom_classes": [],
            "_model_module": "@jupyter-widgets/controls",
            "_model_module_version": "1.5.0",
            "_model_name": "FloatProgressModel",
            "_view_count": null,
            "_view_module": "@jupyter-widgets/controls",
            "_view_module_version": "1.5.0",
            "_view_name": "ProgressView",
            "bar_style": "success",
            "description": "",
            "description_tooltip": null,
            "layout": "IPY_MODEL_bfdcd0e574864b63ad45a903b460e841",
            "max": 28,
            "min": 0,
            "orientation": "horizontal",
            "style": "IPY_MODEL_0a2feb8b35024c18a1e163c8e50d0a87",
            "value": 28
          }
        },
        "d26d07007cd2466ea92c1cf58d9b308f": {
          "model_module": "@jupyter-widgets/controls",
          "model_name": "HTMLModel",
          "model_module_version": "1.5.0",
          "state": {
            "_dom_classes": [],
            "_model_module": "@jupyter-widgets/controls",
            "_model_module_version": "1.5.0",
            "_model_name": "HTMLModel",
            "_view_count": null,
            "_view_module": "@jupyter-widgets/controls",
            "_view_module_version": "1.5.0",
            "_view_name": "HTMLView",
            "description": "",
            "description_tooltip": null,
            "layout": "IPY_MODEL_89943dbadeae4b17bb20647a79ba0eb3",
            "placeholder": "​",
            "style": "IPY_MODEL_fd2e23a8ec674b469d771ab1d67b450c",
            "value": " 28.0/28.0 [00:00&lt;00:00, 177B/s]"
          }
        },
        "70919d3bb2094c3ea6174c1c7e0ae0f0": {
          "model_module": "@jupyter-widgets/base",
          "model_name": "LayoutModel",
          "model_module_version": "1.2.0",
          "state": {
            "_model_module": "@jupyter-widgets/base",
            "_model_module_version": "1.2.0",
            "_model_name": "LayoutModel",
            "_view_count": null,
            "_view_module": "@jupyter-widgets/base",
            "_view_module_version": "1.2.0",
            "_view_name": "LayoutView",
            "align_content": null,
            "align_items": null,
            "align_self": null,
            "border": null,
            "bottom": null,
            "display": null,
            "flex": null,
            "flex_flow": null,
            "grid_area": null,
            "grid_auto_columns": null,
            "grid_auto_flow": null,
            "grid_auto_rows": null,
            "grid_column": null,
            "grid_gap": null,
            "grid_row": null,
            "grid_template_areas": null,
            "grid_template_columns": null,
            "grid_template_rows": null,
            "height": null,
            "justify_content": null,
            "justify_items": null,
            "left": null,
            "margin": null,
            "max_height": null,
            "max_width": null,
            "min_height": null,
            "min_width": null,
            "object_fit": null,
            "object_position": null,
            "order": null,
            "overflow": null,
            "overflow_x": null,
            "overflow_y": null,
            "padding": null,
            "right": null,
            "top": null,
            "visibility": null,
            "width": null
          }
        },
        "c48b6905828547038f8232f12e729be2": {
          "model_module": "@jupyter-widgets/base",
          "model_name": "LayoutModel",
          "model_module_version": "1.2.0",
          "state": {
            "_model_module": "@jupyter-widgets/base",
            "_model_module_version": "1.2.0",
            "_model_name": "LayoutModel",
            "_view_count": null,
            "_view_module": "@jupyter-widgets/base",
            "_view_module_version": "1.2.0",
            "_view_name": "LayoutView",
            "align_content": null,
            "align_items": null,
            "align_self": null,
            "border": null,
            "bottom": null,
            "display": null,
            "flex": null,
            "flex_flow": null,
            "grid_area": null,
            "grid_auto_columns": null,
            "grid_auto_flow": null,
            "grid_auto_rows": null,
            "grid_column": null,
            "grid_gap": null,
            "grid_row": null,
            "grid_template_areas": null,
            "grid_template_columns": null,
            "grid_template_rows": null,
            "height": null,
            "justify_content": null,
            "justify_items": null,
            "left": null,
            "margin": null,
            "max_height": null,
            "max_width": null,
            "min_height": null,
            "min_width": null,
            "object_fit": null,
            "object_position": null,
            "order": null,
            "overflow": null,
            "overflow_x": null,
            "overflow_y": null,
            "padding": null,
            "right": null,
            "top": null,
            "visibility": null,
            "width": null
          }
        },
        "c2bc9046456d40599bc9daac4f42dfaa": {
          "model_module": "@jupyter-widgets/controls",
          "model_name": "DescriptionStyleModel",
          "model_module_version": "1.5.0",
          "state": {
            "_model_module": "@jupyter-widgets/controls",
            "_model_module_version": "1.5.0",
            "_model_name": "DescriptionStyleModel",
            "_view_count": null,
            "_view_module": "@jupyter-widgets/base",
            "_view_module_version": "1.2.0",
            "_view_name": "StyleView",
            "description_width": ""
          }
        },
        "bfdcd0e574864b63ad45a903b460e841": {
          "model_module": "@jupyter-widgets/base",
          "model_name": "LayoutModel",
          "model_module_version": "1.2.0",
          "state": {
            "_model_module": "@jupyter-widgets/base",
            "_model_module_version": "1.2.0",
            "_model_name": "LayoutModel",
            "_view_count": null,
            "_view_module": "@jupyter-widgets/base",
            "_view_module_version": "1.2.0",
            "_view_name": "LayoutView",
            "align_content": null,
            "align_items": null,
            "align_self": null,
            "border": null,
            "bottom": null,
            "display": null,
            "flex": null,
            "flex_flow": null,
            "grid_area": null,
            "grid_auto_columns": null,
            "grid_auto_flow": null,
            "grid_auto_rows": null,
            "grid_column": null,
            "grid_gap": null,
            "grid_row": null,
            "grid_template_areas": null,
            "grid_template_columns": null,
            "grid_template_rows": null,
            "height": null,
            "justify_content": null,
            "justify_items": null,
            "left": null,
            "margin": null,
            "max_height": null,
            "max_width": null,
            "min_height": null,
            "min_width": null,
            "object_fit": null,
            "object_position": null,
            "order": null,
            "overflow": null,
            "overflow_x": null,
            "overflow_y": null,
            "padding": null,
            "right": null,
            "top": null,
            "visibility": null,
            "width": null
          }
        },
        "0a2feb8b35024c18a1e163c8e50d0a87": {
          "model_module": "@jupyter-widgets/controls",
          "model_name": "ProgressStyleModel",
          "model_module_version": "1.5.0",
          "state": {
            "_model_module": "@jupyter-widgets/controls",
            "_model_module_version": "1.5.0",
            "_model_name": "ProgressStyleModel",
            "_view_count": null,
            "_view_module": "@jupyter-widgets/base",
            "_view_module_version": "1.2.0",
            "_view_name": "StyleView",
            "bar_color": null,
            "description_width": ""
          }
        },
        "89943dbadeae4b17bb20647a79ba0eb3": {
          "model_module": "@jupyter-widgets/base",
          "model_name": "LayoutModel",
          "model_module_version": "1.2.0",
          "state": {
            "_model_module": "@jupyter-widgets/base",
            "_model_module_version": "1.2.0",
            "_model_name": "LayoutModel",
            "_view_count": null,
            "_view_module": "@jupyter-widgets/base",
            "_view_module_version": "1.2.0",
            "_view_name": "LayoutView",
            "align_content": null,
            "align_items": null,
            "align_self": null,
            "border": null,
            "bottom": null,
            "display": null,
            "flex": null,
            "flex_flow": null,
            "grid_area": null,
            "grid_auto_columns": null,
            "grid_auto_flow": null,
            "grid_auto_rows": null,
            "grid_column": null,
            "grid_gap": null,
            "grid_row": null,
            "grid_template_areas": null,
            "grid_template_columns": null,
            "grid_template_rows": null,
            "height": null,
            "justify_content": null,
            "justify_items": null,
            "left": null,
            "margin": null,
            "max_height": null,
            "max_width": null,
            "min_height": null,
            "min_width": null,
            "object_fit": null,
            "object_position": null,
            "order": null,
            "overflow": null,
            "overflow_x": null,
            "overflow_y": null,
            "padding": null,
            "right": null,
            "top": null,
            "visibility": null,
            "width": null
          }
        },
        "fd2e23a8ec674b469d771ab1d67b450c": {
          "model_module": "@jupyter-widgets/controls",
          "model_name": "DescriptionStyleModel",
          "model_module_version": "1.5.0",
          "state": {
            "_model_module": "@jupyter-widgets/controls",
            "_model_module_version": "1.5.0",
            "_model_name": "DescriptionStyleModel",
            "_view_count": null,
            "_view_module": "@jupyter-widgets/base",
            "_view_module_version": "1.2.0",
            "_view_name": "StyleView",
            "description_width": ""
          }
        },
        "31e338d49ba94a6bbd554e2fd30f86ed": {
          "model_module": "@jupyter-widgets/controls",
          "model_name": "HBoxModel",
          "model_module_version": "1.5.0",
          "state": {
            "_dom_classes": [],
            "_model_module": "@jupyter-widgets/controls",
            "_model_module_version": "1.5.0",
            "_model_name": "HBoxModel",
            "_view_count": null,
            "_view_module": "@jupyter-widgets/controls",
            "_view_module_version": "1.5.0",
            "_view_name": "HBoxView",
            "box_style": "",
            "children": [
              "IPY_MODEL_c181f23de8c5449180ab9a8e4946df78",
              "IPY_MODEL_cabc21faec6644df92a1782034eac0a2",
              "IPY_MODEL_8b7a7d09758e446398905038744e36a9"
            ],
            "layout": "IPY_MODEL_ebb7d7cdda774eb8a8088a089c290a5e"
          }
        },
        "c181f23de8c5449180ab9a8e4946df78": {
          "model_module": "@jupyter-widgets/controls",
          "model_name": "HTMLModel",
          "model_module_version": "1.5.0",
          "state": {
            "_dom_classes": [],
            "_model_module": "@jupyter-widgets/controls",
            "_model_module_version": "1.5.0",
            "_model_name": "HTMLModel",
            "_view_count": null,
            "_view_module": "@jupyter-widgets/controls",
            "_view_module_version": "1.5.0",
            "_view_name": "HTMLView",
            "description": "",
            "description_tooltip": null,
            "layout": "IPY_MODEL_4a94cb14c3344280b7123558dca40e3d",
            "placeholder": "​",
            "style": "IPY_MODEL_ac99127c8a8148df992e478b617a40a5",
            "value": "Downloading: 100%"
          }
        },
        "cabc21faec6644df92a1782034eac0a2": {
          "model_module": "@jupyter-widgets/controls",
          "model_name": "FloatProgressModel",
          "model_module_version": "1.5.0",
          "state": {
            "_dom_classes": [],
            "_model_module": "@jupyter-widgets/controls",
            "_model_module_version": "1.5.0",
            "_model_name": "FloatProgressModel",
            "_view_count": null,
            "_view_module": "@jupyter-widgets/controls",
            "_view_module_version": "1.5.0",
            "_view_name": "ProgressView",
            "bar_style": "success",
            "description": "",
            "description_tooltip": null,
            "layout": "IPY_MODEL_071688b34e3946b985a83badc983ba1f",
            "max": 483,
            "min": 0,
            "orientation": "horizontal",
            "style": "IPY_MODEL_2274b7d12b874e46a07a0a4488844a27",
            "value": 483
          }
        },
        "8b7a7d09758e446398905038744e36a9": {
          "model_module": "@jupyter-widgets/controls",
          "model_name": "HTMLModel",
          "model_module_version": "1.5.0",
          "state": {
            "_dom_classes": [],
            "_model_module": "@jupyter-widgets/controls",
            "_model_module_version": "1.5.0",
            "_model_name": "HTMLModel",
            "_view_count": null,
            "_view_module": "@jupyter-widgets/controls",
            "_view_module_version": "1.5.0",
            "_view_name": "HTMLView",
            "description": "",
            "description_tooltip": null,
            "layout": "IPY_MODEL_0640a842eded46cf855acdc1f3089cb8",
            "placeholder": "​",
            "style": "IPY_MODEL_92610b19ec164bc4bc1f708edd442a13",
            "value": " 483/483 [00:00&lt;00:00, 12.0kB/s]"
          }
        },
        "ebb7d7cdda774eb8a8088a089c290a5e": {
          "model_module": "@jupyter-widgets/base",
          "model_name": "LayoutModel",
          "model_module_version": "1.2.0",
          "state": {
            "_model_module": "@jupyter-widgets/base",
            "_model_module_version": "1.2.0",
            "_model_name": "LayoutModel",
            "_view_count": null,
            "_view_module": "@jupyter-widgets/base",
            "_view_module_version": "1.2.0",
            "_view_name": "LayoutView",
            "align_content": null,
            "align_items": null,
            "align_self": null,
            "border": null,
            "bottom": null,
            "display": null,
            "flex": null,
            "flex_flow": null,
            "grid_area": null,
            "grid_auto_columns": null,
            "grid_auto_flow": null,
            "grid_auto_rows": null,
            "grid_column": null,
            "grid_gap": null,
            "grid_row": null,
            "grid_template_areas": null,
            "grid_template_columns": null,
            "grid_template_rows": null,
            "height": null,
            "justify_content": null,
            "justify_items": null,
            "left": null,
            "margin": null,
            "max_height": null,
            "max_width": null,
            "min_height": null,
            "min_width": null,
            "object_fit": null,
            "object_position": null,
            "order": null,
            "overflow": null,
            "overflow_x": null,
            "overflow_y": null,
            "padding": null,
            "right": null,
            "top": null,
            "visibility": null,
            "width": null
          }
        },
        "4a94cb14c3344280b7123558dca40e3d": {
          "model_module": "@jupyter-widgets/base",
          "model_name": "LayoutModel",
          "model_module_version": "1.2.0",
          "state": {
            "_model_module": "@jupyter-widgets/base",
            "_model_module_version": "1.2.0",
            "_model_name": "LayoutModel",
            "_view_count": null,
            "_view_module": "@jupyter-widgets/base",
            "_view_module_version": "1.2.0",
            "_view_name": "LayoutView",
            "align_content": null,
            "align_items": null,
            "align_self": null,
            "border": null,
            "bottom": null,
            "display": null,
            "flex": null,
            "flex_flow": null,
            "grid_area": null,
            "grid_auto_columns": null,
            "grid_auto_flow": null,
            "grid_auto_rows": null,
            "grid_column": null,
            "grid_gap": null,
            "grid_row": null,
            "grid_template_areas": null,
            "grid_template_columns": null,
            "grid_template_rows": null,
            "height": null,
            "justify_content": null,
            "justify_items": null,
            "left": null,
            "margin": null,
            "max_height": null,
            "max_width": null,
            "min_height": null,
            "min_width": null,
            "object_fit": null,
            "object_position": null,
            "order": null,
            "overflow": null,
            "overflow_x": null,
            "overflow_y": null,
            "padding": null,
            "right": null,
            "top": null,
            "visibility": null,
            "width": null
          }
        },
        "ac99127c8a8148df992e478b617a40a5": {
          "model_module": "@jupyter-widgets/controls",
          "model_name": "DescriptionStyleModel",
          "model_module_version": "1.5.0",
          "state": {
            "_model_module": "@jupyter-widgets/controls",
            "_model_module_version": "1.5.0",
            "_model_name": "DescriptionStyleModel",
            "_view_count": null,
            "_view_module": "@jupyter-widgets/base",
            "_view_module_version": "1.2.0",
            "_view_name": "StyleView",
            "description_width": ""
          }
        },
        "071688b34e3946b985a83badc983ba1f": {
          "model_module": "@jupyter-widgets/base",
          "model_name": "LayoutModel",
          "model_module_version": "1.2.0",
          "state": {
            "_model_module": "@jupyter-widgets/base",
            "_model_module_version": "1.2.0",
            "_model_name": "LayoutModel",
            "_view_count": null,
            "_view_module": "@jupyter-widgets/base",
            "_view_module_version": "1.2.0",
            "_view_name": "LayoutView",
            "align_content": null,
            "align_items": null,
            "align_self": null,
            "border": null,
            "bottom": null,
            "display": null,
            "flex": null,
            "flex_flow": null,
            "grid_area": null,
            "grid_auto_columns": null,
            "grid_auto_flow": null,
            "grid_auto_rows": null,
            "grid_column": null,
            "grid_gap": null,
            "grid_row": null,
            "grid_template_areas": null,
            "grid_template_columns": null,
            "grid_template_rows": null,
            "height": null,
            "justify_content": null,
            "justify_items": null,
            "left": null,
            "margin": null,
            "max_height": null,
            "max_width": null,
            "min_height": null,
            "min_width": null,
            "object_fit": null,
            "object_position": null,
            "order": null,
            "overflow": null,
            "overflow_x": null,
            "overflow_y": null,
            "padding": null,
            "right": null,
            "top": null,
            "visibility": null,
            "width": null
          }
        },
        "2274b7d12b874e46a07a0a4488844a27": {
          "model_module": "@jupyter-widgets/controls",
          "model_name": "ProgressStyleModel",
          "model_module_version": "1.5.0",
          "state": {
            "_model_module": "@jupyter-widgets/controls",
            "_model_module_version": "1.5.0",
            "_model_name": "ProgressStyleModel",
            "_view_count": null,
            "_view_module": "@jupyter-widgets/base",
            "_view_module_version": "1.2.0",
            "_view_name": "StyleView",
            "bar_color": null,
            "description_width": ""
          }
        },
        "0640a842eded46cf855acdc1f3089cb8": {
          "model_module": "@jupyter-widgets/base",
          "model_name": "LayoutModel",
          "model_module_version": "1.2.0",
          "state": {
            "_model_module": "@jupyter-widgets/base",
            "_model_module_version": "1.2.0",
            "_model_name": "LayoutModel",
            "_view_count": null,
            "_view_module": "@jupyter-widgets/base",
            "_view_module_version": "1.2.0",
            "_view_name": "LayoutView",
            "align_content": null,
            "align_items": null,
            "align_self": null,
            "border": null,
            "bottom": null,
            "display": null,
            "flex": null,
            "flex_flow": null,
            "grid_area": null,
            "grid_auto_columns": null,
            "grid_auto_flow": null,
            "grid_auto_rows": null,
            "grid_column": null,
            "grid_gap": null,
            "grid_row": null,
            "grid_template_areas": null,
            "grid_template_columns": null,
            "grid_template_rows": null,
            "height": null,
            "justify_content": null,
            "justify_items": null,
            "left": null,
            "margin": null,
            "max_height": null,
            "max_width": null,
            "min_height": null,
            "min_width": null,
            "object_fit": null,
            "object_position": null,
            "order": null,
            "overflow": null,
            "overflow_x": null,
            "overflow_y": null,
            "padding": null,
            "right": null,
            "top": null,
            "visibility": null,
            "width": null
          }
        },
        "92610b19ec164bc4bc1f708edd442a13": {
          "model_module": "@jupyter-widgets/controls",
          "model_name": "DescriptionStyleModel",
          "model_module_version": "1.5.0",
          "state": {
            "_model_module": "@jupyter-widgets/controls",
            "_model_module_version": "1.5.0",
            "_model_name": "DescriptionStyleModel",
            "_view_count": null,
            "_view_module": "@jupyter-widgets/base",
            "_view_module_version": "1.2.0",
            "_view_name": "StyleView",
            "description_width": ""
          }
        },
        "87ae185594b74b7784c54c6ed9a7622c": {
          "model_module": "@jupyter-widgets/controls",
          "model_name": "HBoxModel",
          "model_module_version": "1.5.0",
          "state": {
            "_dom_classes": [],
            "_model_module": "@jupyter-widgets/controls",
            "_model_module_version": "1.5.0",
            "_model_name": "HBoxModel",
            "_view_count": null,
            "_view_module": "@jupyter-widgets/controls",
            "_view_module_version": "1.5.0",
            "_view_name": "HBoxView",
            "box_style": "",
            "children": [
              "IPY_MODEL_1ffdcdb2df7a48d883ac47588c334169",
              "IPY_MODEL_db935a1020e442b484b5264570ea3ab3",
              "IPY_MODEL_b9734e956bcf41be866165ab11b79510"
            ],
            "layout": "IPY_MODEL_65d55fab430444dbbc5eb1c652517232"
          }
        },
        "1ffdcdb2df7a48d883ac47588c334169": {
          "model_module": "@jupyter-widgets/controls",
          "model_name": "HTMLModel",
          "model_module_version": "1.5.0",
          "state": {
            "_dom_classes": [],
            "_model_module": "@jupyter-widgets/controls",
            "_model_module_version": "1.5.0",
            "_model_name": "HTMLModel",
            "_view_count": null,
            "_view_module": "@jupyter-widgets/controls",
            "_view_module_version": "1.5.0",
            "_view_name": "HTMLView",
            "description": "",
            "description_tooltip": null,
            "layout": "IPY_MODEL_1da62f38b9f14f5f9bb8ad70c3a61369",
            "placeholder": "​",
            "style": "IPY_MODEL_1d8e001e82a64f6a885be7af1a10659f",
            "value": "Downloading: 100%"
          }
        },
        "db935a1020e442b484b5264570ea3ab3": {
          "model_module": "@jupyter-widgets/controls",
          "model_name": "FloatProgressModel",
          "model_module_version": "1.5.0",
          "state": {
            "_dom_classes": [],
            "_model_module": "@jupyter-widgets/controls",
            "_model_module_version": "1.5.0",
            "_model_name": "FloatProgressModel",
            "_view_count": null,
            "_view_module": "@jupyter-widgets/controls",
            "_view_module_version": "1.5.0",
            "_view_name": "ProgressView",
            "bar_style": "success",
            "description": "",
            "description_tooltip": null,
            "layout": "IPY_MODEL_a4ad4ebb2a8e4bd994051a67bf7e8015",
            "max": 231508,
            "min": 0,
            "orientation": "horizontal",
            "style": "IPY_MODEL_88924e6fa593420c96f92bf758021ee5",
            "value": 231508
          }
        },
        "b9734e956bcf41be866165ab11b79510": {
          "model_module": "@jupyter-widgets/controls",
          "model_name": "HTMLModel",
          "model_module_version": "1.5.0",
          "state": {
            "_dom_classes": [],
            "_model_module": "@jupyter-widgets/controls",
            "_model_module_version": "1.5.0",
            "_model_name": "HTMLModel",
            "_view_count": null,
            "_view_module": "@jupyter-widgets/controls",
            "_view_module_version": "1.5.0",
            "_view_name": "HTMLView",
            "description": "",
            "description_tooltip": null,
            "layout": "IPY_MODEL_48d5123743074d9ab40004cf08f3035d",
            "placeholder": "​",
            "style": "IPY_MODEL_1f696db1df384e4dbef4bf43d37cdba0",
            "value": " 226k/226k [00:00&lt;00:00, 223kB/s]"
          }
        },
        "65d55fab430444dbbc5eb1c652517232": {
          "model_module": "@jupyter-widgets/base",
          "model_name": "LayoutModel",
          "model_module_version": "1.2.0",
          "state": {
            "_model_module": "@jupyter-widgets/base",
            "_model_module_version": "1.2.0",
            "_model_name": "LayoutModel",
            "_view_count": null,
            "_view_module": "@jupyter-widgets/base",
            "_view_module_version": "1.2.0",
            "_view_name": "LayoutView",
            "align_content": null,
            "align_items": null,
            "align_self": null,
            "border": null,
            "bottom": null,
            "display": null,
            "flex": null,
            "flex_flow": null,
            "grid_area": null,
            "grid_auto_columns": null,
            "grid_auto_flow": null,
            "grid_auto_rows": null,
            "grid_column": null,
            "grid_gap": null,
            "grid_row": null,
            "grid_template_areas": null,
            "grid_template_columns": null,
            "grid_template_rows": null,
            "height": null,
            "justify_content": null,
            "justify_items": null,
            "left": null,
            "margin": null,
            "max_height": null,
            "max_width": null,
            "min_height": null,
            "min_width": null,
            "object_fit": null,
            "object_position": null,
            "order": null,
            "overflow": null,
            "overflow_x": null,
            "overflow_y": null,
            "padding": null,
            "right": null,
            "top": null,
            "visibility": null,
            "width": null
          }
        },
        "1da62f38b9f14f5f9bb8ad70c3a61369": {
          "model_module": "@jupyter-widgets/base",
          "model_name": "LayoutModel",
          "model_module_version": "1.2.0",
          "state": {
            "_model_module": "@jupyter-widgets/base",
            "_model_module_version": "1.2.0",
            "_model_name": "LayoutModel",
            "_view_count": null,
            "_view_module": "@jupyter-widgets/base",
            "_view_module_version": "1.2.0",
            "_view_name": "LayoutView",
            "align_content": null,
            "align_items": null,
            "align_self": null,
            "border": null,
            "bottom": null,
            "display": null,
            "flex": null,
            "flex_flow": null,
            "grid_area": null,
            "grid_auto_columns": null,
            "grid_auto_flow": null,
            "grid_auto_rows": null,
            "grid_column": null,
            "grid_gap": null,
            "grid_row": null,
            "grid_template_areas": null,
            "grid_template_columns": null,
            "grid_template_rows": null,
            "height": null,
            "justify_content": null,
            "justify_items": null,
            "left": null,
            "margin": null,
            "max_height": null,
            "max_width": null,
            "min_height": null,
            "min_width": null,
            "object_fit": null,
            "object_position": null,
            "order": null,
            "overflow": null,
            "overflow_x": null,
            "overflow_y": null,
            "padding": null,
            "right": null,
            "top": null,
            "visibility": null,
            "width": null
          }
        },
        "1d8e001e82a64f6a885be7af1a10659f": {
          "model_module": "@jupyter-widgets/controls",
          "model_name": "DescriptionStyleModel",
          "model_module_version": "1.5.0",
          "state": {
            "_model_module": "@jupyter-widgets/controls",
            "_model_module_version": "1.5.0",
            "_model_name": "DescriptionStyleModel",
            "_view_count": null,
            "_view_module": "@jupyter-widgets/base",
            "_view_module_version": "1.2.0",
            "_view_name": "StyleView",
            "description_width": ""
          }
        },
        "a4ad4ebb2a8e4bd994051a67bf7e8015": {
          "model_module": "@jupyter-widgets/base",
          "model_name": "LayoutModel",
          "model_module_version": "1.2.0",
          "state": {
            "_model_module": "@jupyter-widgets/base",
            "_model_module_version": "1.2.0",
            "_model_name": "LayoutModel",
            "_view_count": null,
            "_view_module": "@jupyter-widgets/base",
            "_view_module_version": "1.2.0",
            "_view_name": "LayoutView",
            "align_content": null,
            "align_items": null,
            "align_self": null,
            "border": null,
            "bottom": null,
            "display": null,
            "flex": null,
            "flex_flow": null,
            "grid_area": null,
            "grid_auto_columns": null,
            "grid_auto_flow": null,
            "grid_auto_rows": null,
            "grid_column": null,
            "grid_gap": null,
            "grid_row": null,
            "grid_template_areas": null,
            "grid_template_columns": null,
            "grid_template_rows": null,
            "height": null,
            "justify_content": null,
            "justify_items": null,
            "left": null,
            "margin": null,
            "max_height": null,
            "max_width": null,
            "min_height": null,
            "min_width": null,
            "object_fit": null,
            "object_position": null,
            "order": null,
            "overflow": null,
            "overflow_x": null,
            "overflow_y": null,
            "padding": null,
            "right": null,
            "top": null,
            "visibility": null,
            "width": null
          }
        },
        "88924e6fa593420c96f92bf758021ee5": {
          "model_module": "@jupyter-widgets/controls",
          "model_name": "ProgressStyleModel",
          "model_module_version": "1.5.0",
          "state": {
            "_model_module": "@jupyter-widgets/controls",
            "_model_module_version": "1.5.0",
            "_model_name": "ProgressStyleModel",
            "_view_count": null,
            "_view_module": "@jupyter-widgets/base",
            "_view_module_version": "1.2.0",
            "_view_name": "StyleView",
            "bar_color": null,
            "description_width": ""
          }
        },
        "48d5123743074d9ab40004cf08f3035d": {
          "model_module": "@jupyter-widgets/base",
          "model_name": "LayoutModel",
          "model_module_version": "1.2.0",
          "state": {
            "_model_module": "@jupyter-widgets/base",
            "_model_module_version": "1.2.0",
            "_model_name": "LayoutModel",
            "_view_count": null,
            "_view_module": "@jupyter-widgets/base",
            "_view_module_version": "1.2.0",
            "_view_name": "LayoutView",
            "align_content": null,
            "align_items": null,
            "align_self": null,
            "border": null,
            "bottom": null,
            "display": null,
            "flex": null,
            "flex_flow": null,
            "grid_area": null,
            "grid_auto_columns": null,
            "grid_auto_flow": null,
            "grid_auto_rows": null,
            "grid_column": null,
            "grid_gap": null,
            "grid_row": null,
            "grid_template_areas": null,
            "grid_template_columns": null,
            "grid_template_rows": null,
            "height": null,
            "justify_content": null,
            "justify_items": null,
            "left": null,
            "margin": null,
            "max_height": null,
            "max_width": null,
            "min_height": null,
            "min_width": null,
            "object_fit": null,
            "object_position": null,
            "order": null,
            "overflow": null,
            "overflow_x": null,
            "overflow_y": null,
            "padding": null,
            "right": null,
            "top": null,
            "visibility": null,
            "width": null
          }
        },
        "1f696db1df384e4dbef4bf43d37cdba0": {
          "model_module": "@jupyter-widgets/controls",
          "model_name": "DescriptionStyleModel",
          "model_module_version": "1.5.0",
          "state": {
            "_model_module": "@jupyter-widgets/controls",
            "_model_module_version": "1.5.0",
            "_model_name": "DescriptionStyleModel",
            "_view_count": null,
            "_view_module": "@jupyter-widgets/base",
            "_view_module_version": "1.2.0",
            "_view_name": "StyleView",
            "description_width": ""
          }
        },
        "fd97e3228644443bb572981540bbdb2b": {
          "model_module": "@jupyter-widgets/controls",
          "model_name": "HBoxModel",
          "model_module_version": "1.5.0",
          "state": {
            "_dom_classes": [],
            "_model_module": "@jupyter-widgets/controls",
            "_model_module_version": "1.5.0",
            "_model_name": "HBoxModel",
            "_view_count": null,
            "_view_module": "@jupyter-widgets/controls",
            "_view_module_version": "1.5.0",
            "_view_name": "HBoxView",
            "box_style": "",
            "children": [
              "IPY_MODEL_f6ce6bbdc7cf4fda9b9d348318324348",
              "IPY_MODEL_5de2ff1be8ed40f6abccde3ac24ee2e5",
              "IPY_MODEL_70b13d751ab94a518a22d5a0e297a598"
            ],
            "layout": "IPY_MODEL_d6e65037970d482b90a5e3abc0883b6f"
          }
        },
        "f6ce6bbdc7cf4fda9b9d348318324348": {
          "model_module": "@jupyter-widgets/controls",
          "model_name": "HTMLModel",
          "model_module_version": "1.5.0",
          "state": {
            "_dom_classes": [],
            "_model_module": "@jupyter-widgets/controls",
            "_model_module_version": "1.5.0",
            "_model_name": "HTMLModel",
            "_view_count": null,
            "_view_module": "@jupyter-widgets/controls",
            "_view_module_version": "1.5.0",
            "_view_name": "HTMLView",
            "description": "",
            "description_tooltip": null,
            "layout": "IPY_MODEL_91cd3c2dcb6e4eb8b9c18864f6017441",
            "placeholder": "​",
            "style": "IPY_MODEL_fca4320b4f184605bf8d998799df74d4",
            "value": "Downloading: 100%"
          }
        },
        "5de2ff1be8ed40f6abccde3ac24ee2e5": {
          "model_module": "@jupyter-widgets/controls",
          "model_name": "FloatProgressModel",
          "model_module_version": "1.5.0",
          "state": {
            "_dom_classes": [],
            "_model_module": "@jupyter-widgets/controls",
            "_model_module_version": "1.5.0",
            "_model_name": "FloatProgressModel",
            "_view_count": null,
            "_view_module": "@jupyter-widgets/controls",
            "_view_module_version": "1.5.0",
            "_view_name": "ProgressView",
            "bar_style": "success",
            "description": "",
            "description_tooltip": null,
            "layout": "IPY_MODEL_ac68c8495d0b4366bcb00b4c7def1923",
            "max": 466062,
            "min": 0,
            "orientation": "horizontal",
            "style": "IPY_MODEL_9f9a24c42fae4d37a9d9cdd8d01d8659",
            "value": 466062
          }
        },
        "70b13d751ab94a518a22d5a0e297a598": {
          "model_module": "@jupyter-widgets/controls",
          "model_name": "HTMLModel",
          "model_module_version": "1.5.0",
          "state": {
            "_dom_classes": [],
            "_model_module": "@jupyter-widgets/controls",
            "_model_module_version": "1.5.0",
            "_model_name": "HTMLModel",
            "_view_count": null,
            "_view_module": "@jupyter-widgets/controls",
            "_view_module_version": "1.5.0",
            "_view_name": "HTMLView",
            "description": "",
            "description_tooltip": null,
            "layout": "IPY_MODEL_c9dd78f186124b78aba3a60f019b688c",
            "placeholder": "​",
            "style": "IPY_MODEL_25c7ebfb7aa94a86981fd45ea2bb72db",
            "value": " 455k/455k [00:00&lt;00:00, 580kB/s]"
          }
        },
        "d6e65037970d482b90a5e3abc0883b6f": {
          "model_module": "@jupyter-widgets/base",
          "model_name": "LayoutModel",
          "model_module_version": "1.2.0",
          "state": {
            "_model_module": "@jupyter-widgets/base",
            "_model_module_version": "1.2.0",
            "_model_name": "LayoutModel",
            "_view_count": null,
            "_view_module": "@jupyter-widgets/base",
            "_view_module_version": "1.2.0",
            "_view_name": "LayoutView",
            "align_content": null,
            "align_items": null,
            "align_self": null,
            "border": null,
            "bottom": null,
            "display": null,
            "flex": null,
            "flex_flow": null,
            "grid_area": null,
            "grid_auto_columns": null,
            "grid_auto_flow": null,
            "grid_auto_rows": null,
            "grid_column": null,
            "grid_gap": null,
            "grid_row": null,
            "grid_template_areas": null,
            "grid_template_columns": null,
            "grid_template_rows": null,
            "height": null,
            "justify_content": null,
            "justify_items": null,
            "left": null,
            "margin": null,
            "max_height": null,
            "max_width": null,
            "min_height": null,
            "min_width": null,
            "object_fit": null,
            "object_position": null,
            "order": null,
            "overflow": null,
            "overflow_x": null,
            "overflow_y": null,
            "padding": null,
            "right": null,
            "top": null,
            "visibility": null,
            "width": null
          }
        },
        "91cd3c2dcb6e4eb8b9c18864f6017441": {
          "model_module": "@jupyter-widgets/base",
          "model_name": "LayoutModel",
          "model_module_version": "1.2.0",
          "state": {
            "_model_module": "@jupyter-widgets/base",
            "_model_module_version": "1.2.0",
            "_model_name": "LayoutModel",
            "_view_count": null,
            "_view_module": "@jupyter-widgets/base",
            "_view_module_version": "1.2.0",
            "_view_name": "LayoutView",
            "align_content": null,
            "align_items": null,
            "align_self": null,
            "border": null,
            "bottom": null,
            "display": null,
            "flex": null,
            "flex_flow": null,
            "grid_area": null,
            "grid_auto_columns": null,
            "grid_auto_flow": null,
            "grid_auto_rows": null,
            "grid_column": null,
            "grid_gap": null,
            "grid_row": null,
            "grid_template_areas": null,
            "grid_template_columns": null,
            "grid_template_rows": null,
            "height": null,
            "justify_content": null,
            "justify_items": null,
            "left": null,
            "margin": null,
            "max_height": null,
            "max_width": null,
            "min_height": null,
            "min_width": null,
            "object_fit": null,
            "object_position": null,
            "order": null,
            "overflow": null,
            "overflow_x": null,
            "overflow_y": null,
            "padding": null,
            "right": null,
            "top": null,
            "visibility": null,
            "width": null
          }
        },
        "fca4320b4f184605bf8d998799df74d4": {
          "model_module": "@jupyter-widgets/controls",
          "model_name": "DescriptionStyleModel",
          "model_module_version": "1.5.0",
          "state": {
            "_model_module": "@jupyter-widgets/controls",
            "_model_module_version": "1.5.0",
            "_model_name": "DescriptionStyleModel",
            "_view_count": null,
            "_view_module": "@jupyter-widgets/base",
            "_view_module_version": "1.2.0",
            "_view_name": "StyleView",
            "description_width": ""
          }
        },
        "ac68c8495d0b4366bcb00b4c7def1923": {
          "model_module": "@jupyter-widgets/base",
          "model_name": "LayoutModel",
          "model_module_version": "1.2.0",
          "state": {
            "_model_module": "@jupyter-widgets/base",
            "_model_module_version": "1.2.0",
            "_model_name": "LayoutModel",
            "_view_count": null,
            "_view_module": "@jupyter-widgets/base",
            "_view_module_version": "1.2.0",
            "_view_name": "LayoutView",
            "align_content": null,
            "align_items": null,
            "align_self": null,
            "border": null,
            "bottom": null,
            "display": null,
            "flex": null,
            "flex_flow": null,
            "grid_area": null,
            "grid_auto_columns": null,
            "grid_auto_flow": null,
            "grid_auto_rows": null,
            "grid_column": null,
            "grid_gap": null,
            "grid_row": null,
            "grid_template_areas": null,
            "grid_template_columns": null,
            "grid_template_rows": null,
            "height": null,
            "justify_content": null,
            "justify_items": null,
            "left": null,
            "margin": null,
            "max_height": null,
            "max_width": null,
            "min_height": null,
            "min_width": null,
            "object_fit": null,
            "object_position": null,
            "order": null,
            "overflow": null,
            "overflow_x": null,
            "overflow_y": null,
            "padding": null,
            "right": null,
            "top": null,
            "visibility": null,
            "width": null
          }
        },
        "9f9a24c42fae4d37a9d9cdd8d01d8659": {
          "model_module": "@jupyter-widgets/controls",
          "model_name": "ProgressStyleModel",
          "model_module_version": "1.5.0",
          "state": {
            "_model_module": "@jupyter-widgets/controls",
            "_model_module_version": "1.5.0",
            "_model_name": "ProgressStyleModel",
            "_view_count": null,
            "_view_module": "@jupyter-widgets/base",
            "_view_module_version": "1.2.0",
            "_view_name": "StyleView",
            "bar_color": null,
            "description_width": ""
          }
        },
        "c9dd78f186124b78aba3a60f019b688c": {
          "model_module": "@jupyter-widgets/base",
          "model_name": "LayoutModel",
          "model_module_version": "1.2.0",
          "state": {
            "_model_module": "@jupyter-widgets/base",
            "_model_module_version": "1.2.0",
            "_model_name": "LayoutModel",
            "_view_count": null,
            "_view_module": "@jupyter-widgets/base",
            "_view_module_version": "1.2.0",
            "_view_name": "LayoutView",
            "align_content": null,
            "align_items": null,
            "align_self": null,
            "border": null,
            "bottom": null,
            "display": null,
            "flex": null,
            "flex_flow": null,
            "grid_area": null,
            "grid_auto_columns": null,
            "grid_auto_flow": null,
            "grid_auto_rows": null,
            "grid_column": null,
            "grid_gap": null,
            "grid_row": null,
            "grid_template_areas": null,
            "grid_template_columns": null,
            "grid_template_rows": null,
            "height": null,
            "justify_content": null,
            "justify_items": null,
            "left": null,
            "margin": null,
            "max_height": null,
            "max_width": null,
            "min_height": null,
            "min_width": null,
            "object_fit": null,
            "object_position": null,
            "order": null,
            "overflow": null,
            "overflow_x": null,
            "overflow_y": null,
            "padding": null,
            "right": null,
            "top": null,
            "visibility": null,
            "width": null
          }
        },
        "25c7ebfb7aa94a86981fd45ea2bb72db": {
          "model_module": "@jupyter-widgets/controls",
          "model_name": "DescriptionStyleModel",
          "model_module_version": "1.5.0",
          "state": {
            "_model_module": "@jupyter-widgets/controls",
            "_model_module_version": "1.5.0",
            "_model_name": "DescriptionStyleModel",
            "_view_count": null,
            "_view_module": "@jupyter-widgets/base",
            "_view_module_version": "1.2.0",
            "_view_name": "StyleView",
            "description_width": ""
          }
        }
      }
    }
  },
  "cells": [
    {
      "cell_type": "markdown",
      "source": [
        "# Patent Phrase Alignment Using Large Neural Language Models\n",
        "#### LING 6300 Project\n",
        "\n",
        "#### Zhiyong Wang, Karan Praharaj"
      ],
      "metadata": {
        "id": "7hlLFQaN9UC7"
      }
    },
    {
      "cell_type": "markdown",
      "source": [
        "Besides this notebook, we also provide our pure python code(s) and datasets in this [github repo](https://github.com/ravenouse/Patent_Competition).<br>\n",
        "The code(s) in the repo is what we used to run experiments formly."
      ],
      "metadata": {
        "id": "UvwTP3oB32SB"
      }
    },
    {
      "cell_type": "markdown",
      "source": [
        "##**Introduction**\n",
        "\n",
        "Patents are a crucial instrument for the promotion of innovation and technological advancement, and for improving human lives overall. The system of patents is a framework that incentivises the progress of scientific ideas and gives impetus to economic growth and stimulates groundbreaking research and engineering. Patents undergo an intensive vetting process prior to grants. However, U.S. patent archives are diverse, voluminous and have a history that goes back 200 years! Before granting a patent to a prospective inventor, The U.S. Patent and Trademark Office (USPTO) needs to examine the patent application and ensure that the applicant(s) is (are) entitled to it. The main, albeit not the sole, question that governs this decision is whether the intellectual property being claimed by the applicant has been claimed before. This can be a tedious task to do manually, considering the volume of data involved. This is where Machine Learning enters the picture to automate the evaluation of similarities between the patent application and records of previously granted patents. Determining the semantic similarity between phrases in these documents is critically important during the patent examination process. This is the problem we focus on in this work.\n",
        "\n",
        "This task is an ongoing Kaggle Challenge titled [\"U.S. Patent Phrase to Phrase Matching\"](https://www.kaggle.com/competitions/us-patent-phrase-to-phrase-matching/overview)."
      ],
      "metadata": {
        "id": "13jNmTgk-X_b"
      }
    },
    {
      "cell_type": "markdown",
      "source": [
        "**Goal:** Build a model which matches phrases and estimates the semantic similarity between them by accounting for contextual information so as to and aid the examination process.\n"
      ],
      "metadata": {
        "id": "UIoGS4vBK-XY"
      }
    },
    {
      "cell_type": "code",
      "source": [
        "from google.colab import drive\n",
        "drive.mount('/content/drive')"
      ],
      "metadata": {
        "colab": {
          "base_uri": "https://localhost:8080/"
        },
        "id": "Q0XnK3wc-Vah",
        "outputId": "acb41bc9-7237-4d37-fea5-e5f5a2b27a6c"
      },
      "execution_count": null,
      "outputs": [
        {
          "output_type": "stream",
          "name": "stdout",
          "text": [
            "Mounted at /content/drive\n"
          ]
        }
      ]
    },
    {
      "cell_type": "code",
      "source": [
        "%cd /content/drive/MyDrive/Patent/us-patent-phrase-to-phrase-matching"
      ],
      "metadata": {
        "colab": {
          "base_uri": "https://localhost:8080/"
        },
        "id": "M-SUPt0k-k6l",
        "outputId": "5158d5a8-ad13-4612-afd9-48164cf06b6c"
      },
      "execution_count": null,
      "outputs": [
        {
          "output_type": "stream",
          "name": "stdout",
          "text": [
            "/content/drive/MyDrive/Patent/us-patent-phrase-to-phrase-matching\n"
          ]
        }
      ]
    },
    {
      "cell_type": "code",
      "source": [
        "!pip install wandb\n",
        "!pip install datasets\n",
        "!pip install transformers"
      ],
      "metadata": {
        "id": "0IqiHASB9IT8"
      },
      "execution_count": null,
      "outputs": []
    },
    {
      "cell_type": "markdown",
      "source": [
        "We import the Weights and Biases library, shortened as [WandB](https://docs.wandb.ai/quickstart), which is a central dashboard platform to keep track of \n",
        "hyperparameters, system metrics and predictions so we can compare our models live and monitor training runs."
      ],
      "metadata": {
        "id": "i9vS599tFpjY"
      }
    },
    {
      "cell_type": "code",
      "source": [
        "import wandb"
      ],
      "metadata": {
        "id": "H6PHDQu7pmpE"
      },
      "execution_count": null,
      "outputs": []
    },
    {
      "cell_type": "code",
      "source": [
        "wandb.login()"
      ],
      "metadata": {
        "colab": {
          "base_uri": "https://localhost:8080/",
          "height": 71
        },
        "id": "Gl-Y2gSfpaka",
        "outputId": "569261af-a8c6-426c-da4a-c6021852ef88"
      },
      "execution_count": null,
      "outputs": [
        {
          "output_type": "display_data",
          "data": {
            "text/plain": [
              "<IPython.core.display.Javascript object>"
            ],
            "application/javascript": [
              "\n",
              "        window._wandbApiKey = new Promise((resolve, reject) => {\n",
              "            function loadScript(url) {\n",
              "            return new Promise(function(resolve, reject) {\n",
              "                let newScript = document.createElement(\"script\");\n",
              "                newScript.onerror = reject;\n",
              "                newScript.onload = resolve;\n",
              "                document.body.appendChild(newScript);\n",
              "                newScript.src = url;\n",
              "            });\n",
              "            }\n",
              "            loadScript(\"https://cdn.jsdelivr.net/npm/postmate/build/postmate.min.js\").then(() => {\n",
              "            const iframe = document.createElement('iframe')\n",
              "            iframe.style.cssText = \"width:0;height:0;border:none\"\n",
              "            document.body.appendChild(iframe)\n",
              "            const handshake = new Postmate({\n",
              "                container: iframe,\n",
              "                url: 'https://wandb.ai/authorize'\n",
              "            });\n",
              "            const timeout = setTimeout(() => reject(\"Couldn't auto authenticate\"), 5000)\n",
              "            handshake.then(function(child) {\n",
              "                child.on('authorize', data => {\n",
              "                    clearTimeout(timeout)\n",
              "                    resolve(data)\n",
              "                });\n",
              "            });\n",
              "            })\n",
              "        });\n",
              "    "
            ]
          },
          "metadata": {}
        },
        {
          "output_type": "stream",
          "name": "stderr",
          "text": [
            "\u001b[34m\u001b[1mwandb\u001b[0m: Appending key for api.wandb.ai to your netrc file: /root/.netrc\n"
          ]
        },
        {
          "output_type": "execute_result",
          "data": {
            "text/plain": [
              "True"
            ]
          },
          "metadata": {},
          "execution_count": 5
        }
      ]
    },
    {
      "cell_type": "code",
      "source": [
        "%env WANDB_PROJECT= patent"
      ],
      "metadata": {
        "colab": {
          "base_uri": "https://localhost:8080/"
        },
        "id": "IPc3shdXqARb",
        "outputId": "bf5029c5-1201-4a97-8adf-0694bdb2a419"
      },
      "execution_count": null,
      "outputs": [
        {
          "output_type": "stream",
          "name": "stdout",
          "text": [
            "env: WANDB_PROJECT=patent\n"
          ]
        }
      ]
    },
    {
      "cell_type": "markdown",
      "source": [
        "To use off-the-shelf pre-trained models, we use the `transformers` library maintained by [HuggingFace🤗](https://https://huggingface.co). The HuggingFace library offers models based on Transformers for PyTorch and TensorFlow 2.0. There are hundreds of pre-trained models available in their library for tasks ranging from sequence classification, information extraction, question answering, summarization etc."
      ],
      "metadata": {
        "id": "fvd0lelZGCGK"
      }
    },
    {
      "cell_type": "code",
      "execution_count": null,
      "metadata": {
        "id": "L13Tw81e8x1Z"
      },
      "outputs": [],
      "source": [
        "import os\n",
        "import pandas as pd\n",
        "import numpy as np\n",
        "from sklearn.model_selection import KFold, StratifiedKFold\n",
        "from sklearn.model_selection import train_test_split\n",
        "import shutil\n",
        "\n",
        "from torch.utils.data import DataLoader, Dataset\n",
        "import datasets, transformers\n",
        "from transformers import TrainingArguments, Trainer\n",
        "from transformers import AutoModelForSequenceClassification, AutoTokenizer"
      ]
    },
    {
      "cell_type": "markdown",
      "source": [
        "This task extends beyond general semantic similarity and hence is not akin to paraphrase identification. This is because the contextual aspect is crucial in patent phrase matching, and considering the conventional senses of words/concepts is not adequate. For example, the words \"remote\" and \"pandemic\" are not semantically similar from a general linguistic standpoint. However, in the context of Covid-19, they would be more similar because of their frequent usage in writing related to the pandemic. Thus, in a task like this, harnessing information pertaining to context is imperative.\n",
        "\n",
        "Because context is important in our scenario, embedding models like [BERT](https://arxiv.org/pdf/1810.04805.pdf) (Devlin et al, 2019), which generate contextualized embeddings can offer an advantage over models such as Word2Vec, because while each word has a fixed representation under Word2Vec regardless of the context within which the word appears, BERT produces word representations that are dynamically informed by other words occuring in the vicinity. For example, given two sentences: \"Please bear with us.\" and \"A bear was spotted in the village.\", Word2Vec would provide the identical word embeddings for the word \"bear\" in both sentences, despite the fact that the word \"bear\" is a homonym and has two different meanings despite having the same spelling. BERT, on the other hand, is designed to capture this polysemy with context-informed word embeddings which in turn result in better downstream performance.\n",
        "\n",
        "For these reasons, we opt to choose BERT-based architectures for our project. There is a larger variant of the BERT architecture released by Devlin et al., called [BERT-Large](https://github.com/google-research/bert). This version of BERT is similar to BERT-base, except that it has more attention heads and many more hidden layers, which increases its parameter from 110 million to 340 million parameters. We found that there is a BERT-Large model released by Google specifically pre-trained on patent data (100M+ patents). Even though this pre-training is done on patents from all over the world and not just US patents, this could still provide us a much stronger cold-start as opposed to using the standard BERT. This is the first model tested in our analysis.\n",
        "\n",
        "However, we must be mindful of the fact that BERT-Large has an extremely large number of parameters, and so it is worth comparing it against a smaller, lighter variant of BERT to analyze the effect of parameterization on the final performance. We use [distillBERT](https://https://arxiv.org/abs/1910.01108) as the second model in our analysis. distillBERT is a smaller, faster and lighter equivalent of BERT released by HuggingFace. The number of parameters in this architecture is 66 million. This model has shown that it is possible to reduce the size of the original BERT model by 40%, while still retaining 97% of its language understanding capabilities. This makes it an interesting candidate model for our purposes.\n",
        "\n",
        "\n",
        "In summary, we use two variants of BERT:\n",
        "1) [BERT for Patents](https://https://huggingface.co/anferico/bert-for-patents)\n",
        "2) [distillBERT](https://https://huggingface.co/docs/transformers/model_doc/distilbert)"
      ],
      "metadata": {
        "id": "UIEsLnNlK3b8"
      }
    },
    {
      "cell_type": "code",
      "source": [
        "'''Setting the configuration for the model. Considering the large sizes of BERT architectures (regardless of variant), we decide against\n",
        "carrying out a hyperparameter optimization. In a world where we had access to more computational resources and lesser time constraints, we would \n",
        "define a hyperparameter grid space and then conduct a grid-search over it to converge on the best combination of hyperparameters. For now, we either\n",
        "stick to frequently used hyperparameter values, or pick them arbitrarily based on our judgement. Hand-wavy, but hopefully justified under \n",
        "our limited computational budget.'''\n",
        "\n",
        "class CFG:\n",
        "    input_path = '/content/drive/MyDrive/Patent/us-patent-phrase-to-phrase-matching/'\n",
        "    \n",
        "    learning_rate = 2e-5\n",
        "    weight_decay = 0.01\n",
        "    epochs = 10\n",
        "    batch_size = 16"
      ],
      "metadata": {
        "id": "qb8EHa-L9HmP"
      },
      "execution_count": null,
      "outputs": []
    },
    {
      "cell_type": "markdown",
      "source": [
        "## **Data**\n",
        "\n",
        "We use the [data](https://https://www.kaggle.com/competitions/us-patent-phrase-to-phrase-matching/data) provided by the creators of the Kaggle challenge for our training and evaluation. \n",
        "\n",
        "The data contains two splits, *train* and *test*. The training set contains phrases, contexts, and their similarity scores. The \"context\" is the CPC classification, or the subject within which the similarity must be scored. The similarity score is a mean of one or more manual ratings provided by experts.\n",
        "\n",
        "The training data consists of 36473 examples. The test set provided is actually an auxiliary test set of 36 examples. The actual test set has not been released as it is used to run participants' code against it to determine the scores in the competition. We can however get our scores against this unseen test set by submitting to Kaggle.\n",
        "\n",
        "### Data augmentation\n",
        "\n",
        "We also experiment with augmenting the provided data with two types of information (one at a time): <br><br>\n",
        "1) **GloVe similarity information**: We compute the similarity between the two phrases in each training example based on their respective GloVe embeddings and augment that along with the training data. Namely, we use to [torchtext](https://torchtext.readthedocs.io/en/latest/vocab.html) get the glove embedding for the anchor and the target, and then we compute the cosine similarity. When the anchor or the target has multiple words, we use the sum of the word embeddings to represent the whole phrase, which can possibly be improved by using the mean of the word embeddings..<br><br>\n",
        "2) **Cooperative Patent Classification (CPC) titles**: [CPC](https://https://en.wikipedia.org/wiki/Cooperative_Patent_Classification) is a patent classification system which assigns each patent publication one classification term indicating the domain to which the invention can be categorized under. Every classification term contains a code such as \"A01B33/00\". The first letter is the *section symbol*. The section symbol is on of the letters from \"A\" (Human Necessities) to \"H\" (Electricity), or \"Y\" (Emerging Cross-sectional Technologies). This is followed by a two-digit number to give a *class symbol* (in the example before, \"A01\" indicates \"Agriculture, forestry, animal husbandry, trapping, fishing\"). The letter in the end is the *subclass*. This is followed by a one to three digit *group* number, a forward slash and two or more digits, which represent the main group or the subgroup. Based on this framework, a classification is assigned to each patent application by patent examiners. We augment the training data with this classification.\n",
        "\n"
      ],
      "metadata": {
        "id": "rBhoOlVqZgLf"
      }
    },
    {
      "cell_type": "code",
      "source": [
        "train_df = pd.read_csv(f\"{CFG.input_path}train.csv\")\n",
        "titles = pd.read_csv(\"../cpc-codes/titles.csv\")\n",
        "## We use the context/code to combine the orginal dataset and title information\n",
        "## so that each pair of the anchor and the target can correspond to the right context/code\n",
        "train_df = train_df.merge(titles, left_on='context', right_on='code')"
      ],
      "metadata": {
        "id": "YITK6LX99ehu"
      },
      "execution_count": null,
      "outputs": []
    },
    {
      "cell_type": "code",
      "source": [
        "print(train_df.head)"
      ],
      "metadata": {
        "colab": {
          "base_uri": "https://localhost:8080/"
        },
        "id": "gfJXbmfYAG31",
        "outputId": "84261db1-26e7-4e09-a2b5-84ce33cfae90"
      },
      "execution_count": null,
      "outputs": [
        {
          "output_type": "stream",
          "name": "stdout",
          "text": [
            "<bound method NDFrame.head of        Unnamed: 0                id        anchor                  target  \\\n",
            "0               0  37d61fd2272659b1     abatement  abatement of pollution   \n",
            "1               1  7b9652b17b68b7a4     abatement          act of abating   \n",
            "2               2  36d72442aefd8232     abatement         active catalyst   \n",
            "3               3  5296b0c19e1ce60e     abatement     eliminating process   \n",
            "4               4  54c1e3b9184cb5b6     abatement           forest region   \n",
            "...           ...               ...           ...                     ...   \n",
            "36468       34216  718f1c6953e3942f    undulation     undulatory swimmers   \n",
            "36469       34217  4dc407e6d0aa7844    undulation       voltage fluctuate   \n",
            "36470       36028  de69548ad79caccc  web transfer       transfer from web   \n",
            "36471       36029  6620317413e6e03f  web transfer         transfer to web   \n",
            "36472       36030  96946de83b530746  web transfer            transfer web   \n",
            "\n",
            "      context  score       glove_score code  \\\n",
            "0         A47   0.50  tensor([0.7062])  A47   \n",
            "1         A47   0.75  tensor([0.2509])  A47   \n",
            "2         A47   0.25  tensor([0.1186])  A47   \n",
            "3         A47   0.50  tensor([0.2831])  A47   \n",
            "4         A47   0.00  tensor([0.0037])  A47   \n",
            "...       ...    ...               ...  ...   \n",
            "36468     B31   0.00  tensor([0.5098])  B31   \n",
            "36469     B31   0.00  tensor([0.1494])  B31   \n",
            "36470     B31   0.75  tensor([0.9541])  B31   \n",
            "36471     B31   0.25  tensor([0.9635])  B31   \n",
            "36472     B31   0.75      tensor([1.])  B31   \n",
            "\n",
            "                                                   title section  class  \\\n",
            "0      FURNITURE; DOMESTIC ARTICLES OR APPLIANCES; CO...       A   47.0   \n",
            "1      FURNITURE; DOMESTIC ARTICLES OR APPLIANCES; CO...       A   47.0   \n",
            "2      FURNITURE; DOMESTIC ARTICLES OR APPLIANCES; CO...       A   47.0   \n",
            "3      FURNITURE; DOMESTIC ARTICLES OR APPLIANCES; CO...       A   47.0   \n",
            "4      FURNITURE; DOMESTIC ARTICLES OR APPLIANCES; CO...       A   47.0   \n",
            "...                                                  ...     ...    ...   \n",
            "36468  MAKING ARTICLES OF PAPER, CARDBOARD OR MATERIA...       B   31.0   \n",
            "36469  MAKING ARTICLES OF PAPER, CARDBOARD OR MATERIA...       B   31.0   \n",
            "36470  MAKING ARTICLES OF PAPER, CARDBOARD OR MATERIA...       B   31.0   \n",
            "36471  MAKING ARTICLES OF PAPER, CARDBOARD OR MATERIA...       B   31.0   \n",
            "36472  MAKING ARTICLES OF PAPER, CARDBOARD OR MATERIA...       B   31.0   \n",
            "\n",
            "      subclass  group  main_group  \n",
            "0          NaN    NaN         NaN  \n",
            "1          NaN    NaN         NaN  \n",
            "2          NaN    NaN         NaN  \n",
            "3          NaN    NaN         NaN  \n",
            "4          NaN    NaN         NaN  \n",
            "...        ...    ...         ...  \n",
            "36468      NaN    NaN         NaN  \n",
            "36469      NaN    NaN         NaN  \n",
            "36470      NaN    NaN         NaN  \n",
            "36471      NaN    NaN         NaN  \n",
            "36472      NaN    NaN         NaN  \n",
            "\n",
            "[36473 rows x 14 columns]>\n"
          ]
        }
      ]
    },
    {
      "cell_type": "code",
      "source": [
        "train_df['input'] = train_df['anchor']\n",
        "\n",
        "## Uncomment the following line to run the model with title information\n",
        "# train_df['input'] = train_df['anchor']+\" title: \"+ train_df['title']\n",
        "\n",
        "## We shuffle the train.csv and then split it into train dataset and develop dataset with 8/2 split.\n",
        "train_df, dev_df = train_test_split(train_df,test_size=0.2, random_state=42)"
      ],
      "metadata": {
        "id": "NO7t7RBAAG1t"
      },
      "execution_count": null,
      "outputs": []
    },
    {
      "cell_type": "code",
      "source": [
        "print(train_df.head)"
      ],
      "metadata": {
        "id": "L2pP0ulBAGzY",
        "colab": {
          "base_uri": "https://localhost:8080/"
        },
        "outputId": "888e7cfe-dc3b-4d14-b9e5-a82672b67bca"
      },
      "execution_count": null,
      "outputs": [
        {
          "output_type": "stream",
          "name": "stdout",
          "text": [
            "<bound method NDFrame.head of        Unnamed: 0                id                     anchor  \\\n",
            "31323        8207  a3a062b32b9307a0             cut from stack   \n",
            "12333        4713  2f6ae542239eab27              cathode layer   \n",
            "26830        3641  b8a96cefa30425ca          board manufacture   \n",
            "17100       35402  d3443338c76d7ae5    wafer inspection system   \n",
            "24355        2749  371528b5fa3cc83a                 axle boxes   \n",
            "...           ...               ...                        ...   \n",
            "24657        2497  47fa5c81ccd55fa5          average pore size   \n",
            "7379        25598  ce6f14e52a6f3c20  previously captured image   \n",
            "34534       34698  c18b13941134b7dc                vacuum cups   \n",
            "10060       14089  5d3a7c74bb27f254            free fatty acid   \n",
            "5649        30383  a3887de1b67be9b1         shielded conductor   \n",
            "\n",
            "                                target context  score       glove_score code  \\\n",
            "31323                  printing labels     A01   0.25  tensor([0.5584])  A01   \n",
            "12333     electroplating metal cathode     B01   0.50  tensor([0.7983])  B01   \n",
            "26830                   fabricated dna     C04   0.00  tensor([0.4360])  C04   \n",
            "17100       wafer inspection apparatus     G01   0.75  tensor([0.9165])  G01   \n",
            "24355               support assemblies     E21   0.25  tensor([0.4196])  E21   \n",
            "...                                ...     ...    ...               ...  ...   \n",
            "24657                average pore size     B24   1.00      tensor([1.])  B24   \n",
            "7379            captured digital image     H04   0.50  tensor([0.8884])  H04   \n",
            "34534                  use vacuum cups     B67   0.50  tensor([0.9193])  B67   \n",
            "10060              functional compound     C08   0.25  tensor([0.5215])  C08   \n",
            "5649   cross linked polyethylene cover     H01   0.50  tensor([0.2623])  H01   \n",
            "\n",
            "                                                   title section  class  \\\n",
            "31323  AGRICULTURE; FORESTRY; ANIMAL HUSBANDRY; HUNTI...       A    1.0   \n",
            "12333  PHYSICAL OR CHEMICAL PROCESSES OR APPARATUS IN...       B    1.0   \n",
            "26830  CEMENTS; CONCRETE; ARTIFICIAL STONE; CERAMICS;...       C    4.0   \n",
            "17100                                 MEASURING; TESTING       G    1.0   \n",
            "24355                             EARTH DRILLING; MINING       E   21.0   \n",
            "...                                                  ...     ...    ...   \n",
            "24657                                GRINDING; POLISHING       B   24.0   \n",
            "7379                    ELECTRIC COMMUNICATION TECHNIQUE       H    4.0   \n",
            "34534  OPENING, CLOSING {OR CLEANING} BOTTLES, JARS O...       B   67.0   \n",
            "10060  ORGANIC MACROMOLECULAR COMPOUNDS; THEIR PREPAR...       C    8.0   \n",
            "5649                             BASIC ELECTRIC ELEMENTS       H    1.0   \n",
            "\n",
            "      subclass  group  main_group                      input  \n",
            "31323      NaN    NaN         NaN             cut from stack  \n",
            "12333      NaN    NaN         NaN              cathode layer  \n",
            "26830      NaN    NaN         NaN          board manufacture  \n",
            "17100      NaN    NaN         NaN    wafer inspection system  \n",
            "24355      NaN    NaN         NaN                 axle boxes  \n",
            "...        ...    ...         ...                        ...  \n",
            "24657      NaN    NaN         NaN          average pore size  \n",
            "7379       NaN    NaN         NaN  previously captured image  \n",
            "34534      NaN    NaN         NaN                vacuum cups  \n",
            "10060      NaN    NaN         NaN            free fatty acid  \n",
            "5649       NaN    NaN         NaN         shielded conductor  \n",
            "\n",
            "[23342 rows x 15 columns]>\n"
          ]
        }
      ]
    },
    {
      "cell_type": "code",
      "source": [
        "model_name_1 = 'distilbert-base-uncased'\n",
        "model_name_2 = 'anferico/bert-for-patents'"
      ],
      "metadata": {
        "id": "LQcPoV3_B4gW"
      },
      "execution_count": null,
      "outputs": []
    },
    {
      "cell_type": "code",
      "source": [
        "model = AutoModelForSequenceClassification.from_pretrained(model_name1, num_labels=1)"
      ],
      "metadata": {
        "colab": {
          "base_uri": "https://localhost:8080/",
          "height": 193,
          "referenced_widgets": [
            "33631e26606a4db4bb18e0792bc2658b",
            "1aae21f1d6364ee38556fc7ee7324d8e",
            "61a74d7f49ae4ae5b5489d0d6e152da4",
            "e761af00b75e4970a218ffcfbe829dc6",
            "df12b368a67e4419bab651b9189ecc99",
            "8bed5eb58bb34a7da3f68f203c3ed9e3",
            "3f64f06824504c9d8edbd1d3c1cc9d2a",
            "fa8e4ec0879b493b94c305fc360799ca",
            "59dcf882400b46cc8226f0565ef99eab",
            "2dc4368bf2f940b3888a581049f627a3",
            "ddc27eebebf0402f925dad2579d2c5cf",
            "9b3fc7e57ab74a1a8a4b26686a11040d",
            "b88194f794a748e789230e9db1a8b3c1",
            "4085bf17a66a4151908d3d006590cd8e",
            "16382c480cdb4f9dab115f1c1762a605",
            "488db073144e4019a8d00175a1376b97",
            "c12ff972ebe442049a3f40fba279dc3c",
            "a84bb56b8e7445ba9ca5000afdf53f16",
            "460386fa03ed4f55a60f5e17bd8b7f7c",
            "c6310a7a3034497485fcace8b0930822",
            "fd865a4555eb4e40ab52e5eb67a93839",
            "c0ea30ca46cb49e8a6c6775cc7722129"
          ]
        },
        "id": "-VEvGo5wrMaP",
        "outputId": "6bcbe2e9-b2af-4c2b-b509-3f69ea91b22e"
      },
      "execution_count": null,
      "outputs": [
        {
          "output_type": "display_data",
          "data": {
            "text/plain": [
              "Downloading:   0%|          | 0.00/483 [00:00<?, ?B/s]"
            ],
            "application/vnd.jupyter.widget-view+json": {
              "version_major": 2,
              "version_minor": 0,
              "model_id": "33631e26606a4db4bb18e0792bc2658b"
            }
          },
          "metadata": {}
        },
        {
          "output_type": "display_data",
          "data": {
            "text/plain": [
              "Downloading:   0%|          | 0.00/256M [00:00<?, ?B/s]"
            ],
            "application/vnd.jupyter.widget-view+json": {
              "version_major": 2,
              "version_minor": 0,
              "model_id": "9b3fc7e57ab74a1a8a4b26686a11040d"
            }
          },
          "metadata": {}
        },
        {
          "output_type": "stream",
          "name": "stderr",
          "text": [
            "Some weights of the model checkpoint at distilbert-base-uncased were not used when initializing DistilBertForSequenceClassification: ['vocab_layer_norm.bias', 'vocab_projector.weight', 'vocab_transform.bias', 'vocab_projector.bias', 'vocab_transform.weight', 'vocab_layer_norm.weight']\n",
            "- This IS expected if you are initializing DistilBertForSequenceClassification from the checkpoint of a model trained on another task or with another architecture (e.g. initializing a BertForSequenceClassification model from a BertForPreTraining model).\n",
            "- This IS NOT expected if you are initializing DistilBertForSequenceClassification from the checkpoint of a model that you expect to be exactly identical (initializing a BertForSequenceClassification model from a BertForSequenceClassification model).\n",
            "Some weights of DistilBertForSequenceClassification were not initialized from the model checkpoint at distilbert-base-uncased and are newly initialized: ['pre_classifier.bias', 'classifier.weight', 'classifier.bias', 'pre_classifier.weight']\n",
            "You should probably TRAIN this model on a down-stream task to be able to use it for predictions and inference.\n"
          ]
        }
      ]
    },
    {
      "cell_type": "code",
      "source": [
        "tokenizer = AutoTokenizer.from_pretrained(model_name1)"
      ],
      "metadata": {
        "id": "yPQ5ZpLYCUBa",
        "colab": {
          "base_uri": "https://localhost:8080/",
          "height": 145,
          "referenced_widgets": [
            "9f2869ebf7774d60bad6677e4b84a5b6",
            "62fbf58de21d48f9bad87a0d1b254f7e",
            "31b4b997bee64fb8947ce3495b6bfac7",
            "d26d07007cd2466ea92c1cf58d9b308f",
            "70919d3bb2094c3ea6174c1c7e0ae0f0",
            "c48b6905828547038f8232f12e729be2",
            "c2bc9046456d40599bc9daac4f42dfaa",
            "bfdcd0e574864b63ad45a903b460e841",
            "0a2feb8b35024c18a1e163c8e50d0a87",
            "89943dbadeae4b17bb20647a79ba0eb3",
            "fd2e23a8ec674b469d771ab1d67b450c",
            "31e338d49ba94a6bbd554e2fd30f86ed",
            "c181f23de8c5449180ab9a8e4946df78",
            "cabc21faec6644df92a1782034eac0a2",
            "8b7a7d09758e446398905038744e36a9",
            "ebb7d7cdda774eb8a8088a089c290a5e",
            "4a94cb14c3344280b7123558dca40e3d",
            "ac99127c8a8148df992e478b617a40a5",
            "071688b34e3946b985a83badc983ba1f",
            "2274b7d12b874e46a07a0a4488844a27",
            "0640a842eded46cf855acdc1f3089cb8",
            "92610b19ec164bc4bc1f708edd442a13",
            "87ae185594b74b7784c54c6ed9a7622c",
            "1ffdcdb2df7a48d883ac47588c334169",
            "db935a1020e442b484b5264570ea3ab3",
            "b9734e956bcf41be866165ab11b79510",
            "65d55fab430444dbbc5eb1c652517232",
            "1da62f38b9f14f5f9bb8ad70c3a61369",
            "1d8e001e82a64f6a885be7af1a10659f",
            "a4ad4ebb2a8e4bd994051a67bf7e8015",
            "88924e6fa593420c96f92bf758021ee5",
            "48d5123743074d9ab40004cf08f3035d",
            "1f696db1df384e4dbef4bf43d37cdba0",
            "fd97e3228644443bb572981540bbdb2b",
            "f6ce6bbdc7cf4fda9b9d348318324348",
            "5de2ff1be8ed40f6abccde3ac24ee2e5",
            "70b13d751ab94a518a22d5a0e297a598",
            "d6e65037970d482b90a5e3abc0883b6f",
            "91cd3c2dcb6e4eb8b9c18864f6017441",
            "fca4320b4f184605bf8d998799df74d4",
            "ac68c8495d0b4366bcb00b4c7def1923",
            "9f9a24c42fae4d37a9d9cdd8d01d8659",
            "c9dd78f186124b78aba3a60f019b688c",
            "25c7ebfb7aa94a86981fd45ea2bb72db"
          ]
        },
        "outputId": "f721de34-a88d-484c-e2e8-b5b39d3e127e"
      },
      "execution_count": null,
      "outputs": [
        {
          "output_type": "display_data",
          "data": {
            "text/plain": [
              "Downloading:   0%|          | 0.00/28.0 [00:00<?, ?B/s]"
            ],
            "application/vnd.jupyter.widget-view+json": {
              "version_major": 2,
              "version_minor": 0,
              "model_id": "9f2869ebf7774d60bad6677e4b84a5b6"
            }
          },
          "metadata": {}
        },
        {
          "output_type": "display_data",
          "data": {
            "text/plain": [
              "Downloading:   0%|          | 0.00/483 [00:00<?, ?B/s]"
            ],
            "application/vnd.jupyter.widget-view+json": {
              "version_major": 2,
              "version_minor": 0,
              "model_id": "31e338d49ba94a6bbd554e2fd30f86ed"
            }
          },
          "metadata": {}
        },
        {
          "output_type": "display_data",
          "data": {
            "text/plain": [
              "Downloading:   0%|          | 0.00/226k [00:00<?, ?B/s]"
            ],
            "application/vnd.jupyter.widget-view+json": {
              "version_major": 2,
              "version_minor": 0,
              "model_id": "87ae185594b74b7784c54c6ed9a7622c"
            }
          },
          "metadata": {}
        },
        {
          "output_type": "display_data",
          "data": {
            "text/plain": [
              "Downloading:   0%|          | 0.00/455k [00:00<?, ?B/s]"
            ],
            "application/vnd.jupyter.widget-view+json": {
              "version_major": 2,
              "version_minor": 0,
              "model_id": "fd97e3228644443bb572981540bbdb2b"
            }
          },
          "metadata": {}
        }
      ]
    },
    {
      "cell_type": "code",
      "source": [
        "class TrainDataset(Dataset):\n",
        "    def __init__(self, df):\n",
        "        self.inputs = df['input'].values.astype(str)\n",
        "        self.targets = df['target'].values.astype(str)\n",
        "        self.label = df['score'].values\n",
        "\n",
        "    def __len__(self):\n",
        "        return len(self.inputs)\n",
        "\n",
        "    def __getitem__(self, item):\n",
        "        inputs = self.inputs[item]\n",
        "        targets = self.targets[item]\n",
        "        label = self.label[item]\n",
        "        \n",
        "        return {\n",
        "        **tokenizer( inputs, targets ),\n",
        "        'label':label.astype(np.float32)\n",
        "    }"
      ],
      "metadata": {
        "id": "gxtxehjKCaz9"
      },
      "execution_count": null,
      "outputs": []
    },
    {
      "cell_type": "code",
      "source": [
        "def compute_metrics(eval_pred):\n",
        "    predictions, labels = eval_pred\n",
        "    predictions = predictions.reshape(len(predictions))\n",
        "    return {\n",
        "        'pearson': np.corrcoef(predictions, labels)[0][1]\n",
        "    }"
      ],
      "metadata": {
        "id": "Q2Lq6D_fCo-R"
      },
      "execution_count": null,
      "outputs": []
    },
    {
      "cell_type": "code",
      "source": [
        "tr_dataset = TrainDataset(train_df)\n",
        "va_dataset = TrainDataset(dev_df)"
      ],
      "metadata": {
        "id": "5waVJLtsnhFv"
      },
      "execution_count": null,
      "outputs": []
    },
    {
      "cell_type": "code",
      "source": [
        "args = TrainingArguments(\n",
        "      output_dir=\"/content/drive/MyDrive/Patent/trained_Models/distillbert\",\n",
        "      evaluation_strategy=\"epoch\",\n",
        "      save_strategy=\"epoch\",\n",
        "      learning_rate=CFG.learning_rate,\n",
        "      per_device_train_batch_size=CFG.batch_size,\n",
        "      per_device_eval_batch_size=CFG.batch_size,\n",
        "      num_train_epochs=CFG.epochs,\n",
        "      weight_decay=CFG.weight_decay,\n",
        "      metric_for_best_model=\"pearson\",\n",
        "      load_best_model_at_end=True,\n",
        "      report_to=\"wandb\",\n",
        "      run_name=\"distillbert\"\n",
        "    )\n",
        "    \n",
        "model = AutoModelForSequenceClassification.from_pretrained(model_name1, num_labels=1)\n",
        "\n",
        "trainer = Trainer(\n",
        "      model,\n",
        "      args,\n",
        "      train_dataset=tr_dataset,\n",
        "      eval_dataset=va_dataset,\n",
        "      tokenizer=tokenizer,\n",
        "      compute_metrics=compute_metrics\n",
        "    )\n",
        "    \n",
        "trainer.train()\n",
        "wandb.finish()"
      ],
      "metadata": {
        "id": "3w_oWQ-zCyVp"
      },
      "execution_count": null,
      "outputs": []
    },
    {
      "cell_type": "markdown",
      "source": [
        "### Comparison of loss curves\n",
        "![image.png](data:image/png;base64,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)"
      ],
      "metadata": {
        "id": "SwLZjjRfBIP-"
      }
    },
    {
      "cell_type": "markdown",
      "source": [
        "![截屏2022-05-03 下午9.30.44.png](data:image/png;base64,iVBORw0KGgoAAAANSUhEUgAAAgsAAAFhCAYAAAD+2OlvAAABRGlDQ1BJQ0MgUHJvZmlsZQAAKJFjYGASSSwoyGFhYGDIzSspCnJ3UoiIjFJgf8bAysDMIMygysCcmFxc4BgQ4ANUwgCjUcG3awyMIPqyLsisvXsDN+lGyV9WPuiymzV8yTJM9SiAKyW1OBlI/wHitOSCohIGBsYUIFu5vKQAxO4AskWKgI4CsueA2OkQ9gYQOwnCPgJWExLkDGTfALIFkjMSgWYwvgCydZKQxNOR2FB7QYDHxdXHRyHAyMTQ0oOAc0kHJakVJSDaOb+gsigzPaNEwREYSqkKnnnJejoKRgZGRgwMoDCHqP58AxyWjGIcCLGUpwwMxrlAQQ2EWJYAA8PubwwMglsRYuoPgd6ay8BwIKAgsSgR7gDGbyzFacZGEDb3dgYG1mn//38OZ2Bg12Rg+Hv9///f2////wuMJ+ZbQL3fAG0UX7osfLv2AAAAVmVYSWZNTQAqAAAACAABh2kABAAAAAEAAAAaAAAAAAADkoYABwAAABIAAABEoAIABAAAAAEAAAILoAMABAAAAAEAAAFhAAAAAEFTQ0lJAAAAU2NyZWVuc2hvdNT+OMoAAAHWaVRYdFhNTDpjb20uYWRvYmUueG1wAAAAAAA8eDp4bXBtZXRhIHhtbG5zOng9ImFkb2JlOm5zOm1ldGEvIiB4OnhtcHRrPSJYTVAgQ29yZSA2LjAuMCI+CiAgIDxyZGY6UkRGIHhtbG5zOnJkZj0iaHR0cDovL3d3dy53My5vcmcvMTk5OS8wMi8yMi1yZGYtc3ludGF4LW5zIyI+CiAgICAgIDxyZGY6RGVzY3JpcHRpb24gcmRmOmFib3V0PSIiCiAgICAgICAgICAgIHhtbG5zOmV4aWY9Imh0dHA6Ly9ucy5hZG9iZS5jb20vZXhpZi8xLjAvIj4KICAgICAgICAgPGV4aWY6UGl4ZWxZRGltZW5zaW9uPjM1MzwvZXhpZjpQaXhlbFlEaW1lbnNpb24+CiAgICAgICAgIDxleGlmOlBpeGVsWERpbWVuc2lvbj41MjM8L2V4aWY6UGl4ZWxYRGltZW5zaW9uPgogICAgICAgICA8ZXhpZjpVc2VyQ29tbWVudD5TY3JlZW5zaG90PC9leGlmOlVzZXJDb21tZW50PgogICAgICA8L3JkZjpEZXNjcmlwdGlvbj4KICAgPC9yZGY6UkRGPgo8L3g6eG1wbWV0YT4K5AFliwAAQABJREFUeAHsnQd8XMXxx39W75ItWcVF1XLvHXdsU0wwhB5aCCGE7lDyD0kggSSUVCAhECAkIUAwGNNsYxtw773bclGzJFuyeu8S/5mV3nl1Ol1R8Z3kWX/kt7uzu2/f993dzpud3dfrWwqQIASEgBAQAkJACAiBNgi4tZEv2UJACAgBISAEhIAQUAREWZAPghAQAkJACAgBIWCVgCgLVvGIUAgIASEgBISAEBBlQT4DQkAICAEhIASEgFUCoixYxSNCISAEhIAQEAJCQJQF+QwIASEgBISAEBACVgmIsmAVjwiFgBAQAkJACAgBURbkMyAEhIAQEAJCQAhYJSDKglU8IhQCQkAICAEhIAREWZDPgBAQAkJACAgBIWCVgCgLVvGIUAgIASEgBISAEBBlQT4DQkAICAEhIASEgFUCoixYxSNCIdAzCSz87vWYe9kVyDp7ttUFNjQ0YOal8/Due/9Tsief+pUqu2zFl63KSoYQEAIXBwGPi+My5SqFgBDQCRQWFqGisgIN9fV6torv3X8AZWVlmDx5kkpzvLCoCNVVVa3KSoYQEAIXBwGxLFwc91muUgjYTWDHzp3o3TsEQ4cMtruOFBQCQqBnExBloWffX7k6IeAwgV27dmPcuHEO15MKQkAI9FwCMg3Rc++tXFk3I9DY2Ii3/vVvrFq1Gnl5+YiLi8XDD96PS6ZOVVdy30OPoJimA154/ndIiIszXd2f/vIS9uzdh8d+8hNMmjgen32xDCupjfT0dNTW1WPkiBF4+hc/w4ABA0x12opU0FRD0vETuHbh1W0VMeUnp6biLy//FceOHYOHhwfGjR2L/3viMUSEh5vKHDpyBJ989jm2btkGN3c3jB49Gg8/cB9iY2JUGVtyU0MSEQJCwKkExLLgVPxyciFwnsDj//ck3njzLRSXlGDkqJE4fuIkHlr0KPYfOKgKRUVE4MTJk/j6mzWmSuyM+PmyFUg/fRqjRo/Eyq++xnMvvIjUtDTEJyTA388PO3buwCOPPoFvv/3WVK+tyM5du9DQUI9p06e1VUTlHz56DLfd8X1s374dXp5eqK2txZq1a3HjLbciJydHlTmXm4v7HngIK1asxLDhw5CYmIgNGzZi7br1dsmtdkCEQkAIXFACYlm4oLjlZELAMoH1Gzdhw8aNiI+Lx0cfvAdPT0/s278fP7z3Prz9n3fw2l9fxlVXLSDFYBk2bdqMB358r2pox85dqKgox+xZs+Dv64urF1wJD3d3XHHZfLi5uaG6uhpXLbwWaelpOHz0KEaPHGm5A825O7bvRL9+/dA/Kspqueeef0EpCNdffx1+/tMnVPyXv36W+rYJL/7xz/jrS3/GwYOHUEWWiqlkGXn15b+o9s5kZ5vatiW32gERCgEhcEEJiGXhguKWkwkBywQ2b92qBJMmTcCBQ4exm6YV6hsa4ePjjeRTyU2yCePRt2+4si7k5eWpvLUbNqjjgisuV8devXqB42Xl5fhmzVqlaPQipYFDVmaWOlr7b9eePZg4YYK1IighywdbODjceeut8PLyQkBAAG4ixYHDbmqDwxBykHR398Du3Xvwe1Ig0tLSTYqCPXLViPwnBISASxAQZcElboN04mInkJGRqRB8tORj3Hvf/ervx/c/QJaBGhr4y5SMFYHL5s0F+zasWb9B5W3ZshV+vn64dM5slebpgF//5ne47Mqr8PNfPo21a9fTtEKDkvFTvrWQn5+P0zSdccnUKdaKqSkOLhAQEKj8KozCE8Y3OUVWVlYiNzcPMdHR+P0Lv0NwSDA+XLIE1998Cx545Cfg83CwJTfalaMQEALOJyDKgvPvgfRACCA8LExRuPWWW7Bk8f9a/P3vv++YCC38zlUqvmXrNvV0n0t+Aexf4O3trfJf/MOfsGz5csyYMR2rv1yGz5Z+RE/4Q0z1rUW27dgJVkim2VAWoiIjVTPlpMSwUmCEEydPqagn+TCEhYWq+GXz5uGrFcvw2988i+iYaOXj8PQzvzWqkPJjXW4qKBEhIAScSkCUBafil5MLgSYCo8eMVpENNOc/iBwTB5MzoPEXFxerZPzfsGFDET1wIPbv24+1zdaFBZdfZpKznwOHe+++m6Ys+iorRElxiUluRIypCd3pcQcpCwnxCQgODjaKqaMbKRAcGtX/QCQpC2GhTcrNV99805wLk+PlkMGJyl+C286kqQ/2v7iGlJx/vv66KpuUlKSOtuSmhiUiBISA0wmIsuD0WyAdEALAzTdcjwRSErLJAXDB1dfizy+9gldffwPfvfFmHCBHQT1cTspBZVUlPvxwiZoKmDVzhkk8Yfx4FX/hD3/E67Sy4tY77qJVFcdNciMS37z08q23/21kYc++fZhMPhPmITExQWV9+eVK8AoHDj99/FF1/MvLr+DHDz6M2+68C4s/+kgpCbx8ksPb//oPrr/pFjz1zG/w/gcf4re0SoPDsGHD1NGWXBWS/4SAEHAJAu7PUnCJnkgnhMBFTIDN//Pnz0PWmTNIOpaEg4cOYT9ZCfgJ/pKpk9GfVigYISIiHB9+tAQ1tTWYP3cuLqeVD0Zgq8MRWtZ4hFY+HKAll7wEc+6lc2j55QHMnjkTw5sHaj4fO1HyHgk3kqKSSw6T/6JVF/fd+yNERw80mlPHkKBgbN2+Aym0r8IwmtJgi8egQQno17+/ajclJQV55IcQFRmF3z//HO31MFHV86PVGSm0hJP9KrZu24aMjAyMHzcOz/3mGeUQaUveohOSEAJCwKkEepEp0Pbia6d2UU4uBC4uAjXkpMgbKrG5PzgoqF0Xz0sUQ0JC1HLKthrgZZXZ2TmIIV+CxR9+jFdefRVbNqw1+T/o9fhnggf+gbSxkzetftBDRmYm7bXgqfqr5xvxmpoaWrp5GpGk5HCfzIMtuXl5SQsBIXDhCYiycOGZyxmFgMsRWPT4T1FWWor/vP2Wy/VNOiQEhIDzCYjPgvPvgfRACDidwBma/pg9a6bT+yEdEAJCwDUJiGXBNe+L9EoICAEhIASEgMsQEMuCy9wK6YgQEAJCQAgIAdckIMqCa94X6ZUQEAJCQAgIAZchIMqCy9wK6YgQEAJCQAgIAdckIMqCa94X6ZUQEAJCQAgIAZchIMqCy9wK6YgQEAJCQAgIAdckIMqCa94X6ZUQEAJCQAgIAZchIMqCy9wK6YgQEAJCQAgIAdck4OGa3eqaXm3fvRfFtEvdgnmXds0JpFWbBEpKy7D40y9M5e685QarWxKbCl4EkcbaOmx5/B+Y8OSt8B/Y9yK44ovrEgvTk3H8m+WYdm/Ti7Yurqt3vavNSToIN3cPhA8e4VDnco4ewMkNK1Udv+BQTLzjPofqd9fCF5Vl4TS9Ljcz62yX36vikhIknTjVZefhvfQPHzuOWnqHQFeFEympKCgq6vTmfXy8MXXieIwdORy76TXL9XV1nX6O7tpgY0MjUr7agW8bu/51Lee2H0NFVl6XoSo5nomiw2ld1n5VThGyNx/usva7ouHKwjycObKvK5pu0WZ9dRXOHNyNBnrRWFeFc8cPoyL/XFc1j8qifGQfbT8re+ofXvYRDi/70OI1WGMYGNEP8ZfMRUBoODIO7rJYvydmuqxlgV+mU1hU7BDzPr1DWr3kxqEGOqnwhq07wIrJsCGJndRiy2bSMjLx5jvv4e9/fL6loBNTf/rb6/jVTx9FaO/endgq1P1hRaGsvLxT23VGY4XHM1BXXmn3qT0D/NBnaLTd5buy4KofPI9rlz4H/wFdY8HY/sy/EX3pBPQeFdcll3Hy/W+QfzQdUTNHdUn73zY2ID/1JBobGuxu3z8sXA0gdlfoooL5aSex8fU/4LY3l3bRGYDVL/wcC3/7V/iHRXTJOU6u/RKFp1MQNaLpleuOnsSe+nMffxa96J+lYI0h32f+q6+tRvre7Zaq98g8l1UWduzdj2MOPp0Pp8F59iVTbN6oAlJC9uw7AP+AAEwcMxI+Pj4t6vBTdXp6BnqT8jFx7Gi4uZ03wLASwIHfBrh7/wH1hr7J48fCx9ubXhlcq574d1HfK6uqsOfAIVV21PChapAsoSmQ02TZGJaYAC5TRz9Eo4YPowG55Zv4Ms9mIzm16als+OBERISf/0E/RBaFvQcOo4reGGi0H0uvJQ4LPT+ol5WV4xC9priSyowYOgT9Is9/obn/Hh4e9Pa/YNUHL+r3ZLpGT3prIId0UkRycvPAbxlMTktHXkEhwvr0RqzZa4tV4Tb+4+vcuWc/qsgCMn7MKLjR65APJx3HlXPntFGjdXZeQQGOHj9J19UHQxLiTf3LIjYNxC1m4ABTpTqyTrClhc9lBGsMjDIdOVblFeOLhT93uInvbXsdvn1b3u9WjRD7jJW7UJ6Ri/DJQxA2vqXSWZNfiqy1+1BXVol+s0YjaPB5Fg01dTizZh/6zxunnrxLU86i78Qh9DdYnabwQApKUs8q60Xu7hMoo3ME9A9Dn7EJSp6z5QgCYyJQW1yOnB3HEBTXD/3nj2vRxfqqGpxddwDlZJkIGBiOgVdMRC/3pu9IRWYeCg6lInvfCfiEBCHgy51w9/FS/dEbYctGwcFU+EWFIubqKab6Rv+jr5qMc9uTUHgkDZGkEPQe1qRkGedOWbkdNXT9GdQ+h35zx8LD11s/RYfi6bu2YONrf3CojeCoAbjuj7ZfxFVfU420rWvpc1yPAWOnIKBvZIvzlJzNQM6R/XCj7+nASTPgExhskjfU1eLMgZ3oP2YKPXnvB5eNIDN6WOJwVebMgV04vWcraiuJze7NKq9PbKLpHGxCDwiPRG0F3d/jhxAc2R/9qQ964KdyPn8NlekTOwgRQ89/rwpST6A0O0v9PuSdPIryvGz40xN2aPwQvQmw5SGfyvr3CUPM5Jno5eau5BUFuSjLzUbEkFE4vWsTqstKEDNpJnxD+ig5szl7aDdSd25qcQ39Rk+Ch3fL3+kWJ2xO2FO/srgQ+aeOqhoBpOz0iWv6bhjt2WJolLN2ZCUza982utYchMYlInL42BbFmUM2WZmqiosQRJaKgROmwa35N7hFQRdKuD9LwYX6Y+pK6ulMFBQ6ZgbvQ0/BcVYGtSNJJ2iwzsKmbTvhTebww0eT8PWGTZg6aYJ6xS6f/O33FmMfDcYREX2x//BRrNu0BTOmTkYvGvA4fPblauw5eBBrN26Br48v+CmflZoJNFBV0hf06w2bcTI5RU0RuNEXJPtcLoYNHqSUiuOnUvDeRx/j8PETKKcn0jP0euBPV3yJhJgYNShy++s2b8WSz5cjwM8PuXkFWLrsS7DFZEC/KBZjzcbN2LFnrxowjfbDaUDlQZVD2ukMvPSPfyIwMAANjY34YOlnSmYoDJ+uWI0jNHB/vW6j+gJv37kbGWfOmgZavmZWQnLz8sHW8Hy6B25uvRBHrzG2J1SQkvTCS68ikBQxnnJ4l159vOfAQUQP6K/ujbt7048GT6GsXrsBV8ydoxQtve3V6zbg3+9/CF9fX+w/eAQr16zHlPHjiKEX+HPxnw8+wvzZM0z3JIm4frJ8JS6dOU01Y4uBfq72xmtoMD32ziqHqw+78wp4BflZrNdY34BD//gCJUmZyDuUDPpFxu4/L4aHm4dpsM/fn4yvf/gifPsE49u6Bmx/7r8I6tcXwc0KQ01BKZbf/GuUp+aowd7NywP7//4JYudPhFdIADK/2ov01TtRmkkmZJr24AG/F93fsLGDVJ82PPgyCmj64NTSDXDz8sTR91Yjd9tRxF0zXcl5sF529S9QU1CmlOi0ldtw8n9rMOimOWrALz6ajpTPt6AwOQvl2fnoVf8tKnMK0X/ueYVjy2OvI+Pr3QiOi8Lpb3bj+LtfIZHrUz9YEVp+y69Rm1uCjG/2ora0Erv+9AFi502ET1gQKTEVOPavlaSMHEd9dS3c4YaS5DOIumQEPPxtDyYWwVvILEg7hYy9OyxI2s7ypMFs+JXfbbMAD7Kn92xD5t5tqKksRzkNJLsX/xuRQ0aoJ1WueGrdl9j13psI6R9Ng/IZ7Hz/DcROnAYv/0DVLg+uK559nOpmIefYQbh7emH/Z/9D9PhL4B0QiKSvvkDq9g1orK9X96fkbCYCSTkwFJINrz6HgvRTSN74DTxocDr29TKco3biLpmj2i8kq8RXv/8lPVB4oraqEkdXfoLSnDOk1ExW8kx6kk7fvQWl57Lp80mfH5qKcOvlhtCE88rCljf+iAy6TlZEMqj8iTUrMGjWZfR9daMBdDv2f/I+MkhRaBq0k5BEVoTBs68g/wF3paAkrf6MFJmjqKeHDX5Q42vgwdbT7KFOdcjsP1ZwbNUvo+tJ3vwNcdpE/adXtJNCpgdbDI2yxVnpyE46hGGXX2tkqWNdZQVW/+4JupYy+ASF4PDyJSjPOYt+oycqOSt4y3+9iJTAEJIH4zQpdYe+XIrBc5oYtGjMhRIua1kYQ0/jIUFNXxB7ecXQgGQr8JPp00/8RA1e/PT8uz+/gq9o4Lzh6gXYd/AwMrLO4NknH1cfUnaEfOb3f8G23fswY0rTjeb2T9Dg9PtnnjJZBErLytRpgwIDcd9dt8ODPvR+NNDdekPLDxEXKi4pxTULrsCsZgvIJytW4YNPPsdvfv6EamMKzefPJOXEeNI/TArOezTgTpnQ9GN7+43XIY4sCd9s3KTOpSpp/72z+GNcT9dilGcl4+MvVigLiVGMrRbPPvkEWUcCwVaM5//yV9xzx/fU4HvpjGnkTzACP/31b/HQD7+vlByjnj1HVsj4qf+2G5t+NH3pC56Tm4urL59vT3U1ffMFKWS/eOwRdY+40hv/eQ//WbwEi378Q4wZMQzvL1mKYydPYcSQpieCg6TgjBs90tS+PQxMhdsZ4afxqc/8ALVlVXa34BXoq57ibVXwpkF99j8eVcUG0CC78f9eR+Jt8+BJ9bc+9U9MfPRmxF7X9APHT9y7/vgBor8zpUWznjRwzvr7IpU3+uHr4NO36el08F2XYcDl4/HRrEcw543H4OHXeoDNT0rHdV/9USkL1Xkl+PTKnypLBz/t89P7gg9+Bd+IJkvWt6RwrL75N0j9ZDMGfe9ShE8bof5y5yRj8i/uIKvDpBb9yly1C9z+tV/+XikXw+9fiC8WPKnqJ9w821TWJyQQU96/R6Xrf/QnZKzaiVFDBqjrmPnqI3B7wgNegX6Y9OxdpjqdGRk4bgom3nK3UrjtbbfPwFibRavLSjH+utsw+LJrVNnd772BvUv+jQW/ekkNnnuW/BfXPPfqefM+DZYHP/8A03/c9PtgnMDLxx+zHvqlSo685lb4Boeo+JS7HkTf+EQcI6Vh5oOWLV+F6am49sU31JNsVUkxPv/5fTS4b0b0xJnoTVaIq3/7qqm9KnoK//zn92PEguvJIhGFIfMXYuC4qVjy6F2Ys+hpeNADkx4yyapReDoVC59/TT2MjPjOTVj2ywfJkrIO8TMvU0ULs07jyiefR+SIsWqa5+NFdygFhh0N+Tq4326krHj5+mPSnffrzduM21OfrSUz7v8Z9n7wFipLWj+Q2sPQWkcOLP0vwsiaMPWen6hiCTPm45MnfoihV1yrlLZCUkR9yVo0ma6tF93f4QtuAFt8WPFz5eCyykIomb75r7PDwP79TYMQWwvGjRqJk6mp6jSHyezN5vlN25tMm5zJT8cZZI2ApiyMHjHcpChwGVYS9FBHWr0XPQVbCnzO6ZPPKx48qK/6Zi3YadGbpgT8Scng6YwjZH0opukSLs+Ohpzn7dXUZm19nUmZ0M/BfgBnsrNRXlGJDVu3K1FVVTXyyaRfTe3zVAmHMaNGKEWB4/1pioLN+gWFxWSBaOJtOE56NZ+Py9kb3OnDz9MCRuC4e7MJ0sizdmQrTQwpQ2yJMMKs6VPx+tvvKNOn4jdlMjaRXwgrC9x3ng56+ommwdVeBkbbHTkOu+PyjlRvs+6gG88PmjzYNj7eiOKTWTQlEIECemJnq8ap99ao+rVkoSo7m4f68mp4BJwf+IfddYWpfUNRMDIaqpocY9sy28dfPlkpClye60ZNGIZzu5PAygIHVhRKTmShiJwY6yurqKyHSith83/1NB1iqf0zmw7RD2ZvJH+wzlTcO8AXBUfTkIDz1z3k++f733twNErSc0zlOcLTFe59mz7PLQSdlPAOCMLIq2/qpNbON8Of3wR6ijZCzJSZOLFhtUrm0rSAJ1kUzx7aY4jJSZF8t2jwNQ9DLltoyjIUBSODHRvdrXx3YydPN5m8uW7kkOHIpSd5Vha4f/y0m8tTDOdouooeqNzJAlFMAzwrCxx4KoSDpWmBs4f2wq93HyQ3XxOX86LftIL0ZJOyEBIRpRQFlrE1ITiyH1lRMlusSmioq4FHSPt//ztc3wZD7ntb4SwN/P1IEWIrkRE8SakqykhVysIAsgIl0aqY5U8/jMGXXgFWJlhxcvXgsspCV4Fjk74e/OjLWU2mVQ6lNNfO84j5NE9vhMT4uFbz9cHBQYbY4lF9wWjQtBT86XyGKZ7lwWSu5/Ll9KPLygIv7/x85VcYnBCvph+MgbesrALeoU3KQlvtF9OyRLZqFBUXtzj1gvlz1TmMTLZ6GIHNfPwDUU8KiBG4fc7jP0fDyGFD1JP/m++8r5So3fv34/GH7H86YMUoxIxvaEiI8tFgHwxWpmZNm4qnn/u9cpI8dOQYYmjqyVB07GXg6HVdyPIBZk6HXv6+yj+BVwB4eHoos77en7E/vJoswo16FnyjmqalWmQ2J9T9JZM/3WBLYvg1Ww0MoU+fQFJQKlSyjqYF1t/3EpmIaxExbjA9WXqSibUA/hFm5+NBxqNpysloh49VeUVkIm+g6Y9cU3bE+MEIHZ1gSnPEq7e/Ke3m6U6DZr0pzRFeMeLuYfk71qKgiyW8A4NoID+v5HjT959XBDXSH5vlWbEuyzuvGPmQb1T8tDmtrsK/d1irPCOjkdjrflZGvnH0Cwk1ouroS6byajKZcyimAW3D318E+1+E9B+o8ticXl12/jfF+H2w9Pnha+D5ev0awgcPR1j8YNUW/+flH2CKc4R9Mxro+vXQ9Blt/fnRy1iLd7S+LYbWzl1J1ppaWpGiM0icNR8B5BTJwdPXDwt+/RJNR23FqQ1fY+/H72IkWR3G3PB9a806XXbRKQvmKyzy8vPRN6zpy9M3NFQNSjde850O3RgesI2nc/OG2PGRZcZTey499fOUQx+yaLDTIs/HP/vzn6JfRNMHix31vqI5fD2wslFb1/LHk+Xsu1BPX1Sezw8JbjI76/XsjfOPPH/Z+KldV2zsqc/KjQ9p0UPJT4Ov8+ePPozwsLZ/2MzbjB3QH6tpWkgPp2lqiFdlsKLAgR1CEwclYAv5W7Cj6A3XXG0q3lkMTA06IcJ+BMFkcufAFoPK4jKyKkTRU34QDSz1GHr3AvhGtv+py50UDh5seV8H9kswD+XkY6AH7k8kOUlyOPTKJ/DuHYjLX28ysXJeVWEZ2JdBD270GaprtmDo+UEDI1FD1pBxv7hNz3Y4rhSI6pYDjMONOKFCDVn/eFmeYb4vo7lsf3oSZ+e2oPB+qkfjb2mafmlv99zJhF/f/PRvqY0KWsKph7K8c8pJkvO2vv0KzcFfo6YbjDLmvhs8uPPvAys45k55gWR9YF+Hjl4D73/AVpX2ho7Wt8XQWr8C+0Yoy0Lc9HkWizVZfrwRTY6d/FecmUZ+KI8pJ0eeInHV0P1U8w6SPJ2ZSZ75J1QrOeR8uG3XHkxrnmKYMXWSMmnzaggj7N5/kJ76K42kXccoMu2fSklTXyh2+DtIjpRG4AF4+ddrVbKWvmxfrPqa/AvGq6d4HghY0Qj0b3KA47Lsz2Ae+kdFIjsnRz1ZN9IT5c59B1QRtkxMGDMa73/8mUlZYX8K9sVwJPDAzG0dpSkBDoeo//YyYKfUSvqxqKbpD56e4dUUvDrC3jCKpni4/ipyauQfJN6z4lPy65hOfhx6mEPWhWVkgakjZiOHnn9q6SwG+rkudPzI2yvQQM57BAB7f/8BIkcmICAmXPkXJMybhB2//g+MqQT2KWA/AEeCH/lbeJLvQfbmI6ramTX71eoHo43k5ZtNezDwXgY5B08i7rqZSsyfSbY0GCFv7ymcWrHFSJqOIbH9aDXDMZUupSmUgoMpKh5PfgmptJeEIePM0yt2tDi/Kmjjv96DBiBn73Gl9NSWlCOLnCG7Q+AlmYeXLVZdraPP+aHlHyGh2XIQNXK8smweWbHEdCm8+oDnuB0Jwf1jUHQmU6004POlb1/fonry1vWmPRJ4L4Nzp5IQP32uKsNWAX1aI+mrz1BEjpZ64NUP7GzIqzE48OqM2vKm7zg7Mqbt2qxWQxh1Tu/caJIbebaOIf2icY6mQvg3oLa8DFn7z08N26rL8o7Wt8XQWh8GE4P95GfCKx44MNNUcqjk7zOH/Uv+gyO8v0Nz2pjO4akvVw4XnWVhwWXzsJQc/v79/gf0JF+Dq6+YT4NN01MTOwPefdsteItM6Dy/X0emeR44ByfEOXQPZ5LSsZ2UkEW/+JVax3vlvEuVYx43EkSrFIqLS/D408+Sn0It4uNicPN1TfOPvILhKnIE/NOrb8Dfj+a4yBly2qQJrc4dTysThtN8/ZPPPq+e/IdT/yc1L/G88+Yb8S45AP7fM88p6wLP4S+8ssmxqFVDbWSwCZMdEl//1zvKT4ItAz8mx01eoWErsMUjmEytWbTS43hyilJozpAT5X13f19txHQqNR1/e+tt+qI0tfTUc39QXvCLfvwjJMbHKl+KR++/F/8lp86v1q0nJcpNKVPXLmjpHzCW/C58fX0wj6wo5qEzGJi3eaHSfmG08mXGaHx4yQPK+ck/vA/mvv6Y6fRTX7gH23/xNpbMfBh+4b1RXVSKcfdfb5LbE+FljuPu+y7W/uQV+tH3RvDACMx65RG1WoLrD7hkNFbd9jv6kWtEXUUVZv72R0pZYdnIe6/GhkV/w8rrf0VTEfXwJqfL/pNHsKhFGPPgtfjmwZdw4vONNA/vg0ueuVvJ2SFz5gv3YePjrynlh59OA2j5ZMTkoS3q20oMumUOTn6+GYsn3qumU8bQVMyAy1p/V2y1c6HlMeMmK/P04vtvRgP9vgwYNR6jv3u76gb7Gcx77Bls/efLak6bHfzqae5+5n0/daibYYOGoj/NgS997Adqh8L+o8YiZsos5XDIDfWnc656/mdq6qqOrBwzfrjI5I8w/qa7sO/jd9SqCnZ+jBo5Tlk+9A6wU96Yhbdg3d+eJwuJD4LJmjDrwSfhRYNdSHQ8ZvzoJ2qfBy+yMLKFIzC0L8JpqaQjYRD5daSQU+TiB25Wv6GjrroBA8jp1N5grT77U+z68F9q0yoerzMP3oQZ9yxST/lG+9YYHqHNnA6tXKpWnLD144P7b1Lf1Vtf/0hVH0xOoOw4ueyph2npKFmreXno2CmII4WsVy93WqpKD6Uf/AsHV3ysFLM6ehiddOs9phUxRh9c7diLNLfmn21X61rX9YcvOb+wkAa1QNN0gPnZeNUCO+vxAK4HA5c98/lsVfCjL5NR9gDNr/NSwpeee0Y9bTN58/l5Phefg5cu8j4PXmSebCuw0yLLLc1P8nQAb23dh+b7HZ1KMM7HT5E8rWE4VnL+6/9+VzlbGmWMoyeZJh/+0Q/w7B9ewu03XUcD/3kFawkpZ6yY3UVbOzsSqmlahi0FBj9H6nLZzmDg6Dk7q3wdrbKoK6mA3wDLUzjs4Fd9rkhNR5hPJfAKBWPfA2v94WkIVgh0R8QVtCxy8M1zaWXDHJTTngkB0eFkam79TFFTVKasH7xPQpuBPse1pRXwCm75HTLKV1H/2cHNm5ZEtjewVcEriPwb2vC/aG+7XV2PVxm4k6ndixRrS4GX39XSnz8NtObXxtYCY98CS3WNPJ7uYAVEL7viVw8jkQbixNlXqmWP7LTI98A8VOTnkiLpSwrAeSuSeRlW9BqpL8aTsbmc/Rf4t4mXD7Y3sFVB+Tg039+Dn76HvJQmy7B5m7y6ICiyafrOkJnXN/LtPVpiaG9d/h3nXS55nwxj2kmvW0srY+poYye21HSH0PpXoDv0uoN95MGH/ROsBUuDOJd3ZOAy5tgtnYc3dWor8Dn0jZjaKmesbrAkZz8IW9doqZ6ex0qGuaIxa9oUNcDo5TjOTxsceAXLV2s3UKwXggL8kZtfgAO0tJGXczoazDfLcrR+ZzBw9JydVZ6XSfJfW8Hd2xP+NJBbCvYoClyPlYy25iFZFpTQNIdu6Rzst2Az0Oe4LUWB6xrLL222Y6WAtfatVHO6yNiEqK2OePr5k0WGlCALQR/8LYhNWZYGKEOofCTIibGtwDsU2grchhvafpjxa95oyVY71uTmygovadWdJfW6vsGt/XjM6+vl7YlbY2irPv+OG/tbWCrLiqIX2h4HLNVxZt5FqSw4CzjvGzFy2DBnnb5TzmtM2bTVGE9XrNu0lRSG9bSDYzXtlRGM7113DUbT/ggSXJ9A1JQRpikH1++t9NBRAlHDRiOQli5212C+22J3vY7u2O+LchqiO94o6bMQEAJCQAgIAWcRaMsK6az+yHmFgBAQAkJACAgBFyMgyoKL3RDpjhAQAkJACAgBVyMgyoKr3RHpjxAQAkJACAgBFyMgyoKL3RDpjhAQAkJACAgBVyMgqyFc7I7szK/A0tPF+NOE/i16ti6H1hvT8sQZ4ZaXU7Uo3I5EalktdtC5b4trufxobU4p3jpRoFrs5+eJlye1XG51rqoOi3Zlmc745iUDEUIvFuqK8G5qAWZHBCLGv+kdGfae49XjudhyrundBvOjAnHvYMt7F9jbXncv9499WzAnOhHDwiJMl5JNG8ccLcjB/NimDcpMgk6KVDXU4euUJCwYNII+xy3X9b+0cx3K6MU9HG4YMhYjm19YZJzaltwo197jp8cP4HBetqo+ITIaVye23mSqvW33xHqZ//oN+sy4Gv5Dzm+C1Vhdify1HyLssttpSa53l1x2wZoPETB6OrzDm95ZYZwk/bWfoZ4+vxwiF96NgBFTDZE6nvvinyhL2qPiwWOno++Vrv0Ohhadd6GEWBZc6GZwVzIq6rDxXFmrXj1/KBvPHTrbKt/ejI3nynG6ou291henF+D2badBrwxoEQYF+uCO+D6IDvDC4szzL5MxCgV4uSv5NQODsIQG86oGswaMgjaOZyrrsCa77W2h62iDk7uof0vSCy22ZK3+9L4Bqo/F9DKi7XlNSoPFRi6SzJ1ZaSinnQH1sPb0Sby8Y53aEEzPtzeeXlyAU83b21qqk1qYj5e2r0VqUX4r8ezoQZgfNxRHzp1BdkXTj75eyJZcL9ue+Ki+/dT5K0hhOZbfpDS0p52LpU7R3o1oqGj5Xa1KO4KUf7yA6vSmLb4dZVGdnoTKUwfbrPYtKZspbzyHok2tt7/vc8lVCJvzXZQmHUDNuYxWbQQOn6zkDZVlqDi+r5VcMuwj0DWPgPadu1uVqqfB6nhpFRroaG+I8PFCJL2VrzPCyvmJtM1R+8OcVcexd+HwNp/KnxoVhUeGRoBfRqgHfornvwra6e+900W6SMX9aevghQODkUdb/3YkvHEiD3sLKjA/yvImJZ60wUnJLWMR5GlZv7VWf3yoH8bTHlwrsopR1/LljB3pcqfXLaypQjHtTWFvcKObFe0fTPfM7KbZ24BW7o6Rk3DdkDEObTqmVQc//U8fmIDENnajG9E3CitvfRD+Fp46J0RFq6be9LRsMbIl1/vRnjj3OZEq7shKdej73Z5zdWWdxsIcNBSes/8UZOHxjKX9T8wsPfY3cL6k/7DJmLxkL9z92vcCu9TXf4k+U+bBL3HM+Ua1WC93T0x4dxu13/r3IWj8HFXS/Z0/ajXOR7lN/iveRe/kaezY79T5Vi++mCgLdt7zDbmlePboeXO7PdWi/bzwwVT+GbIe2NS/k554x/RueveC/nR/lsz823ObnoZ50J4Y1vr9DPsKKrE1rxwV9Y2YHOaPuZHnd9fblV+JU6Tk8LsYuExaeS0GUjuTm9vhJ/ZlGU1Pc77uvXDVgPZ92a1fYdtSVkJWZ5Xin2mFOFfbgE9oCobDlQOCwIoIhwNFVUgpbXoS5uvXpyHsqa8asfFfbnU9vjxTTIN1I67oH4jhwb4tamRW1uKrs6XgaRe2tlwXTVtxm2tWLWo4nniLTKV51Y5ZPu6kH8GxodY32SkmJWRj+inU0A8lP8Fz+JY/EBTqv23E1symlzz50A/ylP6xKl//L5eeyHZnZ6CIXnzUj7aunTlwEDybd+zMoRcInaAB6kBOFkK8/bAx4BS8qZ2pWjt7cjLAT+0cOJ/lFzrsOJOOg+eyEBPcB7NjE7H5dDLC/QMxNqLltFpb/aqlbY0PUP1ztEXvhH4x6Nf80h9+lfHmzGRc0j8eXtq2yWxl8aa3P0Y37ypYTy9825qVgrPEa2ifcIyLbGlKb+u8juQXv/oYGiw8WVtrI+iHv4H3xPnWiqC+pACFmz+nt5TWIPTSG5rKag9NpfvZ0tD0GxI86TK4ebf87vAURfHO1ajOOQ3P4FCEkCXAM7hpKpAtAZWnDqDk6GHatrs3irYso/r0volJ598FU5V6GNVn09R5/QaPazUNYbXzIuw0ApYf0zqt+Z7TUC192R0Ntfqo30bln+zOwkM7M1FGj7xPH8zGbw+3NIPmkHn+s4xi/HT/GbyU1PqpgefxJ3xzCvk02PEP14+2Z+CuLemms+2mp/V3U5pM98szS8gfogi7yDfBCKRfqPZ5Xv87208b2RfsWFHXoPp0roSeqGkg5v7xH+cb4WhRperjjTQN8Y3ZVIU99Y122jqyn8igFUlIKq5BEU1VjFh90qS0cJ3j1LfoT49hPyllPjQgvH0qH4O+OEqDr/1WprbOrec30MDtaKizUSeztBj3LP8fThXlIYNebrNo1RKUNw/cfK5GuoYtman4/MQh/HkHPXmZBa7zg8/fQzK91pgHw1WnjuKeZe+BB08O2WSO3nQ6RcV30oDM8Z1n01Xa+O9gzhlsykjBr9avQAG9L+VCh6VJ+/HGnk3o7euHdWkncMX7f0dSwTk02PmdLqZ3LPzg83fx/qFdOE71HvhyMZYcazJns1Xn/cO7sS79RIvLemXXeqSVNE25MO/7qQ5z5vcFvLJzPV6j/nR6sPJa6rbO9W1921OTXKcmKxmHHr4SFanHUEXKztGf3UivTS9v0Vzp4a0o3LYSx198HPVFZr9R9Pk8/JOrkLf+U/Jl8EHZsb04eN98VDVPV9SSAlGwdaVqr5DeLMnx4j3rWrRfSVMUhTu+Qsrff43SfRtayCRx4QiIZcFO1jPCAnF/QoTxVlG7asUFWHf0YYvA31IKUH7TKPUU/Vv6IRny+TF6udV5BzA2ob8/MxaP78lCDg2m5mF9dhnuIGvAb8b2U6InRkRiL1kTjPDQkL64dmAIBn50EJ/OoVcdm5nx2ZrA7X+ZVYKNTlAWwmmaZvGsOHjTU3qwtwf+auZAyddxe3yo+jtMA7p5sKe+eR3z9F1b0/HGhAEm50628Ny7OxM3xISooqxw9fWlvk0eCA8aHJ4YHg62BnGfOzNcFzsc2VUt54Kttd+LJqaGB/e1VgSv79mI64eNxe0jJqpy36Qdx+82rSItoakaKwBPTb+CTPDp+MvO1srCcbIahNAg+8jE2Wq64+Zh47EvJ9PkpDiOnsz5L4kcBB+cNBszBsa36s89Yy9RysU35ODojLCMFKHn516LgfRCo5uGjsMNS9/G3aOnIoieYO0Jf9j2NYaQM+gzs65Sxa8fOoYUho8whq57CE1hXJ04EstPHcGVCcOVvIiUi/SSQkyJilXpfx/cjqFU/6eXND3BXxk/HN/75N+4YehYRHbia4kDbiHLwplUdU67/iPrkNeo6VaLpr/9G0QtvANRN/9ElStYtwQn//JLftudqd6A7/9SWR1yN7Z2DK0j5aHyTBaG/u49k0Wg76Et8I1psnAFjpkJ/is7OR1xP3pKWR1MDTdHQufeDP478ugCc5GkLyABURbshB1Eb967I6Zzveh5WuC7NGVgmNt5Xv56mv9fT86I9oZFNHCN/zoZeWtO4d7EvrgmOhjTzFZMVNY3PQX6mykK9p7jQpRjx8goUlzaG9pbn30tThRWoZCOb57MU6cvoemQorIalJK1h30krh3YG68k5WH4smNYNCQcd5LD57zI1nOn7e27UW94777gv84MR/Nz8OMJM0xNzqZVEM+BlAU7w/QB8fjs+EH8iKwTV9Nrhq+gaYzxFkzoNQ318KU3j7pi4Dcf1pCDHAf2PeKpF3f6rtkTeEhky8jzcxeaiifQPWLlgZUmVhYuIyb/2L0Zp8lcH0Nm9tX0FD6T/Dd86EVLHPaczcDEftFYfvKwqQ0/ehvkKXL27ExlwWsU3Wf+68RQduIoYu5+ytRi7xnXAC+RsmBn8OwThagrr8ORx76LiMtvQPgVtyFwdOs+NtKrnt1oGkuC6xJwc92u9fye5dHUgfkNiKAnWEfCOHoKLr5uBL5D1oVnaBrDa8khZbLX21DWcvpttO/nUa954eINNIfOT+3tDe2tz6soaORAJq0U4eWj/FdQ04CfjY4yrQxghWHnVUPw4tj+ykkyZMlh/PpA+1emtPcaHa3HA10ZOUy6a58ytiT4eVq3eOnn8Senw9euvBl3jZ0CXkVx49J/gZ+UzUMj3T9Lr0o3L+eMNFsCFq36GG/t34pFX32MaQPiLDpaWuobTyHwypEwv/N+QFwujN4ImVPeNE/vR4wujRuMZWRdYObLjx/Cd+mcRigkX49KmiLIJn8F4+8qWkIaaeX1z0Zdpx5Zsaoox7fN/incF55KcPe1zyJj9D324T9h6NP/QC1N4Rx8ZCGSn/shGqrMHohoSqgXfTYluC4Bx0Ym172ObtmzxCBvvJ9W1KLvPFg5MnNdSQ6CwTRt8cjQcPX3dnI+rt+cjsbbx5qUA2/+stOvGPtQdLZTXovOdyDB/aqia2lvaG/9QTxVRFaNRcPC0Z/2kbAUmLEfOVvytAT/HS6uwuhlSfguTe/wNJGrBla9ogKCkVycZ3K0KyXloYIGP8PB0Vbf+YmcHRLZIsF/qcX5uH/Fh5g5oOXKBw/yqK+pr7fVnFPkOeVlmEuDuT8pSbfRqo/ppCzYGwJp9QY//ScX5qppDKNeClkFbhk5wUhi4eBReHLt5+BVH+wbMTQ0wiSLolcRj4+KxuXNzqUmgatHSHn3CQ9HVdpR+A4crHpbX1qIhspq+vzY/11tJAdbXi0RT3/RZcU49uQNyFv5DiJveNhEoBc5gzbWVpnSEnE9AuYPtq7Xwx7co4VkDUgj68LfknLV/ganSqvxRnpL5cHa5fNTzOXk3Kg7/fnQU3Jvb3eTosD1BwbQIOjhhjXkzc+B/RPY7O5KYUSIj5p+YSsIOxmuIGdMR0J767MPx/VxffDQDvLKblZWcqvr8Ck5lRrhl/vO4gVyPGXeHPybn4BCfVxf1748fije2b8dheSRzv3/7+GdLT4b6oKs/PdPqvu/I3tM1+7bvJIhyLelxzuvMjhAZnkObI5nR0BXCcnk3Ml+BKE0iIOmIE7QSgXjXtrTR95I6p/7tiKPnobZQXExOemV1VbTCojzSsfwsEjyawnA7zd/rXxE9HbZivDugR3gVSUceGXEqtQkh/qgt3ch433nXIPM//0V7HvAfgpnFv/FIRNl8fZVSP3Tg2hoXuXTi6ZmepFi6RHUp8Vl+A2MQenBbSqvOuMEKk/ubyGXhPMJyCuqnXwPeCOiyzal8WQqvGiQ//mgUPwrtRBZ149UPWNLwb07s+jpl/wO+BfOwx1LZ8SanO9ePpaLx4/kqC+yFz39BtLj5LKZ8a38Fl6kMjzowdMd48mi8fGseMQHeuEkKShDlh9nt3g6B/2Rb8Yi2uHQcDRU9Q5S+5qcN2P49tYmM+sWWtY5kxQWFWiQ5/o8Gm2+LNGh3SazyXlz0qoTOFPVpMS8MCYSvxgZqZr9wZZ0/JeXVPIKCfZrIEvJuRtGIlwbrK3Vv2ptClbRDpho9t1ghgvIV2TlvATVfj4pTj+mVSSfkbPoED8PnKhuwN/HRoGdQzmwMvbQrkycKqtDBMl5ieffx/UzyVUhF/2PVy38cds3WEurANhcfkXCMOzPzsTtoyer3RqzaLXEfSsX08erkSw7dQigJ+krBw1XDo18SXuzM/Da7k3KfM6DbTmZ0+8eMxXXDhnd4or307LCp9Yugzt9Bv08vPDY1Lmm5ZN3fv5fFJCyUk5WjQB6uo8O6YM3rvqeqf7Cj95QK3l4eSVbMTyojdtGTTI5ZdqSmxqyEOEVQr/asILadFerHyrpHKdLi5S14O80vUKfJvxi3Rc4lHsWNXVNfg3eNKCNDu+HF8kp0gi8emFN6nHVzwiyFPwfOSsmmvmXfEI7QX5AitXHN9zTYu8L/tr++8B25fvRl6YveCkr+4I8Sow8ern28xovl0x75VHkbVkLdx8fhF/6HZQc3oUBNz+IPnNuUHgO/ng2aosKUV9ZBQ8/X/j2H4iRrzStcKjNSUPa60+h+Mh+eIeGqZUUYVNmI+aRP9G0w3lLXtnBzTj+3INqKsKdFNH4B39jWj6Z+tIiFOzYQApHNXqRX4wb/Y395zrT8ss93xtLOmAjTW1U0TSJl2pjwI33mJwyTzx7J0qPHVROmNxh3mEyaPgYDHn2PdV/+c8+AqIs2MepS0vxj0kGzZmzGbw98/Zcn+fe2aoQRisK2go8DcH7KhgOlW2V68z86zektlgGabTtSwPC53ObBmsjj49sVeDtovlHvD2hI/V5KeRZ2kGzv7+nxekaVip4qmQg7Z/R3QLPvfNTcaCdKwDMr4+nL6pJmQg3m7vXy/HnkM/DpvsLFd45uIN2XSRl1kJ4ZNIctSrh0+P78fJlTQMbF+OplSv+9xo+v+U+2huipYXEQjOmLL4+9j1gP472BOZ/rqJMrcJgxa07hQbyz/iWrDIegb3b1W22LDTQdJgnbdXMlgWLgfjU03k8AptWIVksI5lOI9D2yOK0Ll18J+aBUd9oyFECXH9AG/Ptels8r096t57V5fH7yEpRz3MLZoF3H7QUenfwvRIdqc9LIePI2tJWsKaItVXHVfLZYtCRwMsMg2DdsY3v6IVUFPh6ppL/wdDQJguU+fX18fGlwT2AtqHOw8qUYxgZFqU2puINquJCaHMgBxQFbpuvr72KgqpPPgCdufqB27xQwZ18XzoS3H384R5p4702xEcUhY5Q7tq6YlnoWr7SuhAQAk4mcCQ3G6tSjuIcrUbg6YhBNH1w4/BxDisLTr4MOb0QcCoBpysLbJrrZWHJnKP5TqUoJxcCQkAICAEh4GQCbY2b3K32yoxLcrqyYHREjkJACAgBISAEhIBrEnCqKy5rOkbguHnakMlRCAgBISAEhIAQsE3A1jhqLreW1s8mlgWdhsSFgBAQAkJACAiBVgScalkw7w1rOIaWYxyNMo28zr85mMuMfDkKASEgBISAELjYCZiPkY6mLfFzKWWBHR0NZ0fjaHRa33feXGaU6cnH46eS8Y933se+Q0d68mXKtQkBISAEhEAHCZiPkY6mLZ3eqcqCru1w3Dytd1iX6fkctyYzL9td08npGejTOwQpdJQgBISAEBACQsCcgKVxVB8fHZXr7TtVWdC1HY6bp/WO6jI9n+PWZOZlu2Oab3DmmbOIix6I/MJC5BcUdsfLkD4LASEgBIRAFxKwNI7q46Ojcr2rTlUW9I5Y0njM5Xr6YoqzVYFDYlwsH5B8WqwLCoT8JwSEgBAQAheEgMsoC5Y0Hp2Arh3p+RdDPCUtHYGBAegdEoyIvmE0FZF+MVy2XKMQEAJCQAi4CAGnKgu25lJ0RnpZPf9iiKdlZGJQbIy61IS4WJSWluNMjuWX51wMPOQahYAQEAJCoDUBSxZ6fex0VK6fwanKgm4tEMuCflvOx1NJUeCQYCgLMdEqnZyWoY7ynxAQAkJACAgBJmBpHLU1zlqT61SdqizoHeG4uQaky3WZnt/T46npp+Hj442+oX3UpQb4+2FAvyiknj7d0y9drk8ICAEhIARchIBLKQvmGo7OSJfp+T09nnaapiDiYltcJk9JVFfXIL3Z6tBCKAkhIASEgBAQAp1MwKnKgm4tsDSXol+rXlbP57g1mXnZ7pTm5ZL1DQ2mKQij73ExA1U0RVZFGEjkKASEgBC46AlYGkf18dFRuQ7UqcqCbi3guHla76gu0/M5bk1mXrY7pXnJJF9bv4jwFt328fZGXOxAJKed7rGKUosLloQQEAJCQAjYJMDjhT4edjStn9CpyoLeEUsaj7lcT18M8fTMLAwZlGDxUhNiYsHvyziVmmZRLplCQAgIASEgBDqLgMsoC5Y0IP0idW1Jz++pcV4aWV1dTUsmm1Y/mF9nbPQAuLu7K+uCuUzSQkAICAEhIAQ6k4BTlQVbcyn6hepl9XwjvnLNeiPaI47GOyAG9u9n8Xo8SVEYFBeD01lnlLOjxUKSKQSEgBAQAhcNAUsWen3sdFSug3OqsqBbCzpqWeBBk9/M2FPC6cwzpo2Y2romY++FZFpeKUEICAEhIAQubgKWxlFb46w1uU7TqcqC3hGOm2tAulyX6flGnPch2H3gkJHs1sfc/HyUV1QgIS7W6nXEDOgPP19fJMv2z1Y5iVAICAEhIAQ6RsCllAVzDUe/NF2m5xvxYUMSaYCtRFIPsC6kpDft2hjfvETSuEZLx3jyacjOyUVZebklseQJASEgBISAEOgwAacqC7q1wNJcin51elk9n+MsGzE4Ue1yuGv/QXNxt0unZWaiLV8F84vh11ZzSE5NV0f5TwgIASEgBC5OApbGUX3sdFSuU3SqsqBbCzhuntY7qsv0fI4bMrYuVFZW4diJU+ZFuk26oLAIJSWlGBwfa1efB0RFIjg4CKfEb8EuXlJICAgBIdBTCVgaR43xka/ZUbnOyanKgt4RSxqPuVxPW4ob1oXu7Ltg7MqYEBdr6RIt5iXExICVDP6TIASEgBAQAkKgswm4jLJgSePRL1bXjvR887iyLlRV4cjxk+aibpHmVRARfcPg7mb/rYkd0LS8UlZFdItbLJ0UAkJACHQ7AvaPSF1wabbmUvRT6mX1fPO4YV3Y0w1XRhSXliG/sLDNXRvNr9VIR4T3RRitBjmVlm5kyVEICAEhIAQuMgKWLPT62OmoXMfnVGVBtxZ0lmWBL46tC1W0++HhpBP6tbp8PK35tdNt7dpo7QLY0bGsrBzZ53KtFROZEBACQkAI9FAClsZRW+OsNbmOyanKgt4RjptrQLpcl+n5luLd1bqQTlMQISHB8KYXRTkaYmnPBQ4nZVWEo+ikvBAQAkJACNgg4FLKgrmGo/ddl+n5bcVHDh2C6poaHDya1FYRl8rnTZhycvMwPHFQu/rF0xBRkRFIbbZOtKsROysVl5aqTaPsLC7FhIAQEAJCoJsTcKqyoFsLLM2l6Gz1sno+xy3JhiYmqH0X9hw8ZFFu3oaz02kZWaoL/L6H9oa4gQPUeyIyaOvrrgpl5RX4ev1mfLV+k3rrZVedR9oVAkJACAgBxwhYGkf18dFRuX52pyoLurWA4+ZpvaO6TM/neFuy0cOHora2DgeOHDOv4nJpfrcFb93s7+fX7r5FN7906mQXOTryHhZfbdiEgqIi5OYX4OsNm9vd186q2JPeB9JZTKQdISAELk4ClsZRfXx0VK5TdKqyoHfEksZjLtfT9sQHJ8Q3WRcOHUZ9fb09VZxShp0xM8+cxbDB7ZuCMDrdm/wd+H0RXbGbI0/psKKQR0rCZXNmqh0m0zIysWnHLuP0F/y4dMUqrN+6A//64CPsOXhYObVe8E7ICYWAEBACFwEBl1EWLGk8On9dO9LzbcXHjhyB+rp6HHBh34VUGnQ5sHLT0Ze2DpkAAEAASURBVBBNygIrXqfSOu9NlKxosRWBfSrmz5yu3oZ5+ewZCA8LxVHaz2LfoSMd7bbD9f/36edKcZk4djTc3Nyxm7b5fufDpdi4fSfyCgodbk8qCAEhIASEQNsEnKos2JpL0butl9XzbcXZB4DfSMkDWk1tra3iTpFn0CoID3d3hAQFdvj8seS34EYbOp1KTetwW9xAY2MjVq/biDPZOZg3cxoSE+JUu15eXricLAyBAQHYue8ATiSndMr57Gnk/U8+R2lpOaaMH4tJpCzc/b0bMX/2TESSgydv9b10+UqsXLsehhJmT5tSRggIASHQ3QlYstDrY6ejcp2H+7MU9IwLGdetBV1lWeDr8fH1UYOnOw3I/WlAcaXAPhUbtu3AcNobgqcQOhq8vDzVts/pZK0YQz4bfM0dCavWbUAGTZFcOv2SVptFeZPCEBURjhRagZFMlowIsjQEBwV15HRW67KF43+kKJSTk+UlkyZg3KgRpvKhvUMwbFCC6QVcKdQf/uOpkgZSeIICA+Dp4WEqLxEhIASEQE8jYGkctTXOWpPrfJyqLOgd4ThrPUbH9bi5zLyerXTv4GCczsyiZYUZGEGDsisNGinpGapfc6ZNVQ6Otq7FHjkPqul0vQEB/mqqwJ46lsqwosDbT3Pf2vKn8PfzRVif3rS/QxrYSTO6Xz/4UV5nhwp6/fhHX6xABTlZzpgySSlCls4R4O+HuOgBGDooXu1XwVMnrDQcJ8tHVVU1fH18uqR/lvoieUJACAiBnkLApZQFQ1FguHrcUtrRG+BPg8jJlDRlouc3NbpK2HfkKAqLijHrkimd1iW+1uOnUnAuNx+1dXXoQ8qSp6djT9WraWkkWydmTp2sFCxrnQum6RN2rjxFfM/m5iIhJprO52mtikMy5vPpytXKgZE5jRw62GZ9tnr0IyvSqGFDEOjvjwpSFJJplUjSqWTUMBPqL0+lSBACQkAICAHbBJyqLOjWA45zMJQEXcb55mnOM4I1mVEmhMzjGVln1VM8b3xkazCrpJdR5RYUqKflIhqsPGjw82nHzorG+S0dud/rt27HoLhYxMcMtFSkXXlsOWGrQh71P4VeXX3g6DG1iRIPmvY89a/ZtFXV4yd4HmztCX1CQtRT+8nkVFpaWUyv2I4z3Ut76rdVJpssA19+s05tsMUWDp6ucSTw54l9VobSFEU4Haura9SUFL9Ho76hAZH0Xg3jM+dIu1JWCAgBIeBqBHhM4WD8pnU0rV9fL2qsqXU9t4fGeXniChp4xo4cjksmjldXyTsnFhWXoIh2JSwupj8+lpSSubuyFQVf8n2I7NuXdkoMR1R4eIdM/Nw4O+B9tW4jrl1wOfrR3H9XhLP0roj9h48oRYnb510exw4fhlgy1VsKazdvIwtMqnIeHD96pKUiVvP49eD8Ei92hOSVEx0JPK3xDSkudeSYOm/GNAymqYXOCOyMye8N4VUTwcFBGD1sqF3Wis44t7QhBISAEOiOBFxGWTB0Fl0jMuIMluV6ur2wP1v5Fc7l5avBsoiVg5ISU1O8KRJvm9yHnOV6kyWCnebYvF5SVkbLBvPpLxdnc3JNWx270VMrD778dBrFfzTge9BTvR54NQHvUVBTU4tqGvQ4zoNfNaX5CZw3FXrgB3foVbokXkIvmTpAUx68WoBDAFkZWGnSLQfrtmxXqxp0Zao9ndm6aw8OHTuOMdT+tGalzNF22MeEl2syv3m0THNQbIyjTdgsz308fPy4WlkRQUrg2FHDEU8v5JIgBISAEBACLQm4jLLQsltdl8rKycGqtRuUaTq0d2/07dPHpBSYD/Rt9YKtDtnn8nD23Dm190BBYZGpKCsbtBclKQbVqK2ps7lck5c6Lpg3x1S/qyP19Q1qWmI/LSVlMzyHcaNGknm+Ws3nD6UpmkunT+1wN9Zu3qp8RC6ZMI4G4fOrFuxpmC0uazZugZu7Gy6bOQMxAzu+SsTaeXfRHg1HyNLAS2v5XONHjyILUpi1Kmo6o4SsUIVslSKFs4isUazQ8meI/UM83I2ju/KN8PBwhyfleZCMp4l41Qo7W/rS1FZ38J3IIQV7687d4Ok53g+El61KEAJC4OIh4FRlQbcWXCjLQlfcWl59wOZ+fj00Wy3YH4Id7Hy8vdRAwIOBNw8SKo8GB4qznMuxjC0UzghJJ5PVZlWGdYVfc33l3Nmd1pWVa9Yrnw+1PwP5MLCVoIEUlIYGOnKc/hop3fgtHVX6W2W1YUWBB9L5s6fTUtcL44zKfWKlga0vHHj1x8Qxo1RcTVORMlBYXKymrHiaii1ERnAnpSYkKBgeXh5qA7C6+jo6NqCuoZ6sSHVGsTaP7rQvBk9xsWVLKRAUV0e1coMVCh/0cuu6z4gHbWrF7fPmVvxZdKPltu5Gmo585vc+/QL1ZA0j8x59jj0xnjY7a880VZsQRCAEhECHCVgaR7lRwyrvqFzvkFOVBb0jEnceAfYN4LdzXnPF/E7tBA+oX5LCkEsKlCOB/Qjmk49CuI2ne0fatLcsTxfxJlNHT5xsVSUoKAAhgUFq86xgWmHCm2iFUF95SsdaqCOFqJ5WYLBSWUe7idaTEsH7a1TVVKOyslqt8uAtv3lpJx/56Z3jrEy5agil5bI3X/MdV+2e9EsICIFOJuBSyoK5pcHQhviadVknM5DmupAA+0rwbpL89Mw7S/LUgnsvjvOTrBs90dLTbHPcyOcVG7y6wpmB93XgfrMywBtN8VH/PF6IvtXStEgVKVysQLBFpqvCt43fKstOPSkn/D1roKmqb8naU0/WFk5XVldh/8EjUKoLpZkDr+CZP2t6V3VJ2hUCQsDFCLiUsuBibKQ7QkAINBM4eCwJ23btVT4XQQEBygrFUyUShIAQuDgIOFVZ0K0FHOdgPL3pMs43T3OeEazJjDJyFAJCoGMEmqZOahBMW2dLEAJCwPUIWBpHuZf6uOpIWr9CpyoLekckLgSEgBAQAkJACLgmAae+dVJHwhqRoRVxvh63lNbrSlwICAEhIASEgBDoOgJiWeg6ttKyEBACQkAICIEeQcCplgXdeiCWhR7xeZKLEAJCQAgIAScRsDSO2hpnrcn1yxDLgk5D4kJACAgBISAEhEArAk61LJj3xlzD0eW6TM+XuBAQAkJACAgBIdC1BMSy0LV8pXUhIASEgBAQAt2egFMtC7q1gOPmaZ2uLtPzOW5NZl5W0kJACAgBISAEeiIBS+OoPj46KtcZiWVBpyFxISAEhIAQEAJCoBUBp1oW9N5Y0njM5Xpa4kJACAgBISAEhMCFISCWhQvDWc4iBISAEBACQqDbEmi3ZYHfiGdv4Nf+WgpsTWikN93V0et7xbJgiZDkCQEhIASEgBCwj4ClcZTzjOCo3KjHR4ctCzX0ytzXXnsbGRlZ6uUUd911K8aOHaW3aYpnZ5/Dq6++icrKKgQE+GPRovsRHh6m5PzK3ffeW4Jdu/bQK4rdMWTIINx7713w8fE21ZeIEBACQkAICAEh4HwCDlsWli5dDh9fX7zyyos0+N+Ht976L6qqqi1eyRtv/Afz5s1RZWfMmIq3337XVO6TT5YjP78AL7/8AikUf8CkSRPg7e1lkuvaEGeap00FJSIEhIAQEAJCQAh0KQGHlYWdO3fj8ssvVZ2Ki4vBgAH9sGfP/ladPHM2B3l5eZgzZ7qSzZ07C+npGUpB4CmMDRs24847byYFwVtZKKZOnWB6jSZXMF6paTRsnjby5SgEhIAQEAJCQAh0LQGHlAX2PSgrK0dUVKSpVxERfZGbm29KG5Hcc7kIDQ2Fu7u7yvLy8kJwSLAqy+U57UsWio0btyIp6WSHfBbE6mBQl6MQEAJCQAhcrAQc9UmwVV7n6KEnbMXLyytUET9fH1NRHx9fVFQ05ZsyKVJRUdnK/8CPlAMuazhHvvnmO0hMTMC2bbvI0fFbPPXU46YmzC0J5mlTQYqwrKysUs+SuBAQAkJACAiBi4JAYKCfuk7zcbKjaR2eQ8oCOylyqK6uVlaBpngVQkJCVL7+H5etrq7Rs1BZVQV//6Y22MHxgQfuJsfHAFx77QLyf3gS58gaERERruqwxqNfqHm6RcOU8Pc/r8CYyyQtBISAEBACQkAItJ+AQ8oCOyAGBgbgzNlzGJQQq86ak5OLwYMHtepB3/C+KCgoUEsj3dzclDWhpLhErYbo1ctNWR542SQHVgp4aiM1NcOkLOiKglFGFW7jPz6HBCEgBISAEBACQqDzCTg8wk6ePBHr1m5UPeHlk5lZZzFx4liV3rv3APbtO6ji/ftFKp+FLVt2qPTGjdsQHT0AYWGhlN+blkomYvXqdcpXoaCgCGfOnEV8fLQqy/+xJUEP5mldJnEhIASEgBAQAhc7AR4n9bGyo2mdp8P7LFTRVMJLL72O0tJStWTyzjtvoWWP41Wbf/zj38ih0Q1PPPGwSrMy8cpf34A3OTPW19fj8ccfIgtChJLl5eXTksl/Kh8GnpK4euEVmE/LLCUIASEgBISAEBACrkXAYWXB6H5JSanaaMlY7cD5tbV1Suzl5WkUU1pOMU0/9O7d2q+BC7HMz8+PVkd4qrLG9ANrREacy5mnOU+CEBACQkAICAEh0PUE2q0sdH3X5AxCQAgIASEgBISAKxBw2GehMztta25FP5deVs/nuDWZeVlJCwEhIASEgBDoiQR4LNTHw46mdUZOVRb0aQaOm6f1juoyPZ/jLFv+q0Wor225VNO8nKSFgBAQAkJACPRUApbGUX3sdFSuc3KqsqB3xJIGZC7X0+bxgvRkJG/82jxb0kJACAgBISAEhEAHCbiMsmBJ49GvTdeO9HwjHhAeiVObRFkweMhRCAgBISAEhEBnEXCqsmBrbkW/SL2snm/E46fOQUF6Ck7v3mZkyVEICAEhIASEwEVDwJKFXh87HZXr4JyqLOjWgo5aFuKnzYGHj49YF/S7K3EhIASEgBC4aAhYGkdtjbPW5Do4pyoLekc4bq4B6XJdpucb8ZD+0WDrQtaBXchNTjKy5SgEhIAQEAJCQAh0kIBLKQvmGo5+bbpMz9fj8ZfMVsmUTWv0bIkLASEgBISAEBACHSDgVGVBtxZYmkvRr0svq+dz3JBFDh+DgeOnqqmIsrwc82KSFgJCQAgIASHQYwlYGkeN8ZEv2lG5DsqpyoJuLeC4eVrvqC7T8zmuy+IvmYNGetdEymaxLphzkrQQEAJCQAj0XAKWxlF9fHRUrpNyqrKgd8SSxmMu19NtxeOmzkLfxGFIJmWhoa62rWKSLwSEgBAQAkJACNhJwGWUBUsaj34Nunak51uKx0+djfL8XKRsWWtJLHlCQAgIASEgBISAAwScqizYmkvRr0Mvq+dbiidMn4egyH7ku/CNJbHkCQEhIASEgBDocQQsWej1sdNRuQ7IqcqCbi3oTMuCl78/4si6kJd8HBn7d+rXK3EhIASEgBAQAj2SgKVx1NY4a02uQ3KqsqB3hOPmGpAu12V6flvx+Glz4enrR46OYl1oi5HkCwEhIASEgBCwh4BLKQvmGo5+AbpMz28rHhzVH7wygrd/zks53lYxyRcCQkAICAEhIARsEHCqsqBbCyzNpeh918vq+RxvSxY/7VJVNHXrevMqkhYCQkAICAEh0KMIWBpH9fHRUbkOx6nKgm4t4Lh5Wu+oLtPzOd6WLGLICMRMnKY2aSovyDWvJmkhIASEgBAQAj2GgKVxVB8fHZXrYJyqLOgdsaTxmMv1tL3x+BnzUF9Tg+Qt6+ytIuWEgBAQAkJACAgBjYDLKAuWNB6tn21aD/QyluIxEy5B+ODhSN2yBo31dZaKSJ4QEAJCQAgIASFghYBTlQVbcyl6v/Wyer498YQZc1Gac5asC7JJkz28pIwQEAJCQAh0PwKWLPT62OmoXCfgVGXB1lyK3lG9rJ5vT5w3aeLVEanbxNHRHl5SRggIASEgBLofAUsWen3sdFSuE3CqsqB3hOPmGpAu12V6vj1xDy9vxNG+CzlJh5F5YJc9VaSMEBACQkAICAEh0EzApZQFcw1Iv0u6TM+3N85TEbyzY6pMRdiLTMoJASEgBISAEFAEnKos6NYCS3Mp+j3Sy+r5HLcmM8oGhkWAd3VM27kZ+aknjWw5CgEhIASEgBDoEQQsjaP6+OioXIfiVGVBtxZYmkvRO6qX1fM5bk2ml2XrAocU8V3QsUhcCAgBISAEegABS+OoPj46KteROFVZ0DtiSeMxl+vp9sT7xg9B7JSZ6tXVFYV57WlC6ggBISAEhIAQuOgIuIyyYEnj0e+Grh3p+Y7GE2bMR21FObKPHnC0qpQXAkJACAgBIXBREnCqsmBrLkW/I3pZPd/ReMSgoXD39CS/hVOOVpXyQkAICAEhIARcloAlC70+djoq1y/UQ09c6LhuLdDj3A9b6fb21SsgEGEJQ5CfJk6O7WUo9YSAEBACQsD1CNgaNx2V61foVMuC3hGOm2tAulyX6fntiYfGJiI/5RSqigvbU13qCAEhIASEgBC4qAi4lLKgaz16nO+IebojdyksbhBV/5asCzIV0RGOUlcICAEhIAQuDgJOVRZ0a4GluRT9Fuhl9XyOW5OZl+V0GK2K4FAgyoLiIP8JASEgBIRA9ydgaRzVx0dH5TqRHuGz4KjVISiyH4L7DUReivgt6B8GiQsBISAEhED3JWA+FnY0rZNwqmVB74gljcdcrqc7Gu8bPxgF6afQ2NDQ0aakvhAQAkJACAiBHk3AZZQF1oB0LUiP8x0wT3f0roTGJaK6tISWUJ7oaFNSXwgIASEgBIRAjybgVGXB1lyKTl4vq+e3Nx4an6iqFqQmt7cJqScEhIAQEAJCwGUIWLLQ62Ono3L9wnqEz4J+QfbGeRrCJyiEVkSIZcFeZlJOCAgBISAEXJeAuQW+o2n9Sp1qWdA7wnFzDUiX6zI9v73xXm7u4KkIWT7ZXoJSTwgIASEgBC4WAi6lLOhakB7nm2Ge7owbFJ4wGCVns1Cac6YzmpM2hIAQEAJCQAj0SAJOVRZ0a4GluRSduF5Wz+e4NZl5WT3dhywLHPJSZQmlzkXiQkAICAEh0P0IWBpH9fHRUblOwKnKgm4t4Lh5Wu+oLtPzOW5NZl5WT4fSTo693NxkcyYdisSFgBAQAkKgWxKwNI7q46Ojch2CU5UFvSOWNB5zuZ7ujLhfcB/azZH8FsSy0Bk4pQ0hIASEgBDooQRcRlmwpPHozHXtSM/vaFw5OdLrqmvKSzvalNQXAkJACAgBIdAjCThVWbA1l6IT18vq+R2Nh9ESysb6OpmK6ChIqS8EhIAQEAJOJWDJQq+PnY7K9YtxqrKgWwucZVkIo9dVc8gn64IEISAEhIAQEALdlYClcdTWOGtNrnNwqrKgd4Tj5hqQLtdlen5H4yEDYsAvlpIVER0lKfWFgBAQAkKgpxJwKWXBXMPRoesyPb8z4qGxg8Sy0BkgpQ0hIASEgBDokQTarSzU1tbaDaSmxnJZ3VpgaS5FP4FeVs/nuDWZeVlL6bC4wagqLpDdHC3BkTwhIASEgBDoFgQsjaP6+OioXL9oh98NUVNTg9deexsZGVlqf4O77roVY8eO0ts0xbOzz+HVV99EZWUVAgL8sWjR/QgPDzPJ2VqQlHSS2vsnvv/9WzF58vgWMlOCItYsC9ZkehttxdnJkUNB2imENW/U1FZZyRcCQkAICAEh4IoEzMfCjqb1a3TYsrB06XL4+PrilVdepMH/Prz11n9RVVWtt2mKv/HGfzBv3hxVdsaMqXj77XdNMo6wdeLddxeTIhGAurq6FhYCXRvisuZpzuuswG+g9PLzR36K7OTYWUylHSEgBISAEOg5BBxWFnbu3I3LL79UEYiLi8GAAf2wZ8/+VkTOnM1BXl4e5syZrmRz585CenoG8vMLTGUXL/4UI0YOR+/eISpP14L0OAvN06ZGOiHi4eVNmzMNluWTncBSmhACQkAICIGeR8AhZYF9D8rKyhEVFWkiERHRF7m5+aa0Eck9l4vQ0FC4u7urLC8vLwSHBJvKHjt2gqYgjuPmm65FY2OjKqNbD/Q4C83TqkIn/sebMxVmpqEsL6cTW5WmhIAQEAJCQAhcGAI8TupjZUfTeq8d8lkoL69Qdf18fUxt+Pj4oqKiKd+USZGKikr4+HjrWfCj6Qsuy34P/3nnA/z43rvASoQRdOuBHme5edqoYxzZL6IjIah/rKqeffwY3P2DO9KU1BUCQkAICAEhcMEI+Pn5qnOZj5MdTesX4JCywE6KHKqrq+FLA39TvAohIU3TCCqj+T8uW11do2ehsqoK/v7++Oijz5XicPp0JjIyM1FSUoqk4ycRFtYHQ4Y0bZLEGpF+oebpFg1TwtPT0zzLoXT4oKGqfHFWKuKmznKorhQWAkJACAgBIdCTCTikLHh7eyEwMABnzp7DoIRYxSUnJxeDBw9qxahveF8UFBSoKQY3erMjOzOWFJeo1RD9+kXC29sTeeS/4EYrIlhWWlpOVofz1gFdUeDGzdPmJ/T0dOhSzKsjOCISfWISUJieQopHx9pq1bhkCAEhIASEgBDoxgQcHhUnT56IdWs3KmWBl09mZp3FxIljFYK9ew+oQX38+DHoTwoB+yxs2bIDs2ZNw8aN2xAdPYCsB6GYP3+2Km9YC1JT0zGFlk2OG3d+CaYhM9iap418PlqT6eVsxfuSk2Pqjg2oJwuIR7PlxFYdkQsBISAEhIAQcAUCPBZyMB6uO5rWr8lhZeGGG67GSy+9jieffEYtmbznh7ebpiTWrt1EDo1uYGWBw733fh+v/PUNrFq1BvX19Xj88Yf0c5suyMg0LpDTetxS2qhjS6aXsxXnJZQn1q9CXtpJRA1vugZbdUQuBISAEBACQsAVCNgaNx2V69fUizSPJlVEz7Ujzn4G7JdgrHbgKrW1daqml9d5/wFuvpimH4zlkW01bXTDuBhOG3GuY55uq52O5BecTsHypx/BxO/9ECO/c2NHmpK6QkAICAEhIAR6DAGHLQvGlQcHBxlR01FXEoxMHvBtKQpcVlcM7Ekb7XfmMZR8FgJCw2m/BdmcqTO5SltCQAgIASHQvQk4tM9CZ1+qYU3gdjluntbPp8v0/M6Oh8YPQm6KvK66s7lKe0JACAgBIdC1BCyNo/rY6ahc761TlQXdmsBx87TeUV2m53d2PCx+CCryz6EoM72zm5b2hIAQEAJCQAh0GQFL46g+djoq1zvqVGVB7wjHzTUgXa7L9PzOjofR66o55Kee6OympT0hIASEgBAQAt2SgEspC+YakE5Ul+n5nR0PpddVe3j7yOuqOxustCcEhIAQEALdloBTlQXdWmBpLkWnqpfV8zluTWZe1lbai3aYDKMllAWp4rdgi5XIhYAQEAJCwHUIWBpH9fHRUbl+ZU5VFnRrgaW5FL2jelk9n+PWZOZl7UmHxiYqy0JFUesXZNlTX8oIASEgBISAELjQBCyNo/r46Khc779TlQW9I5Y0HnO5nu7KOL+umkNBWnJXnkbaFgJCQAgIASHQLQi4jLJgSePRCerakZ7fFXGehuCQnyJOjl3BV9oUAkJACAiB7kXAqcqCrbkUHaVeVs/vinhgeBR6D4ihqQixLHQFX2lTCAgBISAEOp+AJQu9PnY6Ktd76FRlQbcWuJJlgQHxqoiC9FNoqKvVeUlcCAgBISAEhIBLErA0jtoaZ63J9Yt0qrKgd4Tj5hqQLtdlen5XxcPiBqGmrFRWRXQVYGlXCAgBISAEug0Bl1IWzDUcnaIu0/O7Kh6W0OTkmJ8mSyi7irG0KwSEgBAQAt2DgFOVBd1aYGkuRUeol9XzOc6ydXml5tkdSvM0hE9wb/JbkJdKdQikVBYCQkAICIELQsDSOKqPnY7K9U47VVnQrQUcN0/rHdVlej7HWfbrw5n4MrvIXNTuNLcZTksoC8Sy0G6GUlEICAEhIAQuHAEet/SxsqNpvedOVRb0jljSeMzleto8fmVkMF5MOotPzhSai9qd7kNLKEuyz6D4TGa725CKQkAICAEhIAS6OwGXURYsaUA6XF1b0vON+NzFq3H9wD54+UQ23j/dOTsvhsY17bdQkC5TEQZnOQoBISAEhMDFR8CpyoKtuRT9duhl9XwjfuLDdVh4+CRujwnDGynn8HZqriFq95GnIdzc3WUnx3YTlIpCQAgIASFwoQhYstDrY6ejcr3fHnriQsd1a4Ee537YSpv31btPIE4uWY8Hrp8Nfxrg30o9h8qGRixKjDQvanfaOzAYofTK6nMnjqCxoUEpDnZXloJCQAgIASEgBC4gAVvjpqNyvetOtSzoHeG4uQaky3WZnm/EE2+Yjdy9J5G2cju+HxuGnwyOwpLMAvyB/Bg6EgI8B9DmTClI+uqLjjQjdYWAEBACQkAIdFsCLqUs6FqPHme65mlz4olkUfD088aJj9Yr0U0D+uDJYf2wnFZIPHs0C/W0vNLRUJKejfxNZ+HtFoKkb5ahsqTzVls42hcpLwSEgBAQAkLAWQScqizo1gJLcyk6FL2sns9xloUM6o9BN85G9rYjyFy3TxVZGNUbzwzvjzXnSvDUoQyU07SEI+HER+tQmpqN6qQ6lOfninXBEXhSVggIASEgBC4oAUvjqD52OirXO+9UZUG3FnDcPK13VJfp+Rw3ZIk3Xgq4u+E4DfJGuCwyBC+Ojsbe4gr8khSG/Jp6Q2T1mLPnOI5/sAaho+KAIk8EB8cg6etlKM7KsFpPhEJACAgBISAEnEHA0jhqjI/cH0fl+jU4VVnQO2JJ4zGX62lL8dBhMRhMvgtZZFnI3n7UVGRmWCB+Pyoa6ZW1+OWRDGRU1phkbUVOksLRQOUm/+L/27sO+KiK7f2lbhqkkYSQBAiEJr0EAaUKDwRBEBuWZ/eJig0rPut76rN3sf3tCAr2goig9F4ivUN6hfRe/ufM5i6TzaZsSNgQzvxyM+3M3Jnv7u5898yZmWvQafIw5MbkobSoELuXfF9TEZWelJ9ba75kCgKCgCAgCAgCZxoCzYYs2GI8Opg6O9LTrcPdZ4xVSTyFoLtBAT54tlc4MovLSMMQp4wfs0tsaxmOLl6PQ9+vRuSkoWgb3QOdLhqG0uRStO3YF/v/+g3Je3boVVcJb0iNw+z1v+HJLX9i/qEd2JyegOziwioyEhEEBAFBQBAQBM4kBFyeJOeoBrM2wSABxryKHjfC3D5dtrb2egX7IycuBYd/WovwUf3hHeJvEQ/2cEN/Ig2H8wqJLBzHb2TLcKK4FIHurvCni11ZUQk2PjcPuXGpGP/xI3Dz8YRvZCiOLd2EilxnFJuOozg/B5HnjrDUqweKyssQ5OkNF5pWic/LxsbUBKxIOorf4w9ix/FkHC8sAJtatnY3kUyz4Wp6FyQsCAgCgoAgcAYiYGsc5W4YY6m9+ToEDiULRgeMzljH9YbqeXq6rTAThv0L/0RFWSnajx1URSSASMEFIb6I9vdGcXmFWi2xKP44TU0Uw8vVGdnfrsC+eUvR+7Yp6DAu2lK2OCcfhxatRqepQ3Fk0wr4R0TCLyzCkm8EiircMCgwGP3bhGJIcATO8Q9CBx8/+Js8UUR7NezNzsB60j4sSzisCETiiiXIDAqCq7MzfN09jGrEFwQEAUFAEBAE7EKAx0l9rDzVuH5zJ2Ia9q8p1GtoxDA3xeioHuZbWMfruu3yWa/i2G+bcMmSl+DbqV2N4umkSfiezpNYkpyFQtImXPTGAngUFeO6ze9XKZOXmIGvRt+F7leOQWzGcviGhuHcB57FjqwCbCfjyRi69ucU4qaYeRiTFIOArgPgEtkTbpG94NahGxleuqn6coqLkFiQgyTSThx9aBbK2wRi32VXopQeMrtWbiZ082uDqFYB6NDKD8GkpRAnCAgCgoAgIAg4EgGHahasO24QBU7Xw7bi1mWt46xdOPDNCiIZ5Yig6YianJerCwb4++DyiEC4ffUHyjbswoZLxuAzDy8UkuYh0tsdJlph4UzTEfH74hD3wxqkTYhG+d/r8Fl6AeaX+SKFVlh08fHAlLAA9EndhcMFxXBPPQaXbX+icO3PyF/8CfJ/+QgluzfCJTUWbahN657/D+0KWQqn/HyM6dwL/fsNrjJ9sSktAWtSYqtMX/AUh8nZFR6uDt14syYoJV0QEAQEAUGghSLgUM2Cri3gMDuDJOh5nG4d5zTD1ZT3xy0vIn7137h8xRtg8lCbS912AL9e8x/wiorwDx7GItI2rEjNhrsLHVVNtg7xecWI2rYPI99dhMRrJ6LdieVEIlxw4X/fgr+HqUrVG47n4v7txzDe6QT+1boE3seTUEYDv/k6it+Sy1FS4YzzvXKxq9ATpaQ9GDd1Kjw69YJru85ETHyRSKsq4nIzyTdrIZIKcpFfUmy5D2sfOrX2R4SXr9JAeLgIgbCAIwFBQBAQBM5CBGyNowyDPq7aE9chdChZ0BvSFGFePvnbP59Br5snIfqhq2u9xYr738Zh0hpM+PxRhA7pqWR5imJhfAZSC0vQy88bPX29sO+qp1Re70cmYOU7z2PgFTeg90WXVav7SF4RZsfEkh2EEx7rHo5urc32CF/Pugb5mcfR3T8SFQcO0rxDGfaZ3NHDVIhO7ieXdLp1OAeunXrCtX13uIZHwTk0EsdysxGXn4WEPCIQPJVBfnklyeLpiyhfmrogohFOVwdvPzhXTm1Ua5wkCAKCgCAgCAgCdiDQbMiCLUZksCHuT03ag7r6upjIQsaOw7hyzdtw9bJtQMgrHZbf/qpaKjnqtVm1Vrnjg5+w+YX5GP/JI9i27BPkpCZjyjNvwcu3uuYig8jGozvjcSy/EI+fE4GEZ+9CLslHT52JjQ/PR987piFx/S7kmg7ALcAN46++Ds6ZJ7UQ5ayNyDm5xbSLbyBcO5INRMfucAnrjOKQjkggksAEIjYnC8mkfcgozLe0P9TLB5Gt/BHu7Yv2ZP8Q6uljyZOAICAICAKCgCBQXwSajc0CEwOdHOhh7ox1vL4d9GrjhwML/4ILTSW0HdyjWrGK8nKsffwj5CWmY9yHD8K9lVc1GT3Bt2Nb7Px4MUDlBtwyA7sXf0tMBgjrPUAXU2G2h5gQSvcnw8cTL90H5+NpGP/Ic9jzLq3UIHuIce8/gAra6+HIN5tQ3OoE3COiEDFxBkx9zofH0EnwHDsDHv1HwrVzb7gGd4ATEYNSsnko3rochRt/R+lfC+G5bAHCj+5BHyIKw0weGNymHTq3bY8Az1YoKC/FgewT2J6RhLWV9g8Hs48jmaY4CinPzdmFNB9mw8tqjZcEQUAQEAQEAUGgEgGHTnTr2oKm0iyEDe+DoAFdsPeLpeh3xyXVHvzuz39Hyqa96HPbxfBp16ZavnWCR6AvOtOOjrxp04B7Lkd432jaBvoHdBnxD/iFt7cWhyuRoOj5z+N4Vgb+GHcjXH47gNLN+zDi5TuUbKcp52H3Z0vIbuE4Diz/FT3GXAg+Gls5KusSFqUuveIKsmMoSTiIsoRDKEs8jNKUYyiKWYHyVd8psVD6H0arKUZ06KE0EBmhHZEcEIJ4F3ccy8vCquSjtPeD2UbEhwhIhHdrmrpoDW8iDp6u7mD7By9aveHp5gYvMqhk352IhThBQBAQBASB5ouArXGUW2u8bNubr/e02UxD6I1q7HDcn9vwx60vYvCj16Ln9Rdaqs9LPo5fZzyJspIyXLn6bUt6XYFEOqxqyXXPov+9l6PnDeMx79bpiBo+Duffem+1or88dR/SDu7FBbOfxAqnIORf8xRpCsJx4/f/tcjGzP0BW+d+Cae+Oeg7dQb6T7/WkmdPoCw9kcgDEQgiEcVMJJKOgKcyKmgVheFciXy4RXRBUnhnIhChiDN5IY6Wc6YW5BkiNn0X2gfCk0iEJxEKr0rfTCxIO0EkxMuN8phg0EoND/K9yPci4uFJJMPTzd1mnZIoCAgCgoAgcGYg4FDNgjVE1poGgw2xnJ5nXa6ueMTo/gjsGYndny6uQhZ2f/obcuPTcd4zt9RVRZX8dsN6UX0dcWDRn+h3+1T0GH+xOpEyavhYtO3R2yK7+JmHFFEYc+/jiKClkVFPf4I9hcX4dfIIHNsVh6d6mjd16nzxedjz+RJ4BLTB3mW/ovsFk1Ds1RoJJJtYUEpXMRLoSqR4ezqGu72Xu7oiKBzueXIgdqEpCL7QZzg8jVbQ8sxSIhCltIOk0kKQJqKIlnD6rV8MP5LpThevvnAmG4hCIgFFdOXTKo8iIgUFdBXRwG8Ou6OA0gtJE1FIadmUl0okoNDVhHzSPhB1Ne5o0/coLYYnX2UlyvcoLYGJVndw3ERhL2qnSeWzXwKP0lLzRUTHpY6tQJxp0ysnvsg2w5lsM1ScbDXYd6G4kw/ZkxDZEScICAKCgCDQMASaFVnQyYEe5q5Zx+3tbt87piojxgOLVqALHWWdFnMIOz76BSGDuqHr5aPtrQ6Rk8/D5v/Nw5Ff1+Hca/6lyMJOsl8wyMLSFx5Dyt4dGDVrDtoPGIKULfuIEPyO7lddgE5ThuI/u+Mwa9tRXN2hDeLLnZE7tDfylqyAS/9sPP3ee1gVPcXSJhdnJ4SRzYUP2UAsS8lEbmm5Jc+Z8pg8RBBpYCLRQREJE9z2bYcX7VbJJMU1opu6LIUowIaT5mkMIhJEIMpJK+FFAzRf1U019ZK2w0WkQSig9jGxYILBhKOQwnxxvIC0DIVMLoiMFDDZ8PREQWsmG+60IVXtA7k7EQaP0iJ4VJILJhpeTDJK6CougHthDtzTjsHtaLaScS8pgjvJMvlg353kXLxaKULhTMTBmUiFk4VUEKEgUuFM5IIJh5lsEALUbnGCgCAgCDR3BPZkpqkm9vALatKmOnQaQtcW2JpL0QmCLmuNSG15uux3Fz6g3oCn/foC/rr7DRro12P8p3PAmgJ7XUleAeZF34rwEf0w9t3Z2LP0J2z4bC5G3/VvHFq1FLHbNmDUnXPQ8dzzVdWLr/kvcmJT1I6Srp4mbDuRh+f2JCptAQt0S0zFsGc+QsU/fOGWn4SQ+/6H8HZhaEskoY2p6sDFqyziCkrU6Zl8gmYcbVUdS0s140j7wK5DAk17/PExKuht+tildyOwa0909jahE20sFeljoqmB2rUAqpJG/MfLOwvKKlBERqGFZeXIJ+POwtIyFS6gcD4N5rmkWcgjP58GeCeUk61EBW1ABTLCpF09K0qVQSbLFRBJKCRCU0CEIY+uYm2KpbYmu9NGWB6svaBDvUwlhUQw8uFelEcXx5lcFGpEg4gJaUpMbL9B23R70FSNifbC8PTyo7NCSHuhNBYnyQVrLpya0VbdjDfjUkzbiyufjFmLCXtzvFQ9hyLCsESlsxzlGWGSKyKczLJchuTpKqmsr4ysed2JCLINi+XS4rz3iIkIoRtpm8xyziRHYZanzc14UzEVpq3VWYZljfrc6iCNtT1fyRMEzkYEXopZjUz6/WLbuGBa7TazR7SCwRg7bY2rLFDffB1Th2oWjAbrjTcap+fZyjfk6srT5frNmq5IAp8qyUSh89ThDSIKXKebtycZOp6Hg9+uRMauo+gxbjK2LfoUu377Fqn7d1chCqzNSN6wW9lMMFFg15/Opni+b3ua33dCqAdPJfTE6l37kbA2BgXtC+C/ZTl69fiXkrX+F0jkga9+flVXbrDJ4s4dMdi+YAGcuvdD6e6tCP/pA/w+/hYs9G1rqSaUCEjnVh60O6VJkYjOTCIobI/LoVUcJ8jWgw/iyqz0mcScKCmni/LodM9MyuNwDuWfqgs0mRBs8ibi5Iogan8k9T+IcGvj5kyrPsoUeeABkFd5FPJgVzn4lagB0zzYcbikogxFdPHOnqXsk1wZyZfSIGg2+ay9pa4kayKiYaJVJe6k7TCRvYcHEQ03IjJMbkxOZKNBA6AHaVE83DwU2fAkouFBmg0P2kDLk4xXPVu1gRvFi+lLXkTkp6i4GCXkFxNRMg/UHKa2ch61mfvF/SmhNqtBn/pbxGEmBXSVUMN5d88SollF1AvaF7T2TljlulEdboSFG9VhIrLgRvdyp3t6U9yPwm7UZzdqmzNpaUDEwomeRTERqRLSvhTTgM8+a5ZyqN/FRFBLKFxEbSihwf+kDszqpjai3GomG7xKx6TIxUkiwQRDiIgN0CTpjEaAiX0pfZfL6Cqh75Y5bE4roe8gx0tJpoy+l/zbxXKl9OLFvwUH6ZyhtCL6LSKDd++SAhxvE4Gt6UkYGERT0ZWurnG0rnyjHvYdqlnQG2KLAekdqa/2QK/TVvibcffB5N8KabRj4/Tlr6F1RLAtsXql8dTCr1c+hZ43TcLgh69Gwt9bsPTFx6oQhdKCInw9Yhb8uoZj4rzHa603kTaRWkL7QrT7Z2ekHtmBqf+bi1bBvLahfu5E3FH88dLj8A3rgHH3P4XD6/7EqndfVodenTPzYSR6+OJgTgEOkybiSG6R0kzUr+b6S7Vyc4E/GTv6qZM8zWF/GtA92QCSNBqe9HbpSQMCkyRz2BkeNMDwIV4enEcyWUQu0gpLkUYDcBptiJVKJCSdttROpSuNzu3gtHz6wjS2c6GB1tm5HK7kuziZfWcnspmguCvFncn3qGA7C9JEVJTQAFtKspTuRG1hbQ31q4wvGtga2zFJ4ekVHrT5UtMrHCZCodJ4uqUyz400LkxezLInfXc16FOcfdLouNEPkIma7sT2HNxmarszDfgcrqAw+06cTlcqkcA0YiUV1E8TkYiO7k5wJSIBum8FtQF0b9CPWwXdu4LDlY7xKCZj11IiFEwqzBfbxnCYpqBUmruZfNBnhNMsFxGuIpYhrU0xyZWSvQxPc5WQQW0xtbPCTk0EkxG++LeEJ75UnP9Vhg2ff3c4Xzn1aM1CTvyMqZTxu+SshSlVme1wnjlMspVhrsdcp/kzq/DW6uV83kBN1U4+O/5IGffhuLHBmuHr+eZ7shTJcRtt1M15Rn3mvlfep/K+ej6fmMt1GGlmSXN5Dqs2VOZb2qOwIRnKV+2pbL9elusz5Ll+dR9OJOdEz9KJEo02chp9+tizpKm6tfuYS5jrtHkfSx9ou35VU2Xb9Pto7eB782ejRA3gNDCrAZoGZ/qulNFn3jxwG3Hz4F1KMmVKntP54gGd6uAwDegGCVCDvJLlcpRHxIDTGsvd99WLSCG7s/yr5+B8Wv3WFM6hmgW9Q/qHhNPriutl7QmzdmHl7LfR985LToko8D1DBnZDYO9OOPjdSvSn+sL6DKxCFFhmyytfoygzF33/dTFHa3XthvZExNiBKNyRjTJTMXYt/g5Drru91jJGZk5aMv5681l4B4Vg9KxH1ADQ+bwLUFpUhHUfv4VDX7xD6XMwkvINV0JfgiM0jXE4txAJ5NvjvJkQMDFQpICO+CZ7BSYIbpVfZnvqspY16uwK25tosXwufdmYNDCxoE0y4UpEgz/MbjTwEQ+BG33xOZ3b40oDljnPib6gNKbxF5lkmclzXH15VTp9ySmhlAgAY0N/drmM4hLaWbOUDFOLkEy4pxQUIjsvD/6lefCmy6usgIhGIVoRAfEGazd4uw4agPnHhd8q6LeDL5Vu/umkNnCbnYmAOCOPtBbldJW5eJDqnjQV7rSklbQrHvQsWJOhCBn5Jrp4MHWldBfy1UVpzlSHMw3SCivGhTBinHhqgX8QzT+S1XHhnUznx6arthmAjAhqhWd7tzei1X0mDRqRqCDywoTCIBPsOxnEQpEMc55BPpQclVcypHmpoL1BzGW5HMWpPmMahX+UCyufGd2VtBrUB76ov8XUP9Z2lLGWg8L0y0Ikg5vLftW4OZ/wN9J5sKI/0qXwDxIPMSpu9jlultXjJ+Uq8wlnVR8TGyZhlXWXqzjnUTqllVMb2acvrkWeZblunk7kzyvo2bOhLt9XtbUyn8M8CLOv2qK1y3y/k33ie1j0fEqe8vgeXIaaoMavynRKUm1ivOgro2Q4ydDBcRl2lKWcsZssR4w8c07L+s9Yu9Jz4hVifFowT5+5qDh9n+gZG3m87FzleZjTXNV3jmU5TnVwefJd6LvPLyOu9B10JgLuQmC7EulwJq2iC7+QELl3pu+IC5N8SnMqK6Y0msY9sA34e40yFGfi1TYjEW6xu4CWSBZ0bQGH2RkkQc/jdOs4pzXEdaZ9Dba++hUG3H1pQ4pXK9Nl+kisf/JjHPxpDXrMGGuxUWBBnp7Y/clidLlsJMJG9K1W1lZCF5oaWX7na+g483xaGfELTW9MgW+7cFuilrTCrBP4641n4Opuwug7H4Gb58npiW5jJqK0sBCb5n+IdR+9gRG3PwTnyoOoeCDtSgdg8eUox5tinYg/hsz4ozged5T8Y/Bs7Ud7VnRAQERHtKa+ewdUN9zxIXLgY+fUCffRIBaqv1TH6XBJRGoSiYyxzytcksjeJJmmGViLwloVpVGhtrC2xYt+bDyokZ4qnfKJ6LBcIX0/eDqHSVIOTfHkUPlcuthPM9LJz8kvrdS68E84v+GffMtvzL5yX2p1pAFw4qtWodOYqRgYTzvRRT+8dIqbujjuVBmm1z11uBtYY8JynE4/yipMP9QWWZIz8isoncNmGbNvhFnj4kTPy5C1yDFJ0urm+6s4+9S2cvItbaL7V6hLuw/nW9LM7TLayT4fUGfc6zQiXPVWTHqIqCrNFH0OWFPFlxNrhOgzXk4X/w5VMAFin+JOlF9OAyxruEBy7LMcEygVVzKuRJZJp0BhLqMIGKdXhstVWU6nMizD7eA8SlfEjOvl+ihftckgYKq9LqTNoCx6Pjww8yDtSs9QDdqk1XOiZ+NKJNXFILmUx6SVNWk6+eWwIsaVeQYpNsiuIsRcB2vkTsFZVrxRHdwXE7XPm44A0MdKW+Mq31IfZ2uLc57hCDnHOaPB3AI9XJ/4qbSatQuN5bpdeQE2PvcFjvy0VpEFvd5NL3wJ77A2tLyy+mZQupwe7jB+MIJphYbTUTqamn7gdtEKi2E33aWLVAmX0pz5n2/9jzQIhbSXw1Pw9Auoks+RnhMvoc9nIbZ/8wVMZIQ59Mbat7SuVkEjJWSnJCKLyEBG3FHyj5pJQkJsldr9wtojLz0FB1cvM/+AUq6JNozyj+gIfyIQrUPD6XhwutrZJhFVKmsmEbYR4et0OabdrBmhIYPGP7Jl4DAlsuZAaVIqNSusCuV04iJmzQv9CKs3HYqzxoHJJL+x8JvS1RsOIINsUHjw96FppQvb8sLbM8hRP3jA4cGKd0KtydEw0rIcEQsmDuUaQVJEQ6XztJGZWBhkhWU5zSAzBmnhuCGrZFT5yjQaVM3lSQfDRIs+V2VMlFgdYchxOpEsJlfGvSx102dU1Ul5THaUFopecIyyBvlx4nxuhyZvtNOQVXEmho3sqIXKUQsU0XCi6TFFhsnnlVMcB21eB9LcqTwKO5Ndm5HHshVKjvJJy2eWI3mSU2XV59JcJ7EoSx0Vqj6jzMl0Ls/L4bPen6OIiZrEojpcaLdffSzVw9x0e+NcxnAOJQtGIwzfmhHpHdPzDPmG+l0uGdnQotXKOdMPbJdLRmDf/GVIXLuDDCbN+yzw1EQSbd404L4r4BNe/c24WkVaAmsX1vz7Q/SYMxl7l/+E7mQ8GdA+UpM4GfyTNAq5KUm4gGwUWoe0O5lhFeoxajLyUtKx78/FKEjJJk3VuSg6no1CuorolMz8jCz0+dcUhJ13cp8IqyrsjmYcO4TYzWuVLceJuCO0+dVJJu0dGKRsKcL7n6s0CH7hZjKg5nMr75SdTOQiOQHZiXHISorH8dgjOLx+JYroHAx2rHHw79AJ5/xjCtr16l9ZquFeOf3IHd9zDCf2HsNxOo6cwyNpp02vkIYsJm14O061JA/o7jTQs9ks//A0hntrQCTmHkpGMmlGLgz1x+XhgY1RrdTR1AhUvnE782CmOf6MtFhHcymK2DDxUGSFSG4laVHEw0I2zCRFEZBKgsRjDg/mPLiTqpbC5sFcaUnIVobjSsvRDMBzp6WSra/7N/KXfEFtos3xxl8Dtw7mQxCbonnNxsCxKTp3uurk6YYfp86h6YZROP/ZW+kDWoEFw2bCv2sEJnz2qN3N4PLfT34YYbSkc/fe+ehCu0OeZ2N3SLZRSNy1DWOJKARHnVPlPptfWoAEOp676HgOCogQlNO8MzunDnTQVCipzWJNqEjyhCdtX+0V5EebU6WiiGwX2FCz140Tq9RlTyRl3y7EblmLuK0bwJoEdm179FHTCqwZ8G9PpCCsY5WpEnvqZ9kc0jzkJBGJICIRu20jEndsoR00x6LHPy5GYMfO9aquIC0TGUQGju+NReaBeJzYF4sT++PNby1Ug3doIGlraHUC4TfwgRnoc+vketUrQoKAICAItEQEHEoWdG2BrbmV+moW9Hoc9ZB+vuxxZOw+ikuXvoJddNbDrv/7BaNen4XIiUMb1CTjdMv+L16kpg8mP/0GAiOjLHWtfv8VHF77l1r1EKq9VZfk5mMd2VAcouO22U7CM7A1TAGtlc/EwKONL/Zv/BGxMesQffUt6DlhmqqzID0Tax75AHF/bUOX6SMwiI709qBVI/VxvAokPmYTEmI2VyEIHQefj8hzh58866I+lTVA5uDKpbRk9Ttk0pRGD9Iy9J50abXpmKITOdhFu2RmETE4TsQg+0iyupMbbWTVOioM/lHh8O/eAW16RdLVCa60yVVJbgE2PT8P+xYsh3+PDjjvPzcjqG/9yEgDuiFFBAFBQBA4JQRsjaNcoTGW2puvN8ahZEFvyJkePvDNCqx++D0MmH0Ftr78ldoV0t5tpHUMCmlw+4G0C+dcdyG2rHwHnYaOIuPEB5XI+k/fwd4/fsYF9zyGiIEnycgJGgjXPfGROhhr2H9uAttT1ORWvPUcjmxYpewhuo6aYBGLeZfOqaD2B/TsqLQMoUNsq7WYGMT/vdlCEJxJDdau1wCE94s+LQTB0mAtEPPjArWChK3+zyEtQ5+Lr0Q57fOw94vfsZuunNhUtdqEiYEfEQS/LhEIPKeDVoPtYPzKGCINXyJzfxx601RN/zunq1NMbUufOamF2bQbaFoKXD084eUXCHdvspOpwaWSxmjjvPeRezwdnc8bg+gZN9UgKcmCgCDQEhFoNmTBFuMx2BAD3xy0B3V9AD7tfT18O4SgJL8Qo167G0F9OtVVpNb8zS/OV4PcoBemYuMX72HSEy/j2OZ12PnLIoyY+QA6DRttKZ9AA9rqf39Ahr7O6g2YT9uszfEqhGWvPo3EnVvpAKz7FBkx5JM37iGbiQ+QE5eGgQ9egdARXWilwhG1UoFXLvB+DjzQuNGWzWFEEELpeO6Og4Y1uQbBaF9tflFuNraRISeTKU9vf1Qke6BgVwGiyK6k+1VjSTNwUjtTUz1sH6FWaFCf2w8chgCyi2Bj021vfIPtb30L73aBGPzINeg44dyaqqg1PWnnNrXyo02nrgiK6k5G2y61yjc0k41emQxkpyYpP5eW1+ZQPKcyzvm6Y7LAdiBedPmQTYmnfwC8fP1hau2LVXNfUka0LO/m5YXeEy9VZEwvL2FBQBBouQg0G7LQEiDe8MxntFTyNwy8/0plLHiqfco6mozvL3qI7CBuwaqFz4LV+kc3rsbQG+4EL4k03P6v/8SaRz9A6NBeGPrUDfCNDDWyavVLCvIVYchOjMfQm2YhqHM3RQhYnZ9x5BDiN25BQd5xMvQxWxfzksyADp3VqgQe5MJpXwnLcdq13ql+maVEsg79sJqmTVqh7aDu4OPAG+J4h86t732N7OKDQGAp/Np2wMCrb1DnZOj15dFbMi/V5IsNMJkQMRFiIqU7n8BgtB80VJ3x4Vzkha2vLVTGq1E0XdOH9s+oC2/GOY62/47buh6xdOmGnnyfQMK0DWFvkAdeEVJfx21lcpNFzzAzKY5sOchPjkduaooidHo9TO5aBbVVG335BJNfGS4pLCAD1zTSGqRkewBkAAAiG0lEQVQhn648CudlpCM/k559DY4Nbqc883YNuZIsCAgCLQ2BBpOFYtooxd29qoVtTeAUkaGYyVRdljek4a123cjCtCVoFk4cjMeG/3yGC96+l84Q0FfB1oRM3elrH/sQyZv2oM+jE7D6/VcRfRXZGVxotjPg0lte+Qp/0xHXXa8YjaFP3kjG7/a9pRbQgMAahmLa9IYHB96TgR0Tg6CoHnAucEPc4h2KIAx56Ca0je6h8hvz39ElG5SNRezSzVWqbd2xLYIHdkXbgd2V79up5tUeXJC1K1te+xoZO44glIxDe9HOmm4hLti84CN1+mcH0n64e7cirQFpSYgUlNJn2HDGvg6+lasyeKmmO2HAgzuf8xFPBps8MDMuHXjqJ8uEI/O2qLnAfrRnR68bTpI3rpONO9nIk0lC8p6/1W28/QPBqz/C+w9WxCX14B6kH9yH1IO7kXZgL5i8sHM1eVQhD0wiXGktehYZdWYRIcgkYqBIAYV5xYjuPOkevm3DiBC0hUEIWtMuoBxvCLErzs9D+uF9+OPFx1GeTQsLC8ha3Avo9I/hGH7b/fqtJSwICAIORsDWOMpNMrT09ubr3bGbLBTRznRvv/0hYmPjVQOuu24G+vWzvdwuKSkFb775HvLzC+Dj44277roNwcFtaNORcixY8B02bdqiwj179sDll0+Fn1/D3iT1Djk6zG+1HS8c0mjNSIs5iJ8vfRwTvvg3UpJi0G/qDFV3GW2Ks/qR93D457UYOJs0GbdNafA9eWBb/+lcWlHRDcFdeqgljfp+DanUBj5hM23nYbJjuAY9rh7X4HsZBVM278WhH9fgyC/rUJxN+5v7+yBq2ghE0bJR91ZetAx1J5LW70Liup0oTM9WxVjjwLtmtqUriK7gfuYpBZbd+vpCpG09QNtqR2DgvZeh/dhBxq2Uf2zTWmz56v8UKTWWaZoJQqRaqVFFuIZI3PaNiN+2UWkIjLduL7dg5O3NQUhUHwQOCEd+YQrSUw7SXhFmA8o2nbuSHce5iCCCwBqE2hyTBSYNTB7SDxGJOLDHpjgTllZtiAwEhtC0QTC8/YLh6RsIr9aBtK2tmSy6+/rAw9cbbq29ySahOlG3WXEtid9MvAdZh1NoMyDeURAY+crt6Dzp/FpKSJYgIAi0JATsJgvz5i1CVnY2bp95I44cOYYXX3wTL7/8X3h6Vt8F8Ikn/ocRI4bhggtG4Lff/sDWrX9jzpz7cPjwUaxatQ4zZkwnslCBDz74DGFhoZg2bVIVBmSwIQb8TLBZaKoPxp+zXkMRDagT6IRMdpmHE7HqwblIp2O2R756JzpdNKypbm2plw0FeZMpnmbpRsdsR00bCU8avD1p2aVxOJZFuIZAFrX7MJGDo3SIV+bBBCUVOXEIOk8bjohR/WsoBVrSGFdJHnYr9T+ft6Ec7XHB0xV8SJdHm9aIphUcTDZOh0s/vN8ytcD7P1gcz9gcpx3pTrjREeFB8A4Ohk8Y2QDQ5lyt2oegFZ1F4kMXn0lSQHtbMBFivyA9C0Xk55NvjtMeGBzPoemEkkxUFFPFRbTrXCHtVldCo7Udzpm24TYReXBv7UmXD2kYvODuR35rL0UmuCp+vhW0A2QZ+Rzmi8MVtJFOQUa2OkuljHcuJMdr9HnjsEnzn1Bx+ScICAItHwFXe7u4YcMm3HX3bapYZGQHhIe3w+bN2zB8OKlmNZeQmIy0tDSMGnWeSh0zZgS+/fZnpKdnoFOnjuoyxIcMGYQff1yMSy65yEiykAYjQScORtrZ4ne9bDR+v+l5ZB1JUhb9Kx94GyV0HPWkhU9b3q6bGgtnOmfg3Ef/SasHOirSsO/LZZZb8sFcHgE0+PhXLtGk5ZmefAX5qz0ceCA8/PM6JJGWgF3QgC7g1RqsSXCh0yPrcrxfBV89r79QiaYRSTI0D7zxFS/z7H3zpLqqadR8nhrgq//0a9Uc/9ENa+DmSgaCXm2Rl5iOHNq3Ipf83IR0pG7brzQo9WkAEy8mPh603NUrJEDh7UHLX109TLRRDG1HSwM/+650LoQTHb7lQs9FpZPvTGnGNFRRVi5K6NCwQjqXpCQnn8hmLoqz2M9DIeVlxSZb8rldfI4Ekwq+jDr5mXO4nHfes94Vj0mROEFAEDhrELCLLLDtQU5OLkJD21oACgkJQmqqea7VkkiB1JRUBAYG0sZSlWpRsm/wpWkGlm3Txrz7m6EtiIuLR0hIcBXtgZFn1GkdN9LZry1PlztTw7xfAs/Bx7zzHQ59v5r2A2iP8R8/TAPy6d9ylwd43o8gNy6FjOJ498equ0CyUWYqTQfwRlC87avheAVB3zumoQtpEVp1OPn5MfLt8XmvA776zrzYnmJNJsu7UfacOLXW+stoU6yceDIiTEhDDl3FmXlq7wsmAvwceT8MRQoqjzCvtTIHZP569dM4QZtYFecVqj38e99yktg7oDlyS0FAELCBAI+F7IyX61ON67ewiyzk5uapsl7alIMHrdHOyzOn6xXn5eXDg96GdOdF1ti6LHcoMzMLy5evxH333WHpIJcxOmuUt44b6YZsAZ3w15JdxynDsO7h9xFOp1Ke/8odqquO6rNXxxDwVZfjvSKK6WI1dkh0d4u4o9ptaYCDAqZ2AeArMLqbzRbQ0TKkMWqen+PRHz6Iw1//Bd75MvT83gggsna2PkebD08SBQEHImCYAViPk6ca17tkF1lgI0V2hWQx70kDvzlcQIaJ1d9wWbaQjurVXX5BAby1jV9K6KwANpYcPnwYeEpD1xDoYa7DOq7Xy2FDg2Gd3lLinSafR5sCJdCmT5efMV3ypjdmvvy7nDFNlobWgkCXGRfUkitZgoAg0JIRsIss8PLHVq18kJCYgqjOHRUuycmp6No1qhpGQcFByMjIUKsdeEc9XmqZRVoEXg3Bjgf/d9/7BJ5eHmolhL0MyPqG7jRf29LdkEeubuldlP4JAoKAICAINEME7DOrpg4MHjwIy5etUF3h5ZNx8YkYNKifim/Zsp1WPMSocFi7tspmYfXq9Sq+YsVatG8fruwVmCi8R0QhOysbd95xi5py4DS+DKeHOc06bsiJLwgIAoKAICAICALmcVIfKzl8KnEdU7uXThbQVMIrr7yDbFo+yXOW1157BaKjB6g6X3jhDZoOcMbs2XeqOJOJ115/FyYybiylI0DZLiE0NETZKHz++VdqUydO530X2M2ceROREXNdKkH+CQKCgCAgCAgCgoDDEbCbLBgtziKtANsl6LYCxcXmY5D1KQFmNWzE6O9f3a7BqMvwWdaYjtDDnG8dN8qILwgIAoKAICAICAJNi0CDyULTNktqFwQEAUFAEBAEBIHmgoDdNguN2XDWFhiOw9ZxI499PU9PryvPWlbigoAgIAgIAoJAS0TA1jiqj5325usYiWZBR0PCgoAgIAgIAoKAIFANAYdqFvTW2GI81vl6XMKCgCAgCAgCgoAgcHoQEM3C6cFZ7iIICAKCgCAgCJyxCDhUs1DXXIqOqi6rp0tYEBAEBAFBQBAQBJrZPgvyQAQBQUAQEAQEAUHg7ELAoZoFa6h17YEeZjnruHVZiQsCgoAgIAgIAoJA0yAgNgtNg6vUKggIAoKAICAItBgEHKpZ0LUFHLaO6yjreXo6h2vLs5aVuCAgCAgCgoAg0BIRsDWO6uOjvfk6RqJZ0NGQsCAgCAgCgoAgIAhUQ8ChmgW9NbYYj3W+HpewICAICAKCgCAgCJweBESzcHpwlrsIAoKAICAICAJnLAIO1SzUNZeio6rL6ukSFgQEAUFAEBAEBAHZZ0E+A4KAICAICAKCgCDgQAQcqlmw7reuPdDDLGcdty4rcUFAEBAEBAFBQBBoGgTEZqFpcJVaBQFBQBAQBASBFoOAQzULuraAw9ZxHWU9T0/ncG151rISFwQEAUFAEBAEWiICtsZRfXy0N1/HSDQLOhoSFgQEAUFAEBAEBIFqCDhUs6C3xhbjsc7X4xIWBAQBQUAQEAQEgdODgGgWTg/OchdBQBAQBAQBQeCMRcChmoW65lJ0VHVZPV3CgoAgIAgIAoKAICD7LMhnQBAQBAQBQUAQEAQciIBDNQvW/da1B3qY5azj1mUlLggIAoKAICAICAJNg4DYLDQNrlKrICAICAKCgCDQYhBwqGZB1xZw2Dquo6zn6ekcri3PWlbigoAgIAgIAoJAS0TA1jiqj4/25usYiWZBR0PCgoAgIAgIAoKAIFANAYdqFvTW2GI81vl6XMKCgCAgCAgCgoAgcHoQEM3C6cFZ7iIICAKCgCAgCJyxCDhUs1DXXIqOqi6rp0tYEBAEBAFBQBAQBGSfBfkMCAKCgCAgCAgCgoADEXCoZsG637r2QA+znHXcuqzEBQFBQBAQBAQBQaBpEBCbhabBVWoVBAQBQUAQEARaDAIO1Szo2gIOW8d1lPU8PZ3DteVZy0pcEBAEBAFBQBBoiQjYGkf18dHefB0j0SzoaEhYEBAEBAFBQBAQBKoh4FDNgt4aW4zHOl+PS1gQEAQEAUFAEBAETg8Colk4PTjLXQQBQUAQEAQEgTMWAYdqFuqaS9FR1WX1dAkLAoKAICAICAKCgOyzIJ8BQUAQEAQEAUFAEHAgAg7VLFj3W9ce6GGWs45bl5W4ICAICAKCQPNB4MCBQ/j66+/tbtBPPy3G9u07ai2XmZmNW2+9B8XFxbXKGZmff/EVFi36wYja5T/22DPYsWO3XWVaonCzIgtOTk4WjPUwJ1rHLYISEAQEAUFAEGh0BDZs2IJ16zY1uN7CwiJkZmbaXX7btp3o1q1LHeUqUFJSUofMyeyy0jKUlZWfTLAjVFxSivLyhpU1bvP66++e8S+8rkZnHOGztsAgAYbmQI8bYW6bLmvd1tryrGUlLggIAoKAIFA3AkePxsLd3b1uwRokevc+B3zZ4zIyjsPHxwuenh72FGvWskya6tKUNFYHbI2jXLcxltqbr7fLoWTB6IDeGaNxep6tfEOurjxdTsKCgCAgCAgCdSPwzTc/YdWqdXB2dsKWLdtwxRWXoGPH9nj33Y8xadI/8NnnCxA9aAD69++Fn376HUeOHEVwSBAmXjgO/fr1Vjf4++9dWLNmPWbOvEnFX311Li68cCx+/XUpjh49hujBA3DF5dOqEJJt2/6m8n0sDVy7diO+//4XFBUVEYnwoUEPGDnyPERHD7DIGIGNG7fghx9+RVZWNrp0icK1116OgAB/Ixs5ObmYO/cj7Nq1B4GBgbj++isRGdlRaSh+++0PbNq0TZUdOnSw6mOrVj6WsvUJsKbjww8/x549++Dh4YkLLhiBgQP74o033lPF//3vZxAc3AZ3332bassXX3yNvXv3U7+8ceWV0y3EinEaOjQay/9cifj4RER17oSbb74WrVu3qrMZdY2b9ubrN2w20xDMeAzWww3Uw7bieickLAgIAoKAINB4CEyYMIYG3M5q0Jo9+050796F1Phl2L//IBYvXoq777oNkyePR3Z2LsaMGY6XXvoPLp1+MQ2Wn1lU9vn5BUhNzbA0KjklFQsWfItLLpmMRx65D9tpumH37n2WfA5s27aDCIiZbKSQ/EcffaEGV67fz88Xw4cPw+jRw6uU4cjevQfw2Wdf4YYbr8arrz6Hdu3a4rXX5lraYsiMGnU+5T+LQYP64s03P1R9cnZ2Vm/e9957O/Xjv+D7rlmzodo96kpYuXIdjp/IVHU88cQDilwxWbnqqstU0dmz78ANN1ytwnPn/h9CVRufwzXXXIH33vtEEQjOZJxWrFiNG2+4Bi+9+DQRNmd8QTYXjnbNhiww49FZjx5mkKzjjgZO7i8ICAKCQEtFwNvbGyaTm3pD9vf3g5ubm+pqaWmp0jKEhoYojQBrEXiqgef03dxc1MB25MixGmGZNm0iDaIR4PI9enQl8nHIIsvkgjUIfD92CYnJCAsLVRffv3//PoiNjYOra3WF+LLlK8FEgN/C3dxcMX36ZLKXyMK+fQct9UdH91f35LomTRqP/Px8HKa2uri44KKLJigykpWVhbZtQ5T2wVKwngFvby9kkeFlamoaGL9u3aIUHr6+rVUN3C/WDiQmJiEpKRkXT7lQjWuMQ0REOxw4eBKLCRPGUjuC4eXlhSlTxisSZf0CXc9mNZpYddQbreq6K+LOGyTAAEKPG2GuSZetu2aREAQEAUFAEGgKBFiVbri0tHR8+eUi9VYcFdVJJWdl5xjZNvyTRuysfi8oKLDI8LRF7z49LfGozpE4QW/qsbHxagDfti0Gg2xMP3CBVHob79e3l6Usv40HBwchJTVVEQRLRmWA81u1akXtNrd16dI/sXLlWoSHt1Pahuxa+2Bdmzk+ZMggNY3xyitvI7BNIJGqqYq8WEsnp6QhL68AvMrCcCVkgFlSXGpEq/h+fn5gksZYMXmozdkaR1neGEvtzdfv5VCyYHRA74zROD3PVr4hJ74gIAgIAoKAYxB48833aW5+pLIj4BZsj6l9yWNtrdy+/W/1xm/I8Ft4ZGRHLFz4PYqKSxQZGEX2Cracv7+/0iToeSdOZCGA0m05HnxZi9CGbBe2bNmOv/5ajUcfvZ8GY0+sX79ZTbXYKldX2vjxYzBu3Ciqbw1NIbxF9grPVysSoDQnTpgzZ7a6XzUBq4TU1HR4eHrWSRS4WF3jpr35elOazTQEN8pgPdZhW3FOEycICAKCgCDQNAjwW2xyckqtlbPRYEhIsJJhI8esrNq0CjVXxfYQiTTtEBERZhFKTk5FWloa7rvvDsx55F5MnDjOMhjy1AE7Lsfu3HMHqgHf0AisXr2expNydO0apfL5X0JCEu3LYF5u+fMvvyMoKFBpEnJyc9X0ABMFrm/nzj2WMhxwpXtxXXU5nlLh/R9Ya8GGjWzwWFhYSFMSZm0A94cd9zEoKAA//7zEsvyTNSi6O3z4mBoPuT2//LIE55IxqKOdQzUL1p3XWY8eZjnruHVZiQsCgoAgIAg0HgLDhw/FCy+8gYcfeQoX0hx6X03Nb9yFV0a8886Har6f7Qt47r0hbt++A9X2VuDBvJymqmfNerByMPciTUMHTJ06iaYQfMiIMZS0Dj/gn/+8UhliJiWl0Nv60/CmVRP06ok777yZbC5MluZ4eXng8SeeRWlJGQ3oTpR/ixrYB0cPxLI/VuChh5+EiZaK8mqMuLh4S7nuPbqo++irNCyZWiA5OVmtFmEbBZ6emUw2CcYKhsGDB+Lpp19QthqPPfYA7rjjFrz//qf4a8Ua0n74wpOI2cMP3a3sJ7hKJl4PPvgkkY0CtG8fgcsuu1i7k2OCDj1IijUJzPRMJneLVsEgBZxnhBka67gOV215upyEG45AUVGxmo/T5ysbXpuUbAwE+C2Kvibw9a17SVVj3E/qqBuB9PQT9Cbp2WL2CeC3Y16KGBgYUOX3WEeCd1HkDY9OZW+EL+Z9jQH9++Kcc7pZqmYbhlWkIbj+uivVOJGXl495JNezZ3dlkMhGlfwd4FUShuPpBdZ2GEaSnJ6YmEI2D0GKGPBYwYaPer5RlvtpGCMaaYZ//PgJtQyTy9ty+ljFsqyV0YkKl2HtAY91ut0Bt5+1JIb2geUeevgpXH3VpbQCpavSTBiEg/Pqckb7jPacaly/n8M0C8wCeb6LLVLZ0OSuu24l1cxJwxmjs0ZjreNGOvu15elyEhYEBAFBQBCoPwK8cqANGevV5k5l4yaj3v20amEG7TWgO14O6enhoVYW0OICNZDzwOrpaVbrs7pfJwpclldK2CICRr08VtSUXxNR4LK8BJLHqtdoJ0ZbbuCAfmB7BXb63g66rK371kQEeJB3d3dTl15HXWHrsfBU4/r9HEYWeHMP3rSCjWMWL/5DqWTmzLnPMvAzWHpHreN6JyQsCAgCgoAgcGYiwBqCW265zqKCN3rB48Pbb/+fetMOpWWEvLvjgAF91b4Ohszp9FkjMIf2h2hqFxjgV2Wjqqa+X33rdwhZ4PWzbLjC62LZ8Yfiu+9+BqtvWN3FTicKtuJKSP4JAoKAICAInNEIsIZAN2w0OsNjweOPP6De6EtpaWFNb+GGfEvxH3zw7mbZFYeshuA1sbzdJn9I2LEai9eSptD6U8MZcy01xY108QUBQUAQEARaLgL8Rn+2EIVTfYo8bupj56nG9fY4RLPAhips/KFrD9g4Ji8vz9I2PY8TreMWwcpAXFyidZLEmwABwbkJQD3FKtlISlzzQUDfaKj5tOrsbklCQnKLBsBYhWI9Tp5qXAfNIZoF3rmLT+LSHa9H5XTDGezI8I108QUBQUAQEAQEAUGgZgSMcdPwa5Y059RHziGahSDahjMjI0PtJ85TEbz0hs89Nzb34OYbjMjw6+qswazqkpP8hiHAz+jEiWx6RidXrDSsJinVWAjwEjFesubnZ957vrHqlXoajkBaWss7YrnhaDSPkvGkVQhrF2IZU5pHq5q2Fca4afh13a0+cg7RLITRaVtss8BraJnRrFixlgxcwqusYzWYjrXPnbaVVhcYkn9qCNBjoi/bqdUhpRsXAf4e1OdL3rh3ldpqQ0CeR23oOCiPf7zEnTICDtEscKtvueWfeJ3WrP5GyyZ5Iw3e0pOd8WWrybclowrKP0HgrEOA2Vvd29CedbA4sMNCqh0Ifo23lrecGqGxI8MhmgVuX/v24eoM9AcevAsv0pndfGSpLWetRZC4mSULDoIDa3rkc9C8PgdQz0SeS7P6XJ4F3xPeq4KdjjuH9bier4S1f9ZyWpYl6NDtni2tkECzR4C35ebtSkNCgpp9W8+WBmZn59KPQXmNW9SeLTg0p35mZPBWvy1nu+fmhG1D23I22iw0FKvayjmcLDCj4SmHU/Vr66TkCQKCgCAgCAgCZwMChpbAmMrX+2w9zlrncdxWOZVOhcX6Q0dMwoKAICAICAKCgCBQBQGH2SxUaUU9IganqcmvRxUiIggIAoKAICAICAINQMDh0xANaLMUEQQEAUFAEBAEBIHTiIDDNQv11RTUJCfpzcsaXJ6HPA/+/ZLPgXwO5HNw+r4H+moI/u7V5/uny9WHc4hmoT4oiYwgIAgIAoKAIHAWI+BwzUJN2OvMyAjXJCvpgoAgIAgIAoLA2Y6AMVYafk14GPmGX5Ocni6aBR0NCQsCgoAgIAgIAoJANQQcrlmwxWz0NCNs+HoPbKXp+RI+NQT48Chr98mn87Fw4ffWyRJ3IAKPPvpfxPy9y4EtOLtvzd8T/beINy+79dZ7UFJSdnYD46Del5WVqcMJ9duvW7cJzzzzsp4kYTsRcNjZEEY7bW0AoacZYcM3yrFvK03Pl3DDEFi1ah1++mkxCgoKaVvuCEydNgldojqpysroHA8+6VCcYxDYu/cA3nzzPVx//VWIjh6gGlFSUoKKctku5XQ/kczMLLz77seIi4sHn547evQIXHLJRUQcQESBngntrgm4nO5mnbX3Y8L28cfzEBOzU5G3rl2jcNvMG+Dq4qpOOC4tFfJ2Kh8Oh2sWjMYbzNzarytftwJlWevyErfPKrugoADbY3bhoYfuwRtvPI8ePbpi4dffa7ian4jgah+ujYFXUVERPvlkHnx8fOjNqUQ9iMaoV743DfvdePPN99GlS2e8/fZLeO65J9GpUwf1PTl5Omv9rNIF/4bhb43bhg1bcODAIbzyyjN4+eX/Ijs7h040XqO+J3QH5bfU7wuPg9w3e8fDSnDq5TUbsmBoCax9oxfW6UacGT07Iy6++YS1huLg6emJWXfeTEeIByhMR48+HwcPHkZhYWElzvzFNuPN6r5XX52L9es3C/6VI0RDca9PuQULvkOvXj3VUe7V5dXjQXp6Bp5++kWkpKRWPq9T+zxUv4/Ux8Du23cQWVlZmEZaN3Y+Pl7o16+35XvAaYwdX1u2xNCheW8p1bjg2XSfn4LCIoS2awsXFxe4ubkpInfieCY/CnJV77to0Y/4cv43lud1pj8XHge5D/aOh2Zs6ve/2ZCF+jVXpE43AnFxCfRD6A0mEYarHBfpLXe+OjRnyJBBRpb4TYTA7t37sGfPXlx++cXq7cF4Q+Lbmd+ZgKKiYtIGvY/hI4aibVvbp7g2UfPOumr5exHZKRKpqelYtmwFkpJSqmHApDohMRmff76AnttUuLu7V5ORhMZDIHpQX8TFJuDXX5cqrUJMzA4MGRJd7QZr1mzAtm0xmDZ1YrU8SagZASELNWNz1ufwgLRw4Q+YMGFsNSz++GMF4uMTcdNN11TLk4TGRYCnHz7+5EvC+p+1DjgffPgZunbtjNGjzm/cBkht1RDIyDiOZCII8+cvUgPT66/PxTff/FhFjqf03nzjXVxzzeXo0CGiSp5EGh8BLy8vpU3YuHELZs/+NyIiwhEe3q7KjY4ejcWiRT/g7rtnVnkBqiIkEZsICFmwCYskMgLz539Lqi1njB8/pgoghw8fxQ8//EJGXMVK5VclUyKNjsBXX30PL9LsxMbGqbdYVn/v2bMf+/cftNxryZLl2L1rD0rJAFVc0yPAam7WuN1zz0yairgIt99+M1bTG6uu8WHjR543LymRZ9L0TwTgaTomDE8++TCeeOJB9X355ZffLbfOz8/D2+98qL4jxrSDJVMCdSIgZKFOiM5OAR58tmzdjlmzbqlGCHjQuv/+WfD19aVVEye/jGcnUk3f63Y0D3vOOV2VPQLbJBSRcSMPQrm5eZabZ2dnk63CHLIE36Hm0y0ZEmgSBEJCgugZZFvmvCMiwpCdla2ei3FDPz9fRSa++uob5OfnG8niNxEC/Hs1fPgQVXt4eBitTJmMtWs3WO7GU0YTJ/4D48aNwae0BFycfQgIWbAPr7NCetmylVi8eCkefIAJQetqfR4+/DylVr322iuwZMkfFmO6aoKS0CgIjB07EldccYnlCg5qg3PPHYgBA/pa6p8+fQratAnE9OkX0w/hl7S8VZaJWcBpgsCgQf1xIjObyJl5f4utW2PI8NSvyvfluutm0LRQFHr2PIe0dN80QSukSh2BkOAg7Ny5x5LEdj4BAQGWePv24WqKbtKkccjIyADbLoirPwIO32eh/k0VydOBABtqzZv3NVxdXcCb/RhLcUaOPA/848fOxcXMMdu2DcaYMcNpbfN8PPzw3aejeXKPGhAwrKCHDx+KlSvX4scfFyv1eA3iknyKCHh4mDBz5o14/72PzUtZaUruX7deX6VW45lcccU0zJnzNPbu3Y/u3btWkZFI4yHAv0/vvPN/2LRpq1q9ZTKZ1PSQcQdnZ/OeF7xa4tprr8R79Oz69u2pnp8hI37NCMh2zzVjIzmCgCAgCNSKANsosLGjsdS4VmHJPC0IZNF0EDtbWtHT0oAWehMhCy30wUq3BAFBQBAQBASBxkJAbBYaC0mpRxAQBAQBQUAQaKEICFlooQ9WuiUICAKCgCAgCDQWAkIWGgtJqUcQEAQEAUFAEGihCAhZaKEPVrolCAgCgoAgIAg0FgJCFhoLSalHEBAEBAFBQBBooQgIWWihD1a6JQgIAoKAICAINBYCQhYaC0mpRxAQBAQBQUAQaKEICFlooQ9WuiUICAKCgCAgCDQWAkIWGgtJqUcQEAQEAUFAEGihCAhZaKEPVrolCAgCgoAgIAg0FgJCFhoLSalHEBAEBAFBQBBooQgIWWihD1a6JQgIAoKAICAINBYCQhYaC0mpRxAQBAQBQUAQaKEI/D9bATbz13TaGAAAAABJRU5ErkJggg==)"
      ],
      "metadata": {
        "id": "51L0WJVlHO5U"
      }
    },
    {
      "cell_type": "markdown",
      "source": [
        "Due to the unknown error of the Wandb package, the experiments run on the CU Research Server are not fully recorded, but their losses do not change much in the end. <br>\n",
        "It is notable that the loss for the bertpatent with glove information does not really go down eventually."
      ],
      "metadata": {
        "id": "dM1am6wMFvGJ"
      }
    },
    {
      "cell_type": "markdown",
      "source": [
        "### Comparison of training runtime (in seconds)\n",
        "\n",
        "![image.png](data:image/png;base64,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)"
      ],
      "metadata": {
        "id": "aacQaEzJBObe"
      }
    },
    {
      "cell_type": "markdown",
      "source": [
        "The distillbert and the berpatent are different in terms of speed largely."
      ],
      "metadata": {
        "id": "t53HYccUIGpe"
      }
    },
    {
      "cell_type": "markdown",
      "source": [
        "## **Results and Discussion**\n",
        "|       **Model**      | **Pearson score** |\n",
        "|:--------------------:|-------------------|\n",
        "| BERT-Patent          |      **0.84**     |\n",
        "| BERT-Patent + GloVe  |        0.01       |\n",
        "| BERT-Patent + Titles |        0.83       |\n",
        "| distillBERT          |        0.81       |\n",
        "| distillBERT + GloVe  |        0.80       |\n",
        "| distillBERT + Titles |        0.80       |\n",
        "\n",
        "\n",
        "We observe that BERT-Patent performs the best of all model configurations. Augmenting it with titles does not seem to help much. On the contrary, the predictive performance drops by one percentage point. When augmented with GloVe similarity scores, we saw an unexpectedly poor performance. Looking at the score and the corresponding loss curve (which is pretty flat from the outset and shows no signs of convergence), we believe that our fine-tuning for this configuration may need to be debugged in the future. \n",
        "\n",
        "As far as distillBERT is concerned, we see a similar theme. The best performance is achieved by the unaugmented distillBERT model whereas augmenting it with either GloVe similarity scores or CPC titles affects the performance negatively (only slightly, but a drop-off nonetheless).\n",
        "\n",
        "It is noteworthy that despite competing with a model that is almost five times its size in terms of total parameters, distillBERT demonstrates an extremely competitive performance. The best distillBERT model achieves a score of 0.81, which is only 3 percentage points off the highest scoring model overall (BERT-Patent with no augmentation). This goes to show that we may be reaching a point of diminishing returns as the number of parameters increase. If performance is primary, BERT-Patent should be the first choice. However, if speed is more important to the user, distillBERT should be the obvious choice because it takes way less time for fine-tuning without a significant drop-off in performance. distillBERT is also a better choice when computational budgets are more limited."
      ],
      "metadata": {
        "id": "KaZNit19Ff_0"
      }
    },
    {
      "cell_type": "markdown",
      "source": [
        "## **Future Plan**"
      ],
      "metadata": {
        "id": "l7mHUMfJA5Eq"
      }
    },
    {
      "cell_type": "code",
      "source": [
        "class customModel(nn.Module):\n",
        "    def __init__(self):\n",
        "        super(customModel, self).__init__()\n",
        "        \n",
        "        config = AutoConfig.from_pretrained(CONFIG.model)\n",
        "    \n",
        "        self.bert = AutoModel.from_pretrained(CONFIG.model, config=config)\n",
        "        self.drop = nn.Dropout(0.2)\n",
        "        self.fc1 = nn.Linear(50,config.hidden_size)\n",
        "        self.fc2 = nn.Linear(18,16)\n",
        "        self.output = nn.Linear(config.hidden_size, 1)\n",
        "        \n",
        "    def forward(self, *inputs,anchor_glove,target_glove):\n",
        "        ##Batch size is 16 in this case, and the max token length is also 16.\n",
        "\n",
        "        ## We get the last hidden state from the bert output\n",
        "        ## The size for the below x is batch_size * token_length * hidden_size (768 for distillbert and 1024 for Bert Patent)\n",
        "        x = self.bert(*inputs).last_hidden_state\n",
        "\n",
        "\n",
        "        ## We cancatnate the two glove embedding belove\n",
        "        ## The size for glove is batch_size * 2 * 50\n",
        "        glove = torch.cat((anchor_glove.unsqueeze(dim=1),\n",
        "                           target_glove.unsqueeze(dim=1)),dim=1)\n",
        "        \n",
        "\n",
        "        ## After passing the first fully connected layer, the size is batch_size * 2 * hidden_size\n",
        "        glove = self.fc1(glove)\n",
        "\n",
        "        ## To concatenate the bert output and the glove embeddings\n",
        "        ## The size will be batch_size * (token_length+2) * hidden_size\n",
        "        x = torch.cat((x,glove),dim=1)\n",
        "\n",
        "        ## Use the fully connected layer to convert it back to batch_size * token_length+2 *hidden_size\n",
        "        x = x.reshape(16,-1,18)\n",
        "        x = self.fc2(x)\n",
        "        x = x.reshape(16,-1,1024)[:,0,:]\n",
        "        x = self.output(x)\n",
        "\n",
        "        return x "
      ],
      "metadata": {
        "id": "TAslv2qkA0IJ"
      },
      "execution_count": null,
      "outputs": []
    },
    {
      "cell_type": "markdown",
      "source": [
        "The above architecture is what we will do for the next stage. <br>\n",
        "Due to the limitation of time, we have not run and evaluate this model with the entire dataset, but we will do it in the future to achieve better results.<br>\n",
        "This model instroduces the glove information in the middle of the process rather than introducing the glove tensor directly to the bert as inputs."
      ],
      "metadata": {
        "id": "efHRsPUpDgaB"
      }
    },
    {
      "cell_type": "markdown",
      "source": [
        "References:\n",
        "1. https://www.kaggle.com/code/ksork6s4/uspppm-bert-for-patents-baseline-train"
      ],
      "metadata": {
        "id": "LAJj2OuL9Jmt"
      }
    }
  ]
}